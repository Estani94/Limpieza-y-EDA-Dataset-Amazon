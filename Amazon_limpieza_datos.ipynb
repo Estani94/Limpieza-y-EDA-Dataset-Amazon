{
 "cells": [
  {
   "attachments": {},
   "cell_type": "markdown",
   "metadata": {},
   "source": [
    "El dataset utilizado en este proyecto se extrajo del siguiente enlace:\n",
    "\n",
    "[Ir al dataset](https://www.kaggle.com/datasets/joyshil0599/a-comprehensive-dataset-of-100k-amazon-products?resource=download)"
   ]
  },
  {
   "attachments": {},
   "cell_type": "markdown",
   "metadata": {},
   "source": [
    "# Librerías\n",
    "\n",
    "Cargamos las librerías que utilizaremos en este análisis exploratorio de datos"
   ]
  },
  {
   "cell_type": "code",
   "execution_count": 265,
   "metadata": {},
   "outputs": [],
   "source": [
    "import pandas as pd"
   ]
  },
  {
   "attachments": {},
   "cell_type": "markdown",
   "metadata": {},
   "source": [
    "# Introducción"
   ]
  },
  {
   "attachments": {},
   "cell_type": "markdown",
   "metadata": {},
   "source": [
    "## Cargamos el dataset y observamos las primeras cinco filas"
   ]
  },
  {
   "cell_type": "code",
   "execution_count": 266,
   "metadata": {},
   "outputs": [
    {
     "data": {
      "text/html": [
       "<div>\n",
       "<style scoped>\n",
       "    .dataframe tbody tr th:only-of-type {\n",
       "        vertical-align: middle;\n",
       "    }\n",
       "\n",
       "    .dataframe tbody tr th {\n",
       "        vertical-align: top;\n",
       "    }\n",
       "\n",
       "    .dataframe thead th {\n",
       "        text-align: right;\n",
       "    }\n",
       "</style>\n",
       "<table border=\"1\" class=\"dataframe\">\n",
       "  <thead>\n",
       "    <tr style=\"text-align: right;\">\n",
       "      <th></th>\n",
       "      <th>Product Description</th>\n",
       "      <th>PriceDollar)</th>\n",
       "      <th>Number of reviews</th>\n",
       "      <th>Real priceDollar)</th>\n",
       "      <th>Free days</th>\n",
       "      <th>Shipment</th>\n",
       "      <th>Delivery Date</th>\n",
       "      <th>How many sell  in past month</th>\n",
       "      <th>Stock update</th>\n",
       "      <th>Age</th>\n",
       "    </tr>\n",
       "  </thead>\n",
       "  <tbody>\n",
       "    <tr>\n",
       "      <th>0</th>\n",
       "      <td>Spider-Man Marvel Legends Series Across The Sp...</td>\n",
       "      <td>24</td>\n",
       "      <td>71</td>\n",
       "      <td>24.99</td>\n",
       "      <td>90 days FREE. Terms apply.</td>\n",
       "      <td>Ships to Bangladesh</td>\n",
       "      <td>Tue, Jun 20</td>\n",
       "      <td>200+ bought in past week</td>\n",
       "      <td>3 left in stock - order soon.</td>\n",
       "      <td>4 years and up</td>\n",
       "    </tr>\n",
       "    <tr>\n",
       "      <th>1</th>\n",
       "      <td>Spider-Man Marvel Legends Series Across The Sp...</td>\n",
       "      <td>22</td>\n",
       "      <td>55</td>\n",
       "      <td>14.99</td>\n",
       "      <td>90 days FREE. Terms apply.</td>\n",
       "      <td>Ships to Bangladesh</td>\n",
       "      <td>Tue, Jun 20</td>\n",
       "      <td>200+ bought in past week</td>\n",
       "      <td>3 left in stock - order soon.</td>\n",
       "      <td>4 years and up</td>\n",
       "    </tr>\n",
       "    <tr>\n",
       "      <th>2</th>\n",
       "      <td>Fisher-Price Little People Musical Toddler Toy...</td>\n",
       "      <td>7</td>\n",
       "      <td>2,895</td>\n",
       "      <td>9.99</td>\n",
       "      <td>90 days FREE. Terms apply.</td>\n",
       "      <td>Ships to Bangladesh</td>\n",
       "      <td>Tue, Jun 20</td>\n",
       "      <td>100+ bought in past week</td>\n",
       "      <td>3 left in stock - order soon.</td>\n",
       "      <td>12 months - 5 years</td>\n",
       "    </tr>\n",
       "    <tr>\n",
       "      <th>3</th>\n",
       "      <td>CatToysOfficial - CAT Little Machines 5pcs Con...</td>\n",
       "      <td>5</td>\n",
       "      <td>2,530</td>\n",
       "      <td>24.99</td>\n",
       "      <td>90 days FREE. Terms apply.</td>\n",
       "      <td>Ships to Bangladesh</td>\n",
       "      <td>Tue, Jun 20</td>\n",
       "      <td>100+ bought in past week</td>\n",
       "      <td>3 left in stock - order soon.</td>\n",
       "      <td>36 months - 6 years</td>\n",
       "    </tr>\n",
       "    <tr>\n",
       "      <th>4</th>\n",
       "      <td>Spider-Man Marvel Legends Series Across The Sp...</td>\n",
       "      <td>22</td>\n",
       "      <td>40</td>\n",
       "      <td>85.99</td>\n",
       "      <td>90 days FREE. Terms apply.</td>\n",
       "      <td>Ships to Bangladesh</td>\n",
       "      <td>Tue, Jun 20</td>\n",
       "      <td>90 days FREE. Terms apply.</td>\n",
       "      <td>3 left in stock - order soon.</td>\n",
       "      <td>4 years and up</td>\n",
       "    </tr>\n",
       "  </tbody>\n",
       "</table>\n",
       "</div>"
      ],
      "text/plain": [
       "                                Product Description   PriceDollar)  \\\n",
       "0  Spider-Man Marvel Legends Series Across The Sp...            24   \n",
       "1  Spider-Man Marvel Legends Series Across The Sp...            22   \n",
       "2  Fisher-Price Little People Musical Toddler Toy...             7   \n",
       "3  CatToysOfficial - CAT Little Machines 5pcs Con...             5   \n",
       "4  Spider-Man Marvel Legends Series Across The Sp...            22   \n",
       "\n",
       "  Number of reviews Real priceDollar)                   Free days  \\\n",
       "0                71             24.99  90 days FREE. Terms apply.   \n",
       "1                55             14.99  90 days FREE. Terms apply.   \n",
       "2             2,895              9.99  90 days FREE. Terms apply.   \n",
       "3             2,530             24.99  90 days FREE. Terms apply.   \n",
       "4                40             85.99  90 days FREE. Terms apply.   \n",
       "\n",
       "              Shipment Delivery Date How many sell  in past month  \\\n",
       "0  Ships to Bangladesh   Tue, Jun 20     200+ bought in past week   \n",
       "1  Ships to Bangladesh   Tue, Jun 20     200+ bought in past week   \n",
       "2  Ships to Bangladesh   Tue, Jun 20     100+ bought in past week   \n",
       "3  Ships to Bangladesh   Tue, Jun 20     100+ bought in past week   \n",
       "4  Ships to Bangladesh   Tue, Jun 20   90 days FREE. Terms apply.   \n",
       "\n",
       "                     Stock update                  Age  \n",
       "0   3 left in stock - order soon.       4 years and up  \n",
       "1   3 left in stock - order soon.       4 years and up  \n",
       "2   3 left in stock - order soon.  12 months - 5 years  \n",
       "3   3 left in stock - order soon.  36 months - 6 years  \n",
       "4   3 left in stock - order soon.       4 years and up  "
      ]
     },
     "execution_count": 266,
     "metadata": {},
     "output_type": "execute_result"
    }
   ],
   "source": [
    "df = pd.read_csv('amazon_toys_1.csv', encoding='cp1252')\n",
    "df.head(5)"
   ]
  },
  {
   "attachments": {},
   "cell_type": "markdown",
   "metadata": {},
   "source": [
    "Procedemos a cambiar el nombre de las columnas para que sea más accesible a hispano hablantes"
   ]
  },
  {
   "cell_type": "code",
   "execution_count": 267,
   "metadata": {},
   "outputs": [],
   "source": [
    "nombres = ['Descripcion', 'Precio', 'Reseñas', 'Precio Real', 'Dias sin cargo', 'Envio', 'Fecha de entrega', 'Ventas en meses pasados', 'Stock', 'Edad']\n",
    "df.columns = nombres"
   ]
  },
  {
   "attachments": {},
   "cell_type": "markdown",
   "metadata": {},
   "source": [
    "## Observamos el tipo de dato que presentan las columnas"
   ]
  },
  {
   "cell_type": "code",
   "execution_count": 268,
   "metadata": {},
   "outputs": [
    {
     "name": "stdout",
     "output_type": "stream",
     "text": [
      "<class 'pandas.core.frame.DataFrame'>\n",
      "RangeIndex: 11403 entries, 0 to 11402\n",
      "Data columns (total 10 columns):\n",
      " #   Column                   Non-Null Count  Dtype \n",
      "---  ------                   --------------  ----- \n",
      " 0   Descripcion              11403 non-null  object\n",
      " 1   Precio                   11403 non-null  int64 \n",
      " 2   Reseñas                  11403 non-null  object\n",
      " 3   Precio Real              11403 non-null  object\n",
      " 4   Dias sin cargo           11403 non-null  object\n",
      " 5   Envio                    11403 non-null  object\n",
      " 6   Fecha de entrega         11403 non-null  object\n",
      " 7   Ventas en meses pasados  11403 non-null  object\n",
      " 8   Stock                    11403 non-null  object\n",
      " 9   Edad                     11403 non-null  object\n",
      "dtypes: int64(1), object(9)\n",
      "memory usage: 891.0+ KB\n"
     ]
    }
   ],
   "source": [
    "df.info()"
   ]
  },
  {
   "attachments": {},
   "cell_type": "markdown",
   "metadata": {},
   "source": [
    "Puede observarse que existen 7 columnas que deberían tener datos númericos, flotantes o enteros, que son objetos. Estas son: 'Reseñas', 'Precio Real', 'Días sin cargo', 'Ventas en meses pasados', 'Stock' y 'Edad'. Vamos a proceder a limpiar estas columnas y convertirlas en el tipo de dato que le sea pertinente."
   ]
  },
  {
   "attachments": {},
   "cell_type": "markdown",
   "metadata": {},
   "source": [
    "## La columna Reseñas"
   ]
  },
  {
   "cell_type": "code",
   "execution_count": 269,
   "metadata": {},
   "outputs": [
    {
     "data": {
      "text/plain": [
       "0       71\n",
       "1       55\n",
       "2    2,895\n",
       "3    2,530\n",
       "4       40\n",
       "5    1,434\n",
       "6      278\n",
       "7      663\n",
       "8       41\n",
       "9       88\n",
       "Name: Reseñas, dtype: object"
      ]
     },
     "execution_count": 269,
     "metadata": {},
     "output_type": "execute_result"
    }
   ],
   "source": [
    "df['Reseñas'].head(10)"
   ]
  },
  {
   "attachments": {},
   "cell_type": "markdown",
   "metadata": {},
   "source": [
    "Puede observarse que alguno de los datos presentan un número con coma. La coma pretende aquí ser un separador visual entre la centena y la unidad de mil. Por tal motivo vamos a quitarla antes de realizar la transformación de los datos."
   ]
  },
  {
   "cell_type": "code",
   "execution_count": 270,
   "metadata": {},
   "outputs": [
    {
     "data": {
      "text/plain": [
       "0          71\n",
       "1          55\n",
       "2        2895\n",
       "3        2530\n",
       "4          40\n",
       "         ... \n",
       "11398    1094\n",
       "11399      78\n",
       "11400      78\n",
       "11401      78\n",
       "11402      78\n",
       "Name: Reseñas, Length: 11403, dtype: object"
      ]
     },
     "execution_count": 270,
     "metadata": {},
     "output_type": "execute_result"
    }
   ],
   "source": [
    "df['Reseñas'] = df['Reseñas'].str.replace(',', '')\n",
    "df['Reseñas']"
   ]
  },
  {
   "attachments": {},
   "cell_type": "markdown",
   "metadata": {},
   "source": [
    "Aquí puede verse que hemos logrado quitar la coma de la columna en cuestión. Ahora debemos modificar el tipo de dato a entero."
   ]
  },
  {
   "cell_type": "code",
   "execution_count": 271,
   "metadata": {},
   "outputs": [],
   "source": [
    "df['Reseñas'] = pd.to_numeric(df['Reseñas'])"
   ]
  },
  {
   "attachments": {},
   "cell_type": "markdown",
   "metadata": {},
   "source": [
    "Comprobamos que el cambio se haya ejecutado."
   ]
  },
  {
   "cell_type": "code",
   "execution_count": 272,
   "metadata": {},
   "outputs": [
    {
     "data": {
      "text/plain": [
       "dtype('int64')"
      ]
     },
     "execution_count": 272,
     "metadata": {},
     "output_type": "execute_result"
    }
   ],
   "source": [
    "df['Reseñas'].dtype"
   ]
  },
  {
   "attachments": {},
   "cell_type": "markdown",
   "metadata": {},
   "source": [
    "## La columna Precio Real"
   ]
  },
  {
   "cell_type": "code",
   "execution_count": 273,
   "metadata": {},
   "outputs": [
    {
     "data": {
      "text/plain": [
       "0    24.99\n",
       "1    14.99\n",
       "2     9.99\n",
       "3    24.99\n",
       "4    85.99\n",
       "5    22.99\n",
       "6    32.99\n",
       "7    24.99\n",
       "8    34.99\n",
       "9    49.99\n",
       "Name: Precio Real, dtype: object"
      ]
     },
     "execution_count": 273,
     "metadata": {},
     "output_type": "execute_result"
    }
   ],
   "source": [
    "df['Precio Real'].head(10)"
   ]
  },
  {
   "attachments": {},
   "cell_type": "markdown",
   "metadata": {},
   "source": [
    "Desplegamos los valores únicos de esta columna y notamos que existe un valor no númerico 'None'."
   ]
  },
  {
   "cell_type": "code",
   "execution_count": 274,
   "metadata": {},
   "outputs": [
    {
     "data": {
      "text/plain": [
       "array(['24.99', '14.99', '9.99', '85.99', '22.99', '32.99', '34.99',\n",
       "       '49.99', '42.99', '11.99', '39.99', '69.99', '18.11', 'None',\n",
       "       '4.57', '19.99', '21.99', '6.99', '18.79', '29.99', '13.99',\n",
       "       '27.99', '50.00', '15.99', '65.00', '16.99', '80.00', '12.99',\n",
       "       '70.00', '7.99', '18.39', '10.49', '17.49', '6.71', '37.99',\n",
       "       '63.02', '25.00', '10.99', '19.95', '89.99', '8.17', '15.18',\n",
       "       '25.16', '26.99', '59.99', '38.42', '6.31', '12.91', '44.99',\n",
       "       '15.63', '31.99', '16.37', '18.99', '25.36', '38.99', '12.89',\n",
       "       '33.99', '139.99', '5.99', '58.99', '12.11', '104.99', '45.99',\n",
       "       '57.99', '13.94', '19.87', '25.39', '64.99', '23.99', '16.84',\n",
       "       '35.99', '20.24', '9.62', '26.33', '31.25', '22.21', '12.35',\n",
       "       '9.93', '79.99', '13.75', '66.99', '8.95', '27.54', '44.61',\n",
       "       '16.31', '16.08', '3.99', '13.95', '16.00', '29.26', '55.99',\n",
       "       '84.99', '5.89', '4.49', '17.19', '5.92', '7.25', '24.23', '21.78',\n",
       "       '62.99', '8.33', '15.94', '5.58', '11.98', '39.00', '16.11',\n",
       "       '14.85', '14.98', '6.96', '62.95', '14.50', '47.81', '10.61',\n",
       "       '17.99', '15.00', '13.39', '31.49', '33.10', '78.78', '13.88',\n",
       "       '25.46', '13.85', '35.90', '21.67', '9.98', '18.09', '29.69',\n",
       "       '9.50', '19.49', '16.72', '7.52', '34.49', '23.15', '14.00',\n",
       "       '74.99', '14.29', '55.00', '41.99', '48.99', '25.99', '20.53',\n",
       "       '30.00', '13.69', '24.70', '28.77', '15.61', '24.95', '52.99',\n",
       "       '20.99', '54.99', '18.95', '8.84', '44.95', '17.28', '11.79',\n",
       "       '77.99', '13.78', '20.00', '73.59', '14.75', '179.99', '17.25',\n",
       "       '14.90', '18.49', '24.81', '33.24', '52.43', '29.98', '11.88',\n",
       "       '13.80', '61.99', '11.64', '26.74', '22.75', '10.93', '12.00',\n",
       "       '40.00', '82.00', '8.76', '7.51', '109.99', '21.41', '43.99',\n",
       "       '8.64', '127.99', '22.96', '53.99', '10.09', '68.23', '17.00',\n",
       "       '123.99', '95.00', '76.99', '27.00', '56.05', '5.16', '14.97',\n",
       "       '131.99', '25.17', '19.94', '56.64', '30.83', '229.99', '28.99',\n",
       "       '14.19', '60.00', '33.00', '130.00', '8.96', '124.99', '8.62',\n",
       "       '129.99', '149.99', '8.78', '54.83', '56.00', '20.91', '7.82',\n",
       "       '75.00', '30.09', '7.79', '28.94', '45.00', '8.37', '8.99',\n",
       "       '119.99', '8.88', '22.85', '17.82', '29.96', '8.51', '19.28',\n",
       "       '21.21', '16.06', '22.72', '29.95', '10.75', '29.30', '25.79',\n",
       "       '22.59', '99.99', '9.64', '145.00', '22.00', '11.50', '23.97',\n",
       "       '15.89', '22.69', '30.72', '7.67', '34.93', '26.34', '99.00',\n",
       "       '125.00', '88.00', '14.56', '24.30', '10.29', '144.99', '52.00',\n",
       "       '27.88', '27.98', '11.90', '6.48', '22.88', '13.35', '15.44',\n",
       "       '11.75', '9.57', '18.90', '22.36', '56.80', '31.09', '21.98',\n",
       "       '16.90', '33.20', '21.70', '143.92', '27.95', '15.42', '14.30',\n",
       "       '47.99', '25.20', '14.95', '34.95', '32.00', '36.99', '24.10',\n",
       "       '10.39', '37.97', '209.99', '22.80', '16.19', '29.85', '6.00',\n",
       "       '10.63', '46.99', '175.00', '97.99', '51.13', '11.85', '11.49',\n",
       "       '11.95', '10.11', '159.92', '131.90', '18.32', '32.95', '17.60',\n",
       "       '49.98', '9.17', '21.95', '4.95', '72.99', '26.49', '6.28',\n",
       "       '45.79', '8.77', '33.58', '169.99', '67.99', '38.12', '13.73',\n",
       "       '39.48', '22.95', '18.98', '59.97', '28.00', '114.99', '10.16',\n",
       "       '16.94', '15.39', '19.50', '24.39', '6.36', '49.00', '9.05',\n",
       "       '69.18', '59.01', '21.49', '16.24', '30.90', '11.39', '51.99',\n",
       "       '39.26', '11.40', '25.09', '109.33', '21.58', '21.59', '5.67',\n",
       "       '40.98', '32.72', '21.00', '10.46', '20.26', '15.97', '11.59',\n",
       "       '54.00', '48.50', '21.64', '11.89', '25.95', '40.72', '88.61',\n",
       "       '41.94', '31.45', '87.99', '8.93', '16.39', '120.00', '100.09',\n",
       "       '36.00', '23.88', '68.96', '110.99', '16.98', '63.99', '56.99',\n",
       "       '20.01', '49.95', '110.00', '33.84', '11.87', '24.00', '38.96',\n",
       "       '44.84', '81.80', '33.03', '85.00', '23.50', '100.00', '8.24',\n",
       "       '7.50', '40.81', '199.99', '32.56', '36.71', '159.98', '56.29',\n",
       "       '35.28', '11.96', '31.58', '14.41', '24.03', '34.14', '53.80',\n",
       "       '14.62', '54.87', '23.30', '98.00', '159.95', '12.59', '25.70',\n",
       "       '42.11', '23.95', '115.00', '59.95', '499.99', '15.16', '17.43',\n",
       "       '50.46', '64.95', '15.37', '13.21', '35.00', '53.97', '36.73',\n",
       "       '49.17', '19.89', '140.00', '8.25', '107.94', '23.98', '62.62',\n",
       "       '12.70', '56.98', '27.47', '230.00', '79.95', '150.00', '11.94',\n",
       "       '49.16', '10.00', '71.00', '20.92', '54.98', '11.09', '23.81',\n",
       "       '105.30', '25.49', '8.97', '20.81', '9.15', '26.86', '16.69',\n",
       "       '18.24', '240.00', '30.99', '42.00', '37.95', '174.99', '43.36',\n",
       "       '19.60', '59.00', '24.02', '17.40', '50.44', '59.35', '17.95',\n",
       "       '21.05', '6.24', '47.50', '26.88', '18.17', '44.00', '25.04',\n",
       "       '5.85', '29.63', '8.75', '63.49', '48.47', '16.26', '139.00',\n",
       "       '109.95', '8.35', '40.45', '15.22', '18.00', '38.04', '12.97',\n",
       "       '140.02', '23.84', '50.88', '29.94', '52.95', '32.88', '20.27',\n",
       "       '78.94', '223.95', '134.99', '180.00', '8.89', '25.47', '21.90',\n",
       "       '71.99', '85.82', '179.00', '35.95', '13.03', '62.39', '22.78',\n",
       "       '53.75', '63.00', '10.86', '58.42', '39.98', '62.72', '60.99',\n",
       "       '99.15', '22.34', '36.55', '33.94', '9.44', '87.95', '44.27',\n",
       "       '12.49', '135.00', '17.04', '23.69', '299.00', '90.00', '38.95',\n",
       "       '57.98', '62.19', '95.99', '16.20', '160.00', '64.82', '41.18',\n",
       "       '45.50', '9.90', '58.09', '38.00', '12.05', '17.65', '255.28',\n",
       "       '42.98', '25.42', '16.97', '48.18', '59.74', '15.71', '416.38',\n",
       "       '11.97', '106.62', '69.00', '12.85', '89.83', '20.95', '77.58',\n",
       "       '17.13', '24.91', '29.57', '10.35', '18.65', '170.00', '47.80',\n",
       "       '14.17', '249.99', '21.72', '11.82', '6.98', '41.76', '26.35',\n",
       "       '43.94', '250.00', '26.97', '30.84', '11.29', '21.20', '80.99',\n",
       "       '107.25', '26.00', '86.99', '36.75', '10.52', '12.69', '24.35',\n",
       "       '149.90', '330.00', '280.00', '15.02', '15.90', '12.95', '51.00',\n",
       "       '7.86', '22.87', '17.96', '16.77', '11.73', '17.74', '46.11',\n",
       "       '50.55', '53.77', '72.00', '15.70', '66.09', '10.98', '23.00',\n",
       "       '16.25', '59.90', '94.74', '89.00', '168.00', '48.89', '154.99',\n",
       "       '39.09', '19.19', '24.49', '16.95', '52.82', '26.84', '36.84',\n",
       "       '26.01', '109.00', '27.64', '66.40', '33.95', '67.84', '25.53',\n",
       "       '72.35', '17.27', '159.99', '7.49', '33.30', '15.65', '49.10',\n",
       "       '15.35', '123.16', '67.24', '20.50', '117.99', '16.42', '38.50',\n",
       "       '49.86', '52.80', '17.23', '24.31', '96.00', '37.96', '55.04',\n",
       "       '20.03', '47.06', '17.97', '21.38', '31.02', '55.28', '32.98',\n",
       "       '37.80', '15.26', '224.99', '5.69', '126.83', '34.06', '259.88',\n",
       "       '79.63', '41.96', '31.00', '38.31', '25.06', '36.78', '37.00',\n",
       "       '31.59', '65.99', '39.89', '105.00', '94.99', '19.00', '69.02',\n",
       "       '19.79', '79.00', '175.18', '9.95', '98.98', '14.84', '12.34',\n",
       "       '24.90', '87.29', '12.06', '10.72', '23.03', '221.13', '74.29',\n",
       "       '18.42', '83.61', '23.09', '58.94', '28.96', '46.80', '54.88',\n",
       "       '41.63', '210.00', '16.96', '28.98', '22.74', '36.90', '25.82',\n",
       "       '48.93', '37.72', '132.00', '26.95', '20.67', '15.98', '279.99',\n",
       "       '21.88', '29.00', '23.79', '14.64', '14.39', '34.00', '9.23',\n",
       "       '409.99', '73.90', '75.50', '24.50', '45.44', '18.61', '26.54',\n",
       "       '24.89', '19.85', '21.76', '27.34', '41.00', '10.50', '26.37',\n",
       "       '13.65', '38.19', '54.69', '67.49', '39.69', '24.04', '57.23',\n",
       "       '154.76', '42.62', '17.94', '20.37', '30.63', '29.67', '70.56',\n",
       "       '22.50', '162.15', '84.98', '63.39', '29.76', '39.75', '185.00',\n",
       "       '71.34', '79.76', '39.93', '83.94', '184.81', '25.63', '32.50',\n",
       "       '419.99', '39.97', '28.59', '67.17', '22.56', '304.99', '131.42',\n",
       "       '51.01', '59.87', '20.79', '23.53', '59.62', '274.99', '16.49',\n",
       "       '6.27', '49.80', '58.97', '149.00', '8.01', '79.45', '34.30'],\n",
       "      dtype=object)"
      ]
     },
     "execution_count": 274,
     "metadata": {},
     "output_type": "execute_result"
    }
   ],
   "source": [
    "df['Precio Real'].unique()"
   ]
  },
  {
   "attachments": {},
   "cell_type": "markdown",
   "metadata": {},
   "source": [
    "Observamos la cantidad de valores None en la columna."
   ]
  },
  {
   "cell_type": "code",
   "execution_count": 275,
   "metadata": {},
   "outputs": [
    {
     "data": {
      "text/plain": [
       "6638"
      ]
     },
     "execution_count": 275,
     "metadata": {},
     "output_type": "execute_result"
    }
   ],
   "source": [
    "len(df[df['Precio Real']=='None'])"
   ]
  },
  {
   "attachments": {},
   "cell_type": "markdown",
   "metadata": {},
   "source": [
    "Vemos a qué hacen referencia los valores None."
   ]
  },
  {
   "cell_type": "code",
   "execution_count": 276,
   "metadata": {},
   "outputs": [
    {
     "data": {
      "text/html": [
       "<div>\n",
       "<style scoped>\n",
       "    .dataframe tbody tr th:only-of-type {\n",
       "        vertical-align: middle;\n",
       "    }\n",
       "\n",
       "    .dataframe tbody tr th {\n",
       "        vertical-align: top;\n",
       "    }\n",
       "\n",
       "    .dataframe thead th {\n",
       "        text-align: right;\n",
       "    }\n",
       "</style>\n",
       "<table border=\"1\" class=\"dataframe\">\n",
       "  <thead>\n",
       "    <tr style=\"text-align: right;\">\n",
       "      <th></th>\n",
       "      <th>Descripcion</th>\n",
       "      <th>Precio</th>\n",
       "      <th>Reseñas</th>\n",
       "      <th>Precio Real</th>\n",
       "      <th>Dias sin cargo</th>\n",
       "      <th>Envio</th>\n",
       "      <th>Fecha de entrega</th>\n",
       "      <th>Ventas en meses pasados</th>\n",
       "      <th>Stock</th>\n",
       "      <th>Edad</th>\n",
       "    </tr>\n",
       "  </thead>\n",
       "  <tbody>\n",
       "    <tr>\n",
       "      <th>17</th>\n",
       "      <td>Gabby's Dollhouse, Deluxe Figure Gift Set with...</td>\n",
       "      <td>22</td>\n",
       "      <td>579</td>\n",
       "      <td>None</td>\n",
       "      <td>90 days FREE. Terms apply.</td>\n",
       "      <td>Ships to Bangladesh</td>\n",
       "      <td>Tue, Jun 20</td>\n",
       "      <td>100+ bought in past week</td>\n",
       "      <td>3 left in stock - order soon.</td>\n",
       "      <td>11years and up</td>\n",
       "    </tr>\n",
       "    <tr>\n",
       "      <th>18</th>\n",
       "      <td>Transformers Toys Heroic Optimus Prime Action ...</td>\n",
       "      <td>20</td>\n",
       "      <td>10204</td>\n",
       "      <td>None</td>\n",
       "      <td>90 days FREE. Terms apply.</td>\n",
       "      <td>Ships to Bangladesh</td>\n",
       "      <td>Tue, Jun 20</td>\n",
       "      <td>100+ bought in past week</td>\n",
       "      <td>3 left in stock - order soon.</td>\n",
       "      <td></td>\n",
       "    </tr>\n",
       "    <tr>\n",
       "      <th>19</th>\n",
       "      <td>Fisher-Price Little People Toddler Learning To...</td>\n",
       "      <td>34</td>\n",
       "      <td>5191</td>\n",
       "      <td>None</td>\n",
       "      <td>90 days FREE. Terms apply.</td>\n",
       "      <td>Ships to Bangladesh</td>\n",
       "      <td>Tue, Jun 20</td>\n",
       "      <td>100+ bought in past week</td>\n",
       "      <td>3 left in stock - order soon.</td>\n",
       "      <td>8 years and up</td>\n",
       "    </tr>\n",
       "    <tr>\n",
       "      <th>20</th>\n",
       "      <td>Marvel Legends Series Ms, The 6-Inch Collectib...</td>\n",
       "      <td>24</td>\n",
       "      <td>78</td>\n",
       "      <td>None</td>\n",
       "      <td>90 days FREE. Terms apply.</td>\n",
       "      <td>Ships to Bangladesh</td>\n",
       "      <td>Tue, Jun 20</td>\n",
       "      <td>100+ bought in past week</td>\n",
       "      <td>3 left in stock - order soon.</td>\n",
       "      <td>4 years and up</td>\n",
       "    </tr>\n",
       "    <tr>\n",
       "      <th>21</th>\n",
       "      <td>DELUXE BAG OF CLASSIC TOY GREEN ARMY SOLDIERS ...</td>\n",
       "      <td>8</td>\n",
       "      <td>128</td>\n",
       "      <td>None</td>\n",
       "      <td>90 days FREE. Terms apply.</td>\n",
       "      <td>Ships to Bangladesh</td>\n",
       "      <td>Tue, Jun 20</td>\n",
       "      <td>100+ bought in past week</td>\n",
       "      <td>3 left in stock - order soon.</td>\n",
       "      <td>4 years and up</td>\n",
       "    </tr>\n",
       "    <tr>\n",
       "      <th>...</th>\n",
       "      <td>...</td>\n",
       "      <td>...</td>\n",
       "      <td>...</td>\n",
       "      <td>...</td>\n",
       "      <td>...</td>\n",
       "      <td>...</td>\n",
       "      <td>...</td>\n",
       "      <td>...</td>\n",
       "      <td>...</td>\n",
       "      <td>...</td>\n",
       "    </tr>\n",
       "    <tr>\n",
       "      <th>11398</th>\n",
       "      <td>Papo - Hand-Painted - Figurine - Marine Life -...</td>\n",
       "      <td>11</td>\n",
       "      <td>1094</td>\n",
       "      <td>None</td>\n",
       "      <td>90 days FREE. Terms apply.</td>\n",
       "      <td>Ships to Bangladesh</td>\n",
       "      <td>Tue, Jun 20</td>\n",
       "      <td>100+ bought in past week</td>\n",
       "      <td>1 left in stock - order soon.</td>\n",
       "      <td></td>\n",
       "    </tr>\n",
       "    <tr>\n",
       "      <th>11399</th>\n",
       "      <td>Green Toys Farm Playset. CB2</td>\n",
       "      <td>26</td>\n",
       "      <td>78</td>\n",
       "      <td>None</td>\n",
       "      <td>90 days FREE. Terms apply.</td>\n",
       "      <td>Ships to Bangladesh</td>\n",
       "      <td>Tue, Jun 20</td>\n",
       "      <td>100+ bought in past week</td>\n",
       "      <td>1 left in stock - order soon.</td>\n",
       "      <td>11.40</td>\n",
       "    </tr>\n",
       "    <tr>\n",
       "      <th>11400</th>\n",
       "      <td>Teenage Mutant Ninja Turtles 5\" Sewer Shredder...</td>\n",
       "      <td>10</td>\n",
       "      <td>78</td>\n",
       "      <td>None</td>\n",
       "      <td>90 days FREE. Terms apply.</td>\n",
       "      <td>Ships to Bangladesh</td>\n",
       "      <td>Tue, Jun 20</td>\n",
       "      <td>100+ bought in past week</td>\n",
       "      <td>1 left in stock - order soon.</td>\n",
       "      <td></td>\n",
       "    </tr>\n",
       "    <tr>\n",
       "      <th>11401</th>\n",
       "      <td>Schleich Wild Life, Wild Animal Toys for Kids,...</td>\n",
       "      <td>42</td>\n",
       "      <td>78</td>\n",
       "      <td>None</td>\n",
       "      <td>90 days FREE. Terms apply.</td>\n",
       "      <td>Ships to Bangladesh</td>\n",
       "      <td>Tue, Jun 20</td>\n",
       "      <td>100+ bought in past week</td>\n",
       "      <td>1 left in stock - order soon.</td>\n",
       "      <td>5  years and up</td>\n",
       "    </tr>\n",
       "    <tr>\n",
       "      <th>11402</th>\n",
       "      <td>Schleich bayala, 5-Piece Starter Set with Fair...</td>\n",
       "      <td>34</td>\n",
       "      <td>78</td>\n",
       "      <td>None</td>\n",
       "      <td>90 days FREE. Terms apply.</td>\n",
       "      <td>Ships to Bangladesh</td>\n",
       "      <td>Tue, Jun 20</td>\n",
       "      <td>100+ bought in past week</td>\n",
       "      <td>1 left in stock - order soon.</td>\n",
       "      <td></td>\n",
       "    </tr>\n",
       "  </tbody>\n",
       "</table>\n",
       "<p>6638 rows × 10 columns</p>\n",
       "</div>"
      ],
      "text/plain": [
       "                                             Descripcion  Precio  Reseñas  \\\n",
       "17     Gabby's Dollhouse, Deluxe Figure Gift Set with...      22      579   \n",
       "18     Transformers Toys Heroic Optimus Prime Action ...      20    10204   \n",
       "19     Fisher-Price Little People Toddler Learning To...      34     5191   \n",
       "20     Marvel Legends Series Ms, The 6-Inch Collectib...      24       78   \n",
       "21     DELUXE BAG OF CLASSIC TOY GREEN ARMY SOLDIERS ...       8      128   \n",
       "...                                                  ...     ...      ...   \n",
       "11398  Papo - Hand-Painted - Figurine - Marine Life -...      11     1094   \n",
       "11399                       Green Toys Farm Playset. CB2      26       78   \n",
       "11400  Teenage Mutant Ninja Turtles 5\" Sewer Shredder...      10       78   \n",
       "11401  Schleich Wild Life, Wild Animal Toys for Kids,...      42       78   \n",
       "11402  Schleich bayala, 5-Piece Starter Set with Fair...      34       78   \n",
       "\n",
       "      Precio Real              Dias sin cargo                Envio  \\\n",
       "17           None  90 days FREE. Terms apply.  Ships to Bangladesh   \n",
       "18           None  90 days FREE. Terms apply.  Ships to Bangladesh   \n",
       "19           None  90 days FREE. Terms apply.  Ships to Bangladesh   \n",
       "20           None  90 days FREE. Terms apply.  Ships to Bangladesh   \n",
       "21           None  90 days FREE. Terms apply.  Ships to Bangladesh   \n",
       "...           ...                         ...                  ...   \n",
       "11398        None  90 days FREE. Terms apply.  Ships to Bangladesh   \n",
       "11399        None  90 days FREE. Terms apply.  Ships to Bangladesh   \n",
       "11400        None  90 days FREE. Terms apply.  Ships to Bangladesh   \n",
       "11401        None  90 days FREE. Terms apply.  Ships to Bangladesh   \n",
       "11402        None  90 days FREE. Terms apply.  Ships to Bangladesh   \n",
       "\n",
       "      Fecha de entrega   Ventas en meses pasados  \\\n",
       "17         Tue, Jun 20  100+ bought in past week   \n",
       "18         Tue, Jun 20  100+ bought in past week   \n",
       "19         Tue, Jun 20  100+ bought in past week   \n",
       "20         Tue, Jun 20  100+ bought in past week   \n",
       "21         Tue, Jun 20  100+ bought in past week   \n",
       "...                ...                       ...   \n",
       "11398      Tue, Jun 20  100+ bought in past week   \n",
       "11399      Tue, Jun 20  100+ bought in past week   \n",
       "11400      Tue, Jun 20  100+ bought in past week   \n",
       "11401      Tue, Jun 20  100+ bought in past week   \n",
       "11402      Tue, Jun 20  100+ bought in past week   \n",
       "\n",
       "                                Stock             Edad  \n",
       "17      3 left in stock - order soon.   11years and up  \n",
       "18      3 left in stock - order soon.                   \n",
       "19      3 left in stock - order soon.   8 years and up  \n",
       "20      3 left in stock - order soon.   4 years and up  \n",
       "21      3 left in stock - order soon.   4 years and up  \n",
       "...                               ...              ...  \n",
       "11398   1 left in stock - order soon.                   \n",
       "11399   1 left in stock - order soon.            11.40  \n",
       "11400   1 left in stock - order soon.                   \n",
       "11401   1 left in stock - order soon.  5  years and up  \n",
       "11402   1 left in stock - order soon.                   \n",
       "\n",
       "[6638 rows x 10 columns]"
      ]
     },
     "execution_count": 276,
     "metadata": {},
     "output_type": "execute_result"
    }
   ],
   "source": [
    "df[df['Precio Real']=='None']"
   ]
  },
  {
   "attachments": {},
   "cell_type": "markdown",
   "metadata": {},
   "source": [
    "Parecería ser que son aquellos artículos sin una rebaja. Por ello, parece razonable aplicarle el mismo valor que el de la columna 'Precio'. Para eso creamos un nuevo dataframe y equiparamos el dataframe con Precio Real igual a None a los valores de la columna precio del nuevo dataframe."
   ]
  },
  {
   "cell_type": "code",
   "execution_count": 277,
   "metadata": {},
   "outputs": [],
   "source": [
    "df_valores_none = df[df['Precio Real']=='None']"
   ]
  },
  {
   "cell_type": "code",
   "execution_count": 278,
   "metadata": {},
   "outputs": [],
   "source": [
    "df.loc[df['Precio Real']=='None', 'Precio Real'] = df_valores_none['Precio']"
   ]
  },
  {
   "attachments": {},
   "cell_type": "markdown",
   "metadata": {},
   "source": [
    "Una vez imputados los valores faltantes a la columna procedemos a cambiar el tipo de dato."
   ]
  },
  {
   "cell_type": "code",
   "execution_count": 279,
   "metadata": {},
   "outputs": [],
   "source": [
    "df['Precio Real'] = pd.to_numeric(df['Precio Real'])"
   ]
  },
  {
   "attachments": {},
   "cell_type": "markdown",
   "metadata": {},
   "source": [
    "Comprobamos que el cambio se haya realizado."
   ]
  },
  {
   "cell_type": "code",
   "execution_count": 280,
   "metadata": {},
   "outputs": [
    {
     "data": {
      "text/plain": [
       "dtype('float64')"
      ]
     },
     "execution_count": 280,
     "metadata": {},
     "output_type": "execute_result"
    }
   ],
   "source": [
    "df['Precio Real'].dtype"
   ]
  },
  {
   "attachments": {},
   "cell_type": "markdown",
   "metadata": {},
   "source": [
    "## La columna Dias sin Cargo"
   ]
  },
  {
   "cell_type": "code",
   "execution_count": 281,
   "metadata": {},
   "outputs": [
    {
     "data": {
      "text/plain": [
       "dtype('O')"
      ]
     },
     "execution_count": 281,
     "metadata": {},
     "output_type": "execute_result"
    }
   ],
   "source": [
    "df['Dias sin cargo'].dtype"
   ]
  },
  {
   "attachments": {},
   "cell_type": "markdown",
   "metadata": {},
   "source": [
    "Vemos que la columna en cuestión es un objeto de pandas. Lo que vamos a hacer es dividir la cantidad de días y el resto del texto. Cómo es relevante sólo la cantidad nos quedaremos únicamente con tal columna."
   ]
  },
  {
   "cell_type": "code",
   "execution_count": 282,
   "metadata": {},
   "outputs": [],
   "source": [
    "df[['Dias sin cargo', 'Otros']] = df['Dias sin cargo'].str.split(' ', n=1, expand=True)"
   ]
  },
  {
   "attachments": {},
   "cell_type": "markdown",
   "metadata": {},
   "source": [
    "Eliminamos la columna 'Otros', ya que se trata de texto que no vamos a utilizar."
   ]
  },
  {
   "cell_type": "code",
   "execution_count": 283,
   "metadata": {},
   "outputs": [],
   "source": [
    "df.drop('Otros', axis=1, inplace=True)"
   ]
  },
  {
   "cell_type": "code",
   "execution_count": 284,
   "metadata": {},
   "outputs": [
    {
     "data": {
      "text/html": [
       "<div>\n",
       "<style scoped>\n",
       "    .dataframe tbody tr th:only-of-type {\n",
       "        vertical-align: middle;\n",
       "    }\n",
       "\n",
       "    .dataframe tbody tr th {\n",
       "        vertical-align: top;\n",
       "    }\n",
       "\n",
       "    .dataframe thead th {\n",
       "        text-align: right;\n",
       "    }\n",
       "</style>\n",
       "<table border=\"1\" class=\"dataframe\">\n",
       "  <thead>\n",
       "    <tr style=\"text-align: right;\">\n",
       "      <th></th>\n",
       "      <th>Descripcion</th>\n",
       "      <th>Precio</th>\n",
       "      <th>Reseñas</th>\n",
       "      <th>Precio Real</th>\n",
       "      <th>Dias sin cargo</th>\n",
       "      <th>Envio</th>\n",
       "      <th>Fecha de entrega</th>\n",
       "      <th>Ventas en meses pasados</th>\n",
       "      <th>Stock</th>\n",
       "      <th>Edad</th>\n",
       "    </tr>\n",
       "  </thead>\n",
       "  <tbody>\n",
       "    <tr>\n",
       "      <th>0</th>\n",
       "      <td>Spider-Man Marvel Legends Series Across The Sp...</td>\n",
       "      <td>24</td>\n",
       "      <td>71</td>\n",
       "      <td>24.99</td>\n",
       "      <td>90</td>\n",
       "      <td>Ships to Bangladesh</td>\n",
       "      <td>Tue, Jun 20</td>\n",
       "      <td>200+ bought in past week</td>\n",
       "      <td>3 left in stock - order soon.</td>\n",
       "      <td>4 years and up</td>\n",
       "    </tr>\n",
       "    <tr>\n",
       "      <th>1</th>\n",
       "      <td>Spider-Man Marvel Legends Series Across The Sp...</td>\n",
       "      <td>22</td>\n",
       "      <td>55</td>\n",
       "      <td>14.99</td>\n",
       "      <td>90</td>\n",
       "      <td>Ships to Bangladesh</td>\n",
       "      <td>Tue, Jun 20</td>\n",
       "      <td>200+ bought in past week</td>\n",
       "      <td>3 left in stock - order soon.</td>\n",
       "      <td>4 years and up</td>\n",
       "    </tr>\n",
       "    <tr>\n",
       "      <th>2</th>\n",
       "      <td>Fisher-Price Little People Musical Toddler Toy...</td>\n",
       "      <td>7</td>\n",
       "      <td>2895</td>\n",
       "      <td>9.99</td>\n",
       "      <td>90</td>\n",
       "      <td>Ships to Bangladesh</td>\n",
       "      <td>Tue, Jun 20</td>\n",
       "      <td>100+ bought in past week</td>\n",
       "      <td>3 left in stock - order soon.</td>\n",
       "      <td>12 months - 5 years</td>\n",
       "    </tr>\n",
       "    <tr>\n",
       "      <th>3</th>\n",
       "      <td>CatToysOfficial - CAT Little Machines 5pcs Con...</td>\n",
       "      <td>5</td>\n",
       "      <td>2530</td>\n",
       "      <td>24.99</td>\n",
       "      <td>90</td>\n",
       "      <td>Ships to Bangladesh</td>\n",
       "      <td>Tue, Jun 20</td>\n",
       "      <td>100+ bought in past week</td>\n",
       "      <td>3 left in stock - order soon.</td>\n",
       "      <td>36 months - 6 years</td>\n",
       "    </tr>\n",
       "    <tr>\n",
       "      <th>4</th>\n",
       "      <td>Spider-Man Marvel Legends Series Across The Sp...</td>\n",
       "      <td>22</td>\n",
       "      <td>40</td>\n",
       "      <td>85.99</td>\n",
       "      <td>90</td>\n",
       "      <td>Ships to Bangladesh</td>\n",
       "      <td>Tue, Jun 20</td>\n",
       "      <td>90 days FREE. Terms apply.</td>\n",
       "      <td>3 left in stock - order soon.</td>\n",
       "      <td>4 years and up</td>\n",
       "    </tr>\n",
       "  </tbody>\n",
       "</table>\n",
       "</div>"
      ],
      "text/plain": [
       "                                         Descripcion  Precio  Reseñas  \\\n",
       "0  Spider-Man Marvel Legends Series Across The Sp...      24       71   \n",
       "1  Spider-Man Marvel Legends Series Across The Sp...      22       55   \n",
       "2  Fisher-Price Little People Musical Toddler Toy...       7     2895   \n",
       "3  CatToysOfficial - CAT Little Machines 5pcs Con...       5     2530   \n",
       "4  Spider-Man Marvel Legends Series Across The Sp...      22       40   \n",
       "\n",
       "   Precio Real Dias sin cargo                Envio Fecha de entrega  \\\n",
       "0        24.99             90  Ships to Bangladesh      Tue, Jun 20   \n",
       "1        14.99             90  Ships to Bangladesh      Tue, Jun 20   \n",
       "2         9.99             90  Ships to Bangladesh      Tue, Jun 20   \n",
       "3        24.99             90  Ships to Bangladesh      Tue, Jun 20   \n",
       "4        85.99             90  Ships to Bangladesh      Tue, Jun 20   \n",
       "\n",
       "      Ventas en meses pasados                           Stock  \\\n",
       "0    200+ bought in past week   3 left in stock - order soon.   \n",
       "1    200+ bought in past week   3 left in stock - order soon.   \n",
       "2    100+ bought in past week   3 left in stock - order soon.   \n",
       "3    100+ bought in past week   3 left in stock - order soon.   \n",
       "4  90 days FREE. Terms apply.   3 left in stock - order soon.   \n",
       "\n",
       "                  Edad  \n",
       "0       4 years and up  \n",
       "1       4 years and up  \n",
       "2  12 months - 5 years  \n",
       "3  36 months - 6 years  \n",
       "4       4 years and up  "
      ]
     },
     "execution_count": 284,
     "metadata": {},
     "output_type": "execute_result"
    }
   ],
   "source": [
    "df.head()"
   ]
  },
  {
   "attachments": {},
   "cell_type": "markdown",
   "metadata": {},
   "source": [
    "Observamos si existen otros valores en la columna."
   ]
  },
  {
   "cell_type": "code",
   "execution_count": 285,
   "metadata": {},
   "outputs": [
    {
     "data": {
      "text/plain": [
       "array(['90', 'Save'], dtype=object)"
      ]
     },
     "execution_count": 285,
     "metadata": {},
     "output_type": "execute_result"
    }
   ],
   "source": [
    "df['Dias sin cargo'].unique()"
   ]
  },
  {
   "attachments": {},
   "cell_type": "markdown",
   "metadata": {},
   "source": [
    "Como esta columna refiere a una oferta especial, vamos a quitar el valor 'Save' y vamos a modificarlo por 0. Es decir, 0 días sin cargo."
   ]
  },
  {
   "cell_type": "code",
   "execution_count": 286,
   "metadata": {},
   "outputs": [],
   "source": [
    "df['Dias sin cargo'] = df['Dias sin cargo'].str.replace('Save', '0')"
   ]
  },
  {
   "attachments": {},
   "cell_type": "markdown",
   "metadata": {},
   "source": [
    "Comprobamos que el cambio se haya ejecutado."
   ]
  },
  {
   "cell_type": "code",
   "execution_count": 287,
   "metadata": {},
   "outputs": [
    {
     "data": {
      "text/plain": [
       "array(['90', '0'], dtype=object)"
      ]
     },
     "execution_count": 287,
     "metadata": {},
     "output_type": "execute_result"
    }
   ],
   "source": [
    "df['Dias sin cargo'].unique()"
   ]
  },
  {
   "attachments": {},
   "cell_type": "markdown",
   "metadata": {},
   "source": [
    "Ahora es momento de convertir este tipo de dato a tipo entero."
   ]
  },
  {
   "cell_type": "code",
   "execution_count": 288,
   "metadata": {},
   "outputs": [],
   "source": [
    "df['Dias sin cargo'] = pd.to_numeric(df['Dias sin cargo'])"
   ]
  },
  {
   "attachments": {},
   "cell_type": "markdown",
   "metadata": {},
   "source": [
    "Comprobamos la realización del cambio."
   ]
  },
  {
   "cell_type": "code",
   "execution_count": 289,
   "metadata": {},
   "outputs": [
    {
     "data": {
      "text/plain": [
       "dtype('int64')"
      ]
     },
     "execution_count": 289,
     "metadata": {},
     "output_type": "execute_result"
    }
   ],
   "source": [
    "df['Dias sin cargo'].dtype"
   ]
  },
  {
   "attachments": {},
   "cell_type": "markdown",
   "metadata": {},
   "source": [
    "## Columna de Ventas en meses pasados"
   ]
  },
  {
   "attachments": {},
   "cell_type": "markdown",
   "metadata": {},
   "source": [
    "Observamos cuáles son los valores que presenta esta columna."
   ]
  },
  {
   "cell_type": "code",
   "execution_count": 290,
   "metadata": {},
   "outputs": [
    {
     "data": {
      "text/plain": [
       "array(['200+ bought in past week', '100+ bought in past week',\n",
       "       '90 days FREE. Terms apply.', '50+ bought in past week',\n",
       "       'Save 5% on 2 select items)'], dtype=object)"
      ]
     },
     "execution_count": 290,
     "metadata": {},
     "output_type": "execute_result"
    }
   ],
   "source": [
    "df['Ventas en meses pasados'].unique()"
   ]
  },
  {
   "attachments": {},
   "cell_type": "markdown",
   "metadata": {},
   "source": [
    "Como en esta columna nos interesa la cantidad de articulos vendidos, vamos a eliminar aquellos strings que no nos permitan decidir respecto del número de ventas en meses pasados."
   ]
  },
  {
   "cell_type": "code",
   "execution_count": 291,
   "metadata": {},
   "outputs": [],
   "source": [
    "df[['Ventas en meses pasados', 'Otros']] = df['Ventas en meses pasados'].str.split(' ', n=1, expand=True)"
   ]
  },
  {
   "attachments": {},
   "cell_type": "markdown",
   "metadata": {},
   "source": [
    "Comprobamos que se haya ejecutado correctamente el split."
   ]
  },
  {
   "cell_type": "code",
   "execution_count": 292,
   "metadata": {},
   "outputs": [
    {
     "data": {
      "text/html": [
       "<div>\n",
       "<style scoped>\n",
       "    .dataframe tbody tr th:only-of-type {\n",
       "        vertical-align: middle;\n",
       "    }\n",
       "\n",
       "    .dataframe tbody tr th {\n",
       "        vertical-align: top;\n",
       "    }\n",
       "\n",
       "    .dataframe thead th {\n",
       "        text-align: right;\n",
       "    }\n",
       "</style>\n",
       "<table border=\"1\" class=\"dataframe\">\n",
       "  <thead>\n",
       "    <tr style=\"text-align: right;\">\n",
       "      <th></th>\n",
       "      <th>Descripcion</th>\n",
       "      <th>Precio</th>\n",
       "      <th>Reseñas</th>\n",
       "      <th>Precio Real</th>\n",
       "      <th>Dias sin cargo</th>\n",
       "      <th>Envio</th>\n",
       "      <th>Fecha de entrega</th>\n",
       "      <th>Ventas en meses pasados</th>\n",
       "      <th>Stock</th>\n",
       "      <th>Edad</th>\n",
       "      <th>Otros</th>\n",
       "    </tr>\n",
       "  </thead>\n",
       "  <tbody>\n",
       "    <tr>\n",
       "      <th>0</th>\n",
       "      <td>Spider-Man Marvel Legends Series Across The Sp...</td>\n",
       "      <td>24</td>\n",
       "      <td>71</td>\n",
       "      <td>24.99</td>\n",
       "      <td>90</td>\n",
       "      <td>Ships to Bangladesh</td>\n",
       "      <td>Tue, Jun 20</td>\n",
       "      <td>200+</td>\n",
       "      <td>3 left in stock - order soon.</td>\n",
       "      <td>4 years and up</td>\n",
       "      <td>bought in past week</td>\n",
       "    </tr>\n",
       "    <tr>\n",
       "      <th>1</th>\n",
       "      <td>Spider-Man Marvel Legends Series Across The Sp...</td>\n",
       "      <td>22</td>\n",
       "      <td>55</td>\n",
       "      <td>14.99</td>\n",
       "      <td>90</td>\n",
       "      <td>Ships to Bangladesh</td>\n",
       "      <td>Tue, Jun 20</td>\n",
       "      <td>200+</td>\n",
       "      <td>3 left in stock - order soon.</td>\n",
       "      <td>4 years and up</td>\n",
       "      <td>bought in past week</td>\n",
       "    </tr>\n",
       "    <tr>\n",
       "      <th>2</th>\n",
       "      <td>Fisher-Price Little People Musical Toddler Toy...</td>\n",
       "      <td>7</td>\n",
       "      <td>2895</td>\n",
       "      <td>9.99</td>\n",
       "      <td>90</td>\n",
       "      <td>Ships to Bangladesh</td>\n",
       "      <td>Tue, Jun 20</td>\n",
       "      <td>100+</td>\n",
       "      <td>3 left in stock - order soon.</td>\n",
       "      <td>12 months - 5 years</td>\n",
       "      <td>bought in past week</td>\n",
       "    </tr>\n",
       "    <tr>\n",
       "      <th>3</th>\n",
       "      <td>CatToysOfficial - CAT Little Machines 5pcs Con...</td>\n",
       "      <td>5</td>\n",
       "      <td>2530</td>\n",
       "      <td>24.99</td>\n",
       "      <td>90</td>\n",
       "      <td>Ships to Bangladesh</td>\n",
       "      <td>Tue, Jun 20</td>\n",
       "      <td>100+</td>\n",
       "      <td>3 left in stock - order soon.</td>\n",
       "      <td>36 months - 6 years</td>\n",
       "      <td>bought in past week</td>\n",
       "    </tr>\n",
       "    <tr>\n",
       "      <th>4</th>\n",
       "      <td>Spider-Man Marvel Legends Series Across The Sp...</td>\n",
       "      <td>22</td>\n",
       "      <td>40</td>\n",
       "      <td>85.99</td>\n",
       "      <td>90</td>\n",
       "      <td>Ships to Bangladesh</td>\n",
       "      <td>Tue, Jun 20</td>\n",
       "      <td>90</td>\n",
       "      <td>3 left in stock - order soon.</td>\n",
       "      <td>4 years and up</td>\n",
       "      <td>days FREE. Terms apply.</td>\n",
       "    </tr>\n",
       "  </tbody>\n",
       "</table>\n",
       "</div>"
      ],
      "text/plain": [
       "                                         Descripcion  Precio  Reseñas  \\\n",
       "0  Spider-Man Marvel Legends Series Across The Sp...      24       71   \n",
       "1  Spider-Man Marvel Legends Series Across The Sp...      22       55   \n",
       "2  Fisher-Price Little People Musical Toddler Toy...       7     2895   \n",
       "3  CatToysOfficial - CAT Little Machines 5pcs Con...       5     2530   \n",
       "4  Spider-Man Marvel Legends Series Across The Sp...      22       40   \n",
       "\n",
       "   Precio Real  Dias sin cargo                Envio Fecha de entrega  \\\n",
       "0        24.99              90  Ships to Bangladesh      Tue, Jun 20   \n",
       "1        14.99              90  Ships to Bangladesh      Tue, Jun 20   \n",
       "2         9.99              90  Ships to Bangladesh      Tue, Jun 20   \n",
       "3        24.99              90  Ships to Bangladesh      Tue, Jun 20   \n",
       "4        85.99              90  Ships to Bangladesh      Tue, Jun 20   \n",
       "\n",
       "  Ventas en meses pasados                           Stock  \\\n",
       "0                    200+   3 left in stock - order soon.   \n",
       "1                    200+   3 left in stock - order soon.   \n",
       "2                    100+   3 left in stock - order soon.   \n",
       "3                    100+   3 left in stock - order soon.   \n",
       "4                      90   3 left in stock - order soon.   \n",
       "\n",
       "                  Edad                    Otros  \n",
       "0       4 years and up      bought in past week  \n",
       "1       4 years and up      bought in past week  \n",
       "2  12 months - 5 years      bought in past week  \n",
       "3  36 months - 6 years      bought in past week  \n",
       "4       4 years and up  days FREE. Terms apply.  "
      ]
     },
     "execution_count": 292,
     "metadata": {},
     "output_type": "execute_result"
    }
   ],
   "source": [
    "df.head(5)"
   ]
  },
  {
   "attachments": {},
   "cell_type": "markdown",
   "metadata": {},
   "source": [
    "Quitamos la columna de 'Otros' que no vamos a utilizar"
   ]
  },
  {
   "cell_type": "code",
   "execution_count": 293,
   "metadata": {},
   "outputs": [],
   "source": [
    "df.drop('Otros', axis=1, inplace=True)"
   ]
  },
  {
   "attachments": {},
   "cell_type": "markdown",
   "metadata": {},
   "source": [
    "Reemplazamos el signo '+' en los caso en los que sea necesario"
   ]
  },
  {
   "cell_type": "code",
   "execution_count": 294,
   "metadata": {},
   "outputs": [],
   "source": [
    "df['Ventas en meses pasados'] = df['Ventas en meses pasados'].str.replace('+', '', regex=False)"
   ]
  },
  {
   "attachments": {},
   "cell_type": "markdown",
   "metadata": {},
   "source": [
    "Observamoz que se haya ejecutado el cambio"
   ]
  },
  {
   "cell_type": "code",
   "execution_count": 295,
   "metadata": {},
   "outputs": [
    {
     "data": {
      "text/plain": [
       "array(['200', '100', '90', '50', 'Save'], dtype=object)"
      ]
     },
     "execution_count": 295,
     "metadata": {},
     "output_type": "execute_result"
    }
   ],
   "source": [
    "df['Ventas en meses pasados'].unique()"
   ]
  },
  {
   "attachments": {},
   "cell_type": "markdown",
   "metadata": {},
   "source": [
    "Existe un valor que se aparece que es 'Save'. Vamos a proceder a investigar las filas que están asociados a dicho valor en la columna."
   ]
  },
  {
   "cell_type": "code",
   "execution_count": 296,
   "metadata": {},
   "outputs": [
    {
     "data": {
      "text/html": [
       "<div>\n",
       "<style scoped>\n",
       "    .dataframe tbody tr th:only-of-type {\n",
       "        vertical-align: middle;\n",
       "    }\n",
       "\n",
       "    .dataframe tbody tr th {\n",
       "        vertical-align: top;\n",
       "    }\n",
       "\n",
       "    .dataframe thead th {\n",
       "        text-align: right;\n",
       "    }\n",
       "</style>\n",
       "<table border=\"1\" class=\"dataframe\">\n",
       "  <thead>\n",
       "    <tr style=\"text-align: right;\">\n",
       "      <th></th>\n",
       "      <th>Descripcion</th>\n",
       "      <th>Precio</th>\n",
       "      <th>Reseñas</th>\n",
       "      <th>Precio Real</th>\n",
       "      <th>Dias sin cargo</th>\n",
       "      <th>Envio</th>\n",
       "      <th>Fecha de entrega</th>\n",
       "      <th>Ventas en meses pasados</th>\n",
       "      <th>Stock</th>\n",
       "      <th>Edad</th>\n",
       "    </tr>\n",
       "  </thead>\n",
       "  <tbody>\n",
       "    <tr>\n",
       "      <th>11177</th>\n",
       "      <td>Beast Kingdom AvatarThe Way of Water – Jake Su...</td>\n",
       "      <td>23</td>\n",
       "      <td>1</td>\n",
       "      <td>21.99</td>\n",
       "      <td>90</td>\n",
       "      <td>Ships to Bangladesh</td>\n",
       "      <td>Tue, Jun 20</td>\n",
       "      <td>Save</td>\n",
       "      <td>10 left in stock - order soon.</td>\n",
       "      <td>14  years and up</td>\n",
       "    </tr>\n",
       "  </tbody>\n",
       "</table>\n",
       "</div>"
      ],
      "text/plain": [
       "                                             Descripcion  Precio  Reseñas  \\\n",
       "11177  Beast Kingdom AvatarThe Way of Water – Jake Su...      23        1   \n",
       "\n",
       "       Precio Real  Dias sin cargo                Envio Fecha de entrega  \\\n",
       "11177        21.99              90  Ships to Bangladesh      Tue, Jun 20   \n",
       "\n",
       "      Ventas en meses pasados                            Stock  \\\n",
       "11177                    Save   10 left in stock - order soon.   \n",
       "\n",
       "                   Edad  \n",
       "11177  14  years and up  "
      ]
     },
     "execution_count": 296,
     "metadata": {},
     "output_type": "execute_result"
    }
   ],
   "source": [
    "df[df['Ventas en meses pasados']=='Save']"
   ]
  },
  {
   "attachments": {},
   "cell_type": "markdown",
   "metadata": {},
   "source": [
    "Cómo no es claro a lo que refiere dicho valor y sólo hay una reseñan, vamos a imputar el valor 1 a la columna que cumple con el filtro utilizado."
   ]
  },
  {
   "cell_type": "code",
   "execution_count": 297,
   "metadata": {},
   "outputs": [],
   "source": [
    "df.loc[df['Ventas en meses pasados']=='Save', 'Ventas en meses pasados'] = 1"
   ]
  },
  {
   "attachments": {},
   "cell_type": "markdown",
   "metadata": {},
   "source": [
    "Comprobamos que se haya imputado el cambio"
   ]
  },
  {
   "cell_type": "code",
   "execution_count": 298,
   "metadata": {},
   "outputs": [
    {
     "data": {
      "text/plain": [
       "array(['200', '100', '90', '50', 1], dtype=object)"
      ]
     },
     "execution_count": 298,
     "metadata": {},
     "output_type": "execute_result"
    }
   ],
   "source": [
    "df['Ventas en meses pasados'].unique()"
   ]
  },
  {
   "attachments": {},
   "cell_type": "markdown",
   "metadata": {},
   "source": [
    "Ahora transformamos todos los valores a datos numéricos"
   ]
  },
  {
   "cell_type": "code",
   "execution_count": 299,
   "metadata": {},
   "outputs": [
    {
     "data": {
      "text/plain": [
       "dtype('int64')"
      ]
     },
     "execution_count": 299,
     "metadata": {},
     "output_type": "execute_result"
    }
   ],
   "source": [
    "df['Ventas en meses pasados'] = pd.to_numeric(df['Ventas en meses pasados'])\n",
    "df['Ventas en meses pasados'].dtype"
   ]
  },
  {
   "attachments": {},
   "cell_type": "markdown",
   "metadata": {},
   "source": [
    "## La columna Stock"
   ]
  },
  {
   "attachments": {},
   "cell_type": "markdown",
   "metadata": {},
   "source": [
    "Esta columna presenta el mismo inconveniente que las anteriores. Tenemos un número que nos indica la cantidad de producto disponible, junto con cadenas de string. Vamos a proceder a dividr entre dicho número, que es el dato que nos interesa, y la cadena de string. Utilizamos el método split que ya habíamos usado más arriba."
   ]
  },
  {
   "cell_type": "code",
   "execution_count": 300,
   "metadata": {},
   "outputs": [],
   "source": [
    "df[['Stock', 'Otros']] = df['Stock'].str.split('left', n=1, expand=True, regex=False)"
   ]
  },
  {
   "attachments": {},
   "cell_type": "markdown",
   "metadata": {},
   "source": [
    "Aclaración, se tuvo que especificar la palabra de división 'left', ya que con el espacio no se lograba el split deseado. Quitamos la columna Otros."
   ]
  },
  {
   "cell_type": "code",
   "execution_count": 301,
   "metadata": {},
   "outputs": [],
   "source": [
    "df.drop('Otros', axis=1, inplace=True)"
   ]
  },
  {
   "attachments": {},
   "cell_type": "markdown",
   "metadata": {},
   "source": [
    "Transformamos la columna a dato numérico."
   ]
  },
  {
   "cell_type": "code",
   "execution_count": 302,
   "metadata": {},
   "outputs": [
    {
     "data": {
      "text/plain": [
       "dtype('int64')"
      ]
     },
     "execution_count": 302,
     "metadata": {},
     "output_type": "execute_result"
    }
   ],
   "source": [
    "df['Stock'] = pd.to_numeric(df['Stock'])\n",
    "df['Stock'].dtype"
   ]
  },
  {
   "attachments": {},
   "cell_type": "markdown",
   "metadata": {},
   "source": [
    "Observamos el resultado final."
   ]
  },
  {
   "cell_type": "code",
   "execution_count": 303,
   "metadata": {},
   "outputs": [
    {
     "data": {
      "text/html": [
       "<div>\n",
       "<style scoped>\n",
       "    .dataframe tbody tr th:only-of-type {\n",
       "        vertical-align: middle;\n",
       "    }\n",
       "\n",
       "    .dataframe tbody tr th {\n",
       "        vertical-align: top;\n",
       "    }\n",
       "\n",
       "    .dataframe thead th {\n",
       "        text-align: right;\n",
       "    }\n",
       "</style>\n",
       "<table border=\"1\" class=\"dataframe\">\n",
       "  <thead>\n",
       "    <tr style=\"text-align: right;\">\n",
       "      <th></th>\n",
       "      <th>Descripcion</th>\n",
       "      <th>Precio</th>\n",
       "      <th>Reseñas</th>\n",
       "      <th>Precio Real</th>\n",
       "      <th>Dias sin cargo</th>\n",
       "      <th>Envio</th>\n",
       "      <th>Fecha de entrega</th>\n",
       "      <th>Ventas en meses pasados</th>\n",
       "      <th>Stock</th>\n",
       "      <th>Edad</th>\n",
       "    </tr>\n",
       "  </thead>\n",
       "  <tbody>\n",
       "    <tr>\n",
       "      <th>0</th>\n",
       "      <td>Spider-Man Marvel Legends Series Across The Sp...</td>\n",
       "      <td>24</td>\n",
       "      <td>71</td>\n",
       "      <td>24.99</td>\n",
       "      <td>90</td>\n",
       "      <td>Ships to Bangladesh</td>\n",
       "      <td>Tue, Jun 20</td>\n",
       "      <td>200</td>\n",
       "      <td>3</td>\n",
       "      <td>4 years and up</td>\n",
       "    </tr>\n",
       "    <tr>\n",
       "      <th>1</th>\n",
       "      <td>Spider-Man Marvel Legends Series Across The Sp...</td>\n",
       "      <td>22</td>\n",
       "      <td>55</td>\n",
       "      <td>14.99</td>\n",
       "      <td>90</td>\n",
       "      <td>Ships to Bangladesh</td>\n",
       "      <td>Tue, Jun 20</td>\n",
       "      <td>200</td>\n",
       "      <td>3</td>\n",
       "      <td>4 years and up</td>\n",
       "    </tr>\n",
       "    <tr>\n",
       "      <th>2</th>\n",
       "      <td>Fisher-Price Little People Musical Toddler Toy...</td>\n",
       "      <td>7</td>\n",
       "      <td>2895</td>\n",
       "      <td>9.99</td>\n",
       "      <td>90</td>\n",
       "      <td>Ships to Bangladesh</td>\n",
       "      <td>Tue, Jun 20</td>\n",
       "      <td>100</td>\n",
       "      <td>3</td>\n",
       "      <td>12 months - 5 years</td>\n",
       "    </tr>\n",
       "    <tr>\n",
       "      <th>3</th>\n",
       "      <td>CatToysOfficial - CAT Little Machines 5pcs Con...</td>\n",
       "      <td>5</td>\n",
       "      <td>2530</td>\n",
       "      <td>24.99</td>\n",
       "      <td>90</td>\n",
       "      <td>Ships to Bangladesh</td>\n",
       "      <td>Tue, Jun 20</td>\n",
       "      <td>100</td>\n",
       "      <td>3</td>\n",
       "      <td>36 months - 6 years</td>\n",
       "    </tr>\n",
       "    <tr>\n",
       "      <th>4</th>\n",
       "      <td>Spider-Man Marvel Legends Series Across The Sp...</td>\n",
       "      <td>22</td>\n",
       "      <td>40</td>\n",
       "      <td>85.99</td>\n",
       "      <td>90</td>\n",
       "      <td>Ships to Bangladesh</td>\n",
       "      <td>Tue, Jun 20</td>\n",
       "      <td>90</td>\n",
       "      <td>3</td>\n",
       "      <td>4 years and up</td>\n",
       "    </tr>\n",
       "  </tbody>\n",
       "</table>\n",
       "</div>"
      ],
      "text/plain": [
       "                                         Descripcion  Precio  Reseñas  \\\n",
       "0  Spider-Man Marvel Legends Series Across The Sp...      24       71   \n",
       "1  Spider-Man Marvel Legends Series Across The Sp...      22       55   \n",
       "2  Fisher-Price Little People Musical Toddler Toy...       7     2895   \n",
       "3  CatToysOfficial - CAT Little Machines 5pcs Con...       5     2530   \n",
       "4  Spider-Man Marvel Legends Series Across The Sp...      22       40   \n",
       "\n",
       "   Precio Real  Dias sin cargo                Envio Fecha de entrega  \\\n",
       "0        24.99              90  Ships to Bangladesh      Tue, Jun 20   \n",
       "1        14.99              90  Ships to Bangladesh      Tue, Jun 20   \n",
       "2         9.99              90  Ships to Bangladesh      Tue, Jun 20   \n",
       "3        24.99              90  Ships to Bangladesh      Tue, Jun 20   \n",
       "4        85.99              90  Ships to Bangladesh      Tue, Jun 20   \n",
       "\n",
       "   Ventas en meses pasados  Stock                 Edad  \n",
       "0                      200      3       4 years and up  \n",
       "1                      200      3       4 years and up  \n",
       "2                      100      3  12 months - 5 years  \n",
       "3                      100      3  36 months - 6 years  \n",
       "4                       90      3       4 years and up  "
      ]
     },
     "execution_count": 303,
     "metadata": {},
     "output_type": "execute_result"
    }
   ],
   "source": [
    "df.head()"
   ]
  },
  {
   "attachments": {},
   "cell_type": "markdown",
   "metadata": {},
   "source": [
    "## La columna Edad"
   ]
  },
  {
   "attachments": {},
   "cell_type": "markdown",
   "metadata": {},
   "source": [
    "Parecería ser que en esta columna tenemos la edad en años o meses. Cuando está expresada en meses nos encontramos con un rango etario. Podríamos expresar el valor mínimo de la edad. Para esto, nuevamente, vamos a ir paso a paso. El primero de estos pasos es separar la edad, en años o mesos, del resto de strings."
   ]
  },
  {
   "cell_type": "code",
   "execution_count": 304,
   "metadata": {},
   "outputs": [],
   "source": [
    "df[['Edad', 'Otro']] = df['Edad'].str.split(' ', n=1, expand=True)"
   ]
  },
  {
   "attachments": {},
   "cell_type": "markdown",
   "metadata": {},
   "source": [
    "Podemos observar en nuestro dataset que encontramos algunas edades que son flotantes, lo cuál nos llama la atención. En general, puede apreciarse que tales edades están asociadas a una columna 'None' en la etiqueta Otro. Vamos a indagar esto mismo."
   ]
  },
  {
   "cell_type": "code",
   "execution_count": 305,
   "metadata": {},
   "outputs": [
    {
     "name": "stdout",
     "output_type": "stream",
     "text": [
      "0 1805\n"
     ]
    }
   ],
   "source": [
    "serie = df.loc[df['Otro'].isnull(), 'Otro']\n",
    "diferentes = 0\n",
    "none = 0\n",
    "for i in serie.values:\n",
    "    if i is None:\n",
    "        none+=1\n",
    "    else:\n",
    "        diferentes+=1\n",
    "\n",
    "print(diferentes, none)"
   ]
  },
  {
   "attachments": {},
   "cell_type": "markdown",
   "metadata": {},
   "source": [
    "Iterando un bucle sobre los valores de la serie podemos observar que los valores None forman el total de las filas de este filtro. Como no tenemos un valor en edad vamos a imputarle el número 0 a todos aquellos valores que sean null."
   ]
  },
  {
   "cell_type": "code",
   "execution_count": 306,
   "metadata": {},
   "outputs": [],
   "source": [
    "df.loc[df['Otro'].isnull(), 'Edad'] = 0"
   ]
  },
  {
   "attachments": {},
   "cell_type": "markdown",
   "metadata": {},
   "source": [
    "Realizamos la misma operación para aquellas celadas que hayan quedado con un valor no asignado. "
   ]
  },
  {
   "cell_type": "code",
   "execution_count": 307,
   "metadata": {},
   "outputs": [],
   "source": [
    "df.loc[df['Edad']=='', 'Edad'] = 0"
   ]
  },
  {
   "attachments": {},
   "cell_type": "markdown",
   "metadata": {},
   "source": [
    "Transformamos toda la columna Edad en string para poder aplicar un filtro de strings."
   ]
  },
  {
   "cell_type": "code",
   "execution_count": 308,
   "metadata": {},
   "outputs": [],
   "source": [
    "df['Edad'] = df['Edad'].apply(lambda x: str(x))"
   ]
  },
  {
   "attachments": {},
   "cell_type": "markdown",
   "metadata": {},
   "source": [
    "Reemplazamos en la columna edad aquellos strings que contienen la palabra 'year' junto con el número de la edad."
   ]
  },
  {
   "cell_type": "code",
   "execution_count": 309,
   "metadata": {},
   "outputs": [],
   "source": [
    "df.loc[df['Edad'].str.contains('year'), 'Edad'] = df['Edad'].str.replace('year', '')"
   ]
  },
  {
   "cell_type": "code",
   "execution_count": 310,
   "metadata": {},
   "outputs": [
    {
     "data": {
      "text/plain": [
       "0         7045\n",
       "15         637\n",
       "4          501\n",
       "6          409\n",
       "3          366\n",
       "          ... \n",
       "50s          1\n",
       "54           1\n",
       "44           1\n",
       "60s          1\n",
       "Amazon       1\n",
       "Name: Edad, Length: 109, dtype: int64"
      ]
     },
     "execution_count": 310,
     "metadata": {},
     "output_type": "execute_result"
    }
   ],
   "source": [
    "df['Edad'].value_counts()"
   ]
  },
  {
   "attachments": {},
   "cell_type": "markdown",
   "metadata": {},
   "source": [
    "Lo mismo vamos a hacer para la letra 's' que se puede apreciar en el value_counts() de arriba."
   ]
  },
  {
   "cell_type": "code",
   "execution_count": 311,
   "metadata": {},
   "outputs": [],
   "source": [
    "df.loc[df['Edad'].str.contains('s'), 'Edad'] = df['Edad'].str.replace('s', '')"
   ]
  },
  {
   "attachments": {},
   "cell_type": "markdown",
   "metadata": {},
   "source": [
    "De igual manera procedemos con 'Amazon'."
   ]
  },
  {
   "cell_type": "code",
   "execution_count": 312,
   "metadata": {},
   "outputs": [],
   "source": [
    "df.loc[df['Edad'].str.contains('Amazon'), 'Edad'] = df['Edad'].str.replace('Amazon', '')"
   ]
  },
  {
   "attachments": {},
   "cell_type": "markdown",
   "metadata": {},
   "source": [
    "Transformamos toda la columna edad en numérica."
   ]
  },
  {
   "cell_type": "code",
   "execution_count": 313,
   "metadata": {},
   "outputs": [],
   "source": [
    "df['Edad'] = pd.to_numeric(df['Edad'])"
   ]
  },
  {
   "attachments": {},
   "cell_type": "markdown",
   "metadata": {},
   "source": [
    "Ahora vamos a proceder a hacer uniforme la edad. Para ello nos observaremos la columna 'Otros' y localizaremos aquellas celdas que relacionadas con la palabra 'month' para trabajar a la edad en años."
   ]
  },
  {
   "attachments": {},
   "cell_type": "markdown",
   "metadata": {},
   "source": [
    "Nuevamente, transformamos toda la columna en string."
   ]
  },
  {
   "cell_type": "code",
   "execution_count": 314,
   "metadata": {},
   "outputs": [],
   "source": [
    "df['Otro'] = df['Otro'].apply(lambda x: str(x))"
   ]
  },
  {
   "attachments": {},
   "cell_type": "markdown",
   "metadata": {},
   "source": [
    "Aplicamos la división piso para obtener las edades en años y sin números con decimales."
   ]
  },
  {
   "cell_type": "code",
   "execution_count": 315,
   "metadata": {},
   "outputs": [],
   "source": [
    "df.loc[df['Otro'].str.contains('months'), 'Edad'] = df['Edad']//12"
   ]
  },
  {
   "attachments": {},
   "cell_type": "markdown",
   "metadata": {},
   "source": [
    "Podemos notar que ahora en la columna edad tenemos un valor NaN, el cuál imputaremos con el número 0."
   ]
  },
  {
   "cell_type": "code",
   "execution_count": 316,
   "metadata": {},
   "outputs": [],
   "source": [
    "df[df['Edad'].isna()] = 0"
   ]
  },
  {
   "attachments": {},
   "cell_type": "markdown",
   "metadata": {},
   "source": [
    "Transformamos todos los valores de la columna edad en enteros."
   ]
  },
  {
   "cell_type": "code",
   "execution_count": 317,
   "metadata": {},
   "outputs": [],
   "source": [
    "df['Edad'] = df['Edad'].apply(lambda x: int(x))"
   ]
  },
  {
   "attachments": {},
   "cell_type": "markdown",
   "metadata": {},
   "source": [
    "Procedemos a eliminar la columna 'Otro', ya que no se utilizará en el resultado final."
   ]
  },
  {
   "cell_type": "code",
   "execution_count": 318,
   "metadata": {},
   "outputs": [
    {
     "data": {
      "text/html": [
       "<div>\n",
       "<style scoped>\n",
       "    .dataframe tbody tr th:only-of-type {\n",
       "        vertical-align: middle;\n",
       "    }\n",
       "\n",
       "    .dataframe tbody tr th {\n",
       "        vertical-align: top;\n",
       "    }\n",
       "\n",
       "    .dataframe thead th {\n",
       "        text-align: right;\n",
       "    }\n",
       "</style>\n",
       "<table border=\"1\" class=\"dataframe\">\n",
       "  <thead>\n",
       "    <tr style=\"text-align: right;\">\n",
       "      <th></th>\n",
       "      <th>Descripcion</th>\n",
       "      <th>Precio</th>\n",
       "      <th>Reseñas</th>\n",
       "      <th>Precio Real</th>\n",
       "      <th>Dias sin cargo</th>\n",
       "      <th>Envio</th>\n",
       "      <th>Fecha de entrega</th>\n",
       "      <th>Ventas en meses pasados</th>\n",
       "      <th>Stock</th>\n",
       "      <th>Edad</th>\n",
       "    </tr>\n",
       "  </thead>\n",
       "  <tbody>\n",
       "    <tr>\n",
       "      <th>0</th>\n",
       "      <td>Spider-Man Marvel Legends Series Across The Sp...</td>\n",
       "      <td>24</td>\n",
       "      <td>71</td>\n",
       "      <td>24.99</td>\n",
       "      <td>90</td>\n",
       "      <td>Ships to Bangladesh</td>\n",
       "      <td>Tue, Jun 20</td>\n",
       "      <td>200</td>\n",
       "      <td>3</td>\n",
       "      <td>4</td>\n",
       "    </tr>\n",
       "    <tr>\n",
       "      <th>1</th>\n",
       "      <td>Spider-Man Marvel Legends Series Across The Sp...</td>\n",
       "      <td>22</td>\n",
       "      <td>55</td>\n",
       "      <td>14.99</td>\n",
       "      <td>90</td>\n",
       "      <td>Ships to Bangladesh</td>\n",
       "      <td>Tue, Jun 20</td>\n",
       "      <td>200</td>\n",
       "      <td>3</td>\n",
       "      <td>4</td>\n",
       "    </tr>\n",
       "    <tr>\n",
       "      <th>2</th>\n",
       "      <td>Fisher-Price Little People Musical Toddler Toy...</td>\n",
       "      <td>7</td>\n",
       "      <td>2895</td>\n",
       "      <td>9.99</td>\n",
       "      <td>90</td>\n",
       "      <td>Ships to Bangladesh</td>\n",
       "      <td>Tue, Jun 20</td>\n",
       "      <td>100</td>\n",
       "      <td>3</td>\n",
       "      <td>1</td>\n",
       "    </tr>\n",
       "    <tr>\n",
       "      <th>3</th>\n",
       "      <td>CatToysOfficial - CAT Little Machines 5pcs Con...</td>\n",
       "      <td>5</td>\n",
       "      <td>2530</td>\n",
       "      <td>24.99</td>\n",
       "      <td>90</td>\n",
       "      <td>Ships to Bangladesh</td>\n",
       "      <td>Tue, Jun 20</td>\n",
       "      <td>100</td>\n",
       "      <td>3</td>\n",
       "      <td>3</td>\n",
       "    </tr>\n",
       "    <tr>\n",
       "      <th>4</th>\n",
       "      <td>Spider-Man Marvel Legends Series Across The Sp...</td>\n",
       "      <td>22</td>\n",
       "      <td>40</td>\n",
       "      <td>85.99</td>\n",
       "      <td>90</td>\n",
       "      <td>Ships to Bangladesh</td>\n",
       "      <td>Tue, Jun 20</td>\n",
       "      <td>90</td>\n",
       "      <td>3</td>\n",
       "      <td>4</td>\n",
       "    </tr>\n",
       "    <tr>\n",
       "      <th>...</th>\n",
       "      <td>...</td>\n",
       "      <td>...</td>\n",
       "      <td>...</td>\n",
       "      <td>...</td>\n",
       "      <td>...</td>\n",
       "      <td>...</td>\n",
       "      <td>...</td>\n",
       "      <td>...</td>\n",
       "      <td>...</td>\n",
       "      <td>...</td>\n",
       "    </tr>\n",
       "    <tr>\n",
       "      <th>11398</th>\n",
       "      <td>Papo - Hand-Painted - Figurine - Marine Life -...</td>\n",
       "      <td>11</td>\n",
       "      <td>1094</td>\n",
       "      <td>11.00</td>\n",
       "      <td>90</td>\n",
       "      <td>Ships to Bangladesh</td>\n",
       "      <td>Tue, Jun 20</td>\n",
       "      <td>100</td>\n",
       "      <td>1</td>\n",
       "      <td>0</td>\n",
       "    </tr>\n",
       "    <tr>\n",
       "      <th>11399</th>\n",
       "      <td>Green Toys Farm Playset. CB2</td>\n",
       "      <td>26</td>\n",
       "      <td>78</td>\n",
       "      <td>26.00</td>\n",
       "      <td>90</td>\n",
       "      <td>Ships to Bangladesh</td>\n",
       "      <td>Tue, Jun 20</td>\n",
       "      <td>100</td>\n",
       "      <td>1</td>\n",
       "      <td>0</td>\n",
       "    </tr>\n",
       "    <tr>\n",
       "      <th>11400</th>\n",
       "      <td>Teenage Mutant Ninja Turtles 5\" Sewer Shredder...</td>\n",
       "      <td>10</td>\n",
       "      <td>78</td>\n",
       "      <td>10.00</td>\n",
       "      <td>90</td>\n",
       "      <td>Ships to Bangladesh</td>\n",
       "      <td>Tue, Jun 20</td>\n",
       "      <td>100</td>\n",
       "      <td>1</td>\n",
       "      <td>0</td>\n",
       "    </tr>\n",
       "    <tr>\n",
       "      <th>11401</th>\n",
       "      <td>Schleich Wild Life, Wild Animal Toys for Kids,...</td>\n",
       "      <td>42</td>\n",
       "      <td>78</td>\n",
       "      <td>42.00</td>\n",
       "      <td>90</td>\n",
       "      <td>Ships to Bangladesh</td>\n",
       "      <td>Tue, Jun 20</td>\n",
       "      <td>100</td>\n",
       "      <td>1</td>\n",
       "      <td>5</td>\n",
       "    </tr>\n",
       "    <tr>\n",
       "      <th>11402</th>\n",
       "      <td>Schleich bayala, 5-Piece Starter Set with Fair...</td>\n",
       "      <td>34</td>\n",
       "      <td>78</td>\n",
       "      <td>34.00</td>\n",
       "      <td>90</td>\n",
       "      <td>Ships to Bangladesh</td>\n",
       "      <td>Tue, Jun 20</td>\n",
       "      <td>100</td>\n",
       "      <td>1</td>\n",
       "      <td>0</td>\n",
       "    </tr>\n",
       "  </tbody>\n",
       "</table>\n",
       "<p>11403 rows × 10 columns</p>\n",
       "</div>"
      ],
      "text/plain": [
       "                                             Descripcion  Precio  Reseñas  \\\n",
       "0      Spider-Man Marvel Legends Series Across The Sp...      24       71   \n",
       "1      Spider-Man Marvel Legends Series Across The Sp...      22       55   \n",
       "2      Fisher-Price Little People Musical Toddler Toy...       7     2895   \n",
       "3      CatToysOfficial - CAT Little Machines 5pcs Con...       5     2530   \n",
       "4      Spider-Man Marvel Legends Series Across The Sp...      22       40   \n",
       "...                                                  ...     ...      ...   \n",
       "11398  Papo - Hand-Painted - Figurine - Marine Life -...      11     1094   \n",
       "11399                       Green Toys Farm Playset. CB2      26       78   \n",
       "11400  Teenage Mutant Ninja Turtles 5\" Sewer Shredder...      10       78   \n",
       "11401  Schleich Wild Life, Wild Animal Toys for Kids,...      42       78   \n",
       "11402  Schleich bayala, 5-Piece Starter Set with Fair...      34       78   \n",
       "\n",
       "       Precio Real  Dias sin cargo                Envio Fecha de entrega  \\\n",
       "0            24.99              90  Ships to Bangladesh      Tue, Jun 20   \n",
       "1            14.99              90  Ships to Bangladesh      Tue, Jun 20   \n",
       "2             9.99              90  Ships to Bangladesh      Tue, Jun 20   \n",
       "3            24.99              90  Ships to Bangladesh      Tue, Jun 20   \n",
       "4            85.99              90  Ships to Bangladesh      Tue, Jun 20   \n",
       "...            ...             ...                  ...              ...   \n",
       "11398        11.00              90  Ships to Bangladesh      Tue, Jun 20   \n",
       "11399        26.00              90  Ships to Bangladesh      Tue, Jun 20   \n",
       "11400        10.00              90  Ships to Bangladesh      Tue, Jun 20   \n",
       "11401        42.00              90  Ships to Bangladesh      Tue, Jun 20   \n",
       "11402        34.00              90  Ships to Bangladesh      Tue, Jun 20   \n",
       "\n",
       "       Ventas en meses pasados  Stock  Edad  \n",
       "0                          200      3     4  \n",
       "1                          200      3     4  \n",
       "2                          100      3     1  \n",
       "3                          100      3     3  \n",
       "4                           90      3     4  \n",
       "...                        ...    ...   ...  \n",
       "11398                      100      1     0  \n",
       "11399                      100      1     0  \n",
       "11400                      100      1     0  \n",
       "11401                      100      1     5  \n",
       "11402                      100      1     0  \n",
       "\n",
       "[11403 rows x 10 columns]"
      ]
     },
     "execution_count": 318,
     "metadata": {},
     "output_type": "execute_result"
    }
   ],
   "source": [
    "df.drop('Otro', axis=1)"
   ]
  },
  {
   "attachments": {},
   "cell_type": "markdown",
   "metadata": {},
   "source": [
    "Descargamos el dataset limpio en formato csv."
   ]
  },
  {
   "cell_type": "code",
   "execution_count": 323,
   "metadata": {},
   "outputs": [],
   "source": [
    "df.to_csv('data_limpio.csv')"
   ]
  }
 ],
 "metadata": {
  "kernelspec": {
   "display_name": "Python 3",
   "language": "python",
   "name": "python3"
  },
  "language_info": {
   "codemirror_mode": {
    "name": "ipython",
    "version": 3
   },
   "file_extension": ".py",
   "mimetype": "text/x-python",
   "name": "python",
   "nbconvert_exporter": "python",
   "pygments_lexer": "ipython3",
   "version": "3.10.5"
  },
  "orig_nbformat": 4
 },
 "nbformat": 4,
 "nbformat_minor": 2
}
