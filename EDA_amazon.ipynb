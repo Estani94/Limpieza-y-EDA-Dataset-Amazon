{
 "cells": [
  {
   "attachments": {},
   "cell_type": "markdown",
   "metadata": {},
   "source": [
    "# Importamos las librerías necesarias"
   ]
  },
  {
   "cell_type": "code",
   "execution_count": 1,
   "metadata": {},
   "outputs": [],
   "source": [
    "import pandas as pd\n",
    "import matplotlib.pyplot as plt\n",
    "import seaborn as sns\n",
    "\n",
    "%matplotlib inline"
   ]
  },
  {
   "attachments": {},
   "cell_type": "markdown",
   "metadata": {},
   "source": [
    "# Cargamos el dataset limpio para poder crear un DataFrame"
   ]
  },
  {
   "cell_type": "code",
   "execution_count": 2,
   "metadata": {},
   "outputs": [
    {
     "data": {
      "text/html": [
       "<div>\n",
       "<style scoped>\n",
       "    .dataframe tbody tr th:only-of-type {\n",
       "        vertical-align: middle;\n",
       "    }\n",
       "\n",
       "    .dataframe tbody tr th {\n",
       "        vertical-align: top;\n",
       "    }\n",
       "\n",
       "    .dataframe thead th {\n",
       "        text-align: right;\n",
       "    }\n",
       "</style>\n",
       "<table border=\"1\" class=\"dataframe\">\n",
       "  <thead>\n",
       "    <tr style=\"text-align: right;\">\n",
       "      <th></th>\n",
       "      <th>Unnamed: 0</th>\n",
       "      <th>Descripcion</th>\n",
       "      <th>Precio</th>\n",
       "      <th>Reseñas</th>\n",
       "      <th>Precio Real</th>\n",
       "      <th>Dias sin cargo</th>\n",
       "      <th>Envio</th>\n",
       "      <th>Fecha de entrega</th>\n",
       "      <th>Ventas en meses pasados</th>\n",
       "      <th>Stock</th>\n",
       "      <th>Edad</th>\n",
       "      <th>Otro</th>\n",
       "    </tr>\n",
       "  </thead>\n",
       "  <tbody>\n",
       "    <tr>\n",
       "      <th>0</th>\n",
       "      <td>0</td>\n",
       "      <td>Spider-Man Marvel Legends Series Across The Sp...</td>\n",
       "      <td>24</td>\n",
       "      <td>71</td>\n",
       "      <td>24.99</td>\n",
       "      <td>90</td>\n",
       "      <td>Ships to Bangladesh</td>\n",
       "      <td>Tue, Jun 20</td>\n",
       "      <td>200</td>\n",
       "      <td>3</td>\n",
       "      <td>4</td>\n",
       "      <td>years and up</td>\n",
       "    </tr>\n",
       "    <tr>\n",
       "      <th>1</th>\n",
       "      <td>1</td>\n",
       "      <td>Spider-Man Marvel Legends Series Across The Sp...</td>\n",
       "      <td>22</td>\n",
       "      <td>55</td>\n",
       "      <td>14.99</td>\n",
       "      <td>90</td>\n",
       "      <td>Ships to Bangladesh</td>\n",
       "      <td>Tue, Jun 20</td>\n",
       "      <td>200</td>\n",
       "      <td>3</td>\n",
       "      <td>4</td>\n",
       "      <td>years and up</td>\n",
       "    </tr>\n",
       "    <tr>\n",
       "      <th>2</th>\n",
       "      <td>2</td>\n",
       "      <td>Fisher-Price Little People Musical Toddler Toy...</td>\n",
       "      <td>7</td>\n",
       "      <td>2895</td>\n",
       "      <td>9.99</td>\n",
       "      <td>90</td>\n",
       "      <td>Ships to Bangladesh</td>\n",
       "      <td>Tue, Jun 20</td>\n",
       "      <td>100</td>\n",
       "      <td>3</td>\n",
       "      <td>1</td>\n",
       "      <td>months - 5 years</td>\n",
       "    </tr>\n",
       "    <tr>\n",
       "      <th>3</th>\n",
       "      <td>3</td>\n",
       "      <td>CatToysOfficial - CAT Little Machines 5pcs Con...</td>\n",
       "      <td>5</td>\n",
       "      <td>2530</td>\n",
       "      <td>24.99</td>\n",
       "      <td>90</td>\n",
       "      <td>Ships to Bangladesh</td>\n",
       "      <td>Tue, Jun 20</td>\n",
       "      <td>100</td>\n",
       "      <td>3</td>\n",
       "      <td>3</td>\n",
       "      <td>months - 6 years</td>\n",
       "    </tr>\n",
       "    <tr>\n",
       "      <th>4</th>\n",
       "      <td>4</td>\n",
       "      <td>Spider-Man Marvel Legends Series Across The Sp...</td>\n",
       "      <td>22</td>\n",
       "      <td>40</td>\n",
       "      <td>85.99</td>\n",
       "      <td>90</td>\n",
       "      <td>Ships to Bangladesh</td>\n",
       "      <td>Tue, Jun 20</td>\n",
       "      <td>90</td>\n",
       "      <td>3</td>\n",
       "      <td>4</td>\n",
       "      <td>years and up</td>\n",
       "    </tr>\n",
       "  </tbody>\n",
       "</table>\n",
       "</div>"
      ],
      "text/plain": [
       "   Unnamed: 0                                        Descripcion  Precio  \\\n",
       "0           0  Spider-Man Marvel Legends Series Across The Sp...      24   \n",
       "1           1  Spider-Man Marvel Legends Series Across The Sp...      22   \n",
       "2           2  Fisher-Price Little People Musical Toddler Toy...       7   \n",
       "3           3  CatToysOfficial - CAT Little Machines 5pcs Con...       5   \n",
       "4           4  Spider-Man Marvel Legends Series Across The Sp...      22   \n",
       "\n",
       "   Reseñas  Precio Real  Dias sin cargo                Envio Fecha de entrega  \\\n",
       "0       71        24.99              90  Ships to Bangladesh      Tue, Jun 20   \n",
       "1       55        14.99              90  Ships to Bangladesh      Tue, Jun 20   \n",
       "2     2895         9.99              90  Ships to Bangladesh      Tue, Jun 20   \n",
       "3     2530        24.99              90  Ships to Bangladesh      Tue, Jun 20   \n",
       "4       40        85.99              90  Ships to Bangladesh      Tue, Jun 20   \n",
       "\n",
       "   Ventas en meses pasados  Stock  Edad              Otro  \n",
       "0                      200      3     4      years and up  \n",
       "1                      200      3     4      years and up  \n",
       "2                      100      3     1  months - 5 years  \n",
       "3                      100      3     3  months - 6 years  \n",
       "4                       90      3     4      years and up  "
      ]
     },
     "execution_count": 2,
     "metadata": {},
     "output_type": "execute_result"
    }
   ],
   "source": [
    "df = pd.read_csv('data_limpio.csv')\n",
    "df.head(5)"
   ]
  },
  {
   "cell_type": "code",
   "execution_count": 3,
   "metadata": {},
   "outputs": [
    {
     "data": {
      "text/plain": [
       "Index(['Unnamed: 0', 'Descripcion', 'Precio', 'Reseñas', 'Precio Real',\n",
       "       'Dias sin cargo', 'Envio', 'Fecha de entrega',\n",
       "       'Ventas en meses pasados', 'Stock', 'Edad', 'Otro'],\n",
       "      dtype='object')"
      ]
     },
     "execution_count": 3,
     "metadata": {},
     "output_type": "execute_result"
    }
   ],
   "source": [
    "df.columns"
   ]
  },
  {
   "attachments": {},
   "cell_type": "markdown",
   "metadata": {},
   "source": [
    "Vemos que aparece en este DataFrame una columna que se llama 'Unnamed: 0' y otra que se llama 'Otro'. Como no nos sirven vamos a proceder a eliminarlas. Las mismas quedaron de la limpieza realizada anteriormente."
   ]
  },
  {
   "cell_type": "code",
   "execution_count": 4,
   "metadata": {},
   "outputs": [],
   "source": [
    "df.drop('Unnamed: 0', axis=1, inplace=True)"
   ]
  },
  {
   "cell_type": "code",
   "execution_count": 5,
   "metadata": {},
   "outputs": [],
   "source": [
    "df.drop('Otro', axis=1, inplace=True)"
   ]
  },
  {
   "attachments": {},
   "cell_type": "markdown",
   "metadata": {},
   "source": [
    "Constatamos que se hayan eliminado las columnas en cuestión."
   ]
  },
  {
   "cell_type": "code",
   "execution_count": 6,
   "metadata": {},
   "outputs": [
    {
     "data": {
      "text/html": [
       "<div>\n",
       "<style scoped>\n",
       "    .dataframe tbody tr th:only-of-type {\n",
       "        vertical-align: middle;\n",
       "    }\n",
       "\n",
       "    .dataframe tbody tr th {\n",
       "        vertical-align: top;\n",
       "    }\n",
       "\n",
       "    .dataframe thead th {\n",
       "        text-align: right;\n",
       "    }\n",
       "</style>\n",
       "<table border=\"1\" class=\"dataframe\">\n",
       "  <thead>\n",
       "    <tr style=\"text-align: right;\">\n",
       "      <th></th>\n",
       "      <th>Descripcion</th>\n",
       "      <th>Precio</th>\n",
       "      <th>Reseñas</th>\n",
       "      <th>Precio Real</th>\n",
       "      <th>Dias sin cargo</th>\n",
       "      <th>Envio</th>\n",
       "      <th>Fecha de entrega</th>\n",
       "      <th>Ventas en meses pasados</th>\n",
       "      <th>Stock</th>\n",
       "      <th>Edad</th>\n",
       "    </tr>\n",
       "  </thead>\n",
       "  <tbody>\n",
       "    <tr>\n",
       "      <th>0</th>\n",
       "      <td>Spider-Man Marvel Legends Series Across The Sp...</td>\n",
       "      <td>24</td>\n",
       "      <td>71</td>\n",
       "      <td>24.99</td>\n",
       "      <td>90</td>\n",
       "      <td>Ships to Bangladesh</td>\n",
       "      <td>Tue, Jun 20</td>\n",
       "      <td>200</td>\n",
       "      <td>3</td>\n",
       "      <td>4</td>\n",
       "    </tr>\n",
       "    <tr>\n",
       "      <th>1</th>\n",
       "      <td>Spider-Man Marvel Legends Series Across The Sp...</td>\n",
       "      <td>22</td>\n",
       "      <td>55</td>\n",
       "      <td>14.99</td>\n",
       "      <td>90</td>\n",
       "      <td>Ships to Bangladesh</td>\n",
       "      <td>Tue, Jun 20</td>\n",
       "      <td>200</td>\n",
       "      <td>3</td>\n",
       "      <td>4</td>\n",
       "    </tr>\n",
       "  </tbody>\n",
       "</table>\n",
       "</div>"
      ],
      "text/plain": [
       "                                         Descripcion  Precio  Reseñas  \\\n",
       "0  Spider-Man Marvel Legends Series Across The Sp...      24       71   \n",
       "1  Spider-Man Marvel Legends Series Across The Sp...      22       55   \n",
       "\n",
       "   Precio Real  Dias sin cargo                Envio Fecha de entrega  \\\n",
       "0        24.99              90  Ships to Bangladesh      Tue, Jun 20   \n",
       "1        14.99              90  Ships to Bangladesh      Tue, Jun 20   \n",
       "\n",
       "   Ventas en meses pasados  Stock  Edad  \n",
       "0                      200      3     4  \n",
       "1                      200      3     4  "
      ]
     },
     "execution_count": 6,
     "metadata": {},
     "output_type": "execute_result"
    }
   ],
   "source": [
    "df.head(2)"
   ]
  },
  {
   "attachments": {},
   "cell_type": "markdown",
   "metadata": {},
   "source": [
    "Vamos a realizar un meta-análisis del dataset. Para elllo procederemos a crear dos listas. Una contendrá las columnas categóricas y la otra presentará las columnas numéricas."
   ]
  },
  {
   "cell_type": "code",
   "execution_count": 7,
   "metadata": {},
   "outputs": [],
   "source": [
    "categoricas = [i for i in df.columns if df[i].dtype=='object']\n",
    "numericas = [i for i in df.columns if df[i].dtype=='int64' or df[i].dtype=='float64']"
   ]
  },
  {
   "attachments": {},
   "cell_type": "markdown",
   "metadata": {},
   "source": [
    "# Columnas numéricas"
   ]
  },
  {
   "attachments": {},
   "cell_type": "markdown",
   "metadata": {},
   "source": [
    "## La columna 'Precio'"
   ]
  },
  {
   "attachments": {},
   "cell_type": "markdown",
   "metadata": {},
   "source": [
    "Veamos cuál es el precio más alto presente en nuestro DataFrame"
   ]
  },
  {
   "cell_type": "code",
   "execution_count": 8,
   "metadata": {},
   "outputs": [
    {
     "data": {
      "text/plain": [
       "702"
      ]
     },
     "execution_count": 8,
     "metadata": {},
     "output_type": "execute_result"
    }
   ],
   "source": [
    "df['Precio'].max()"
   ]
  },
  {
   "attachments": {},
   "cell_type": "markdown",
   "metadata": {},
   "source": [
    "Sabemos que el precio más alto en nuestro DataFrame es de 702, veamos si refiere a más de un juguete o no, creando un DataFrame con el filtro del precio máximo."
   ]
  },
  {
   "cell_type": "code",
   "execution_count": 9,
   "metadata": {},
   "outputs": [
    {
     "data": {
      "text/html": [
       "<div>\n",
       "<style scoped>\n",
       "    .dataframe tbody tr th:only-of-type {\n",
       "        vertical-align: middle;\n",
       "    }\n",
       "\n",
       "    .dataframe tbody tr th {\n",
       "        vertical-align: top;\n",
       "    }\n",
       "\n",
       "    .dataframe thead th {\n",
       "        text-align: right;\n",
       "    }\n",
       "</style>\n",
       "<table border=\"1\" class=\"dataframe\">\n",
       "  <thead>\n",
       "    <tr style=\"text-align: right;\">\n",
       "      <th></th>\n",
       "      <th>Descripcion</th>\n",
       "      <th>Precio</th>\n",
       "      <th>Reseñas</th>\n",
       "      <th>Precio Real</th>\n",
       "      <th>Dias sin cargo</th>\n",
       "      <th>Envio</th>\n",
       "      <th>Fecha de entrega</th>\n",
       "      <th>Ventas en meses pasados</th>\n",
       "      <th>Stock</th>\n",
       "      <th>Edad</th>\n",
       "    </tr>\n",
       "  </thead>\n",
       "  <tbody>\n",
       "    <tr>\n",
       "      <th>10619</th>\n",
       "      <td>Infinity Studio x League of LegendsHallowed Se...</td>\n",
       "      <td>702</td>\n",
       "      <td>384</td>\n",
       "      <td>702.0</td>\n",
       "      <td>90</td>\n",
       "      <td>Ships to Bangladesh</td>\n",
       "      <td>Tue, Jun 20</td>\n",
       "      <td>90</td>\n",
       "      <td>2</td>\n",
       "      <td>15</td>\n",
       "    </tr>\n",
       "  </tbody>\n",
       "</table>\n",
       "</div>"
      ],
      "text/plain": [
       "                                             Descripcion  Precio  Reseñas  \\\n",
       "10619  Infinity Studio x League of LegendsHallowed Se...     702      384   \n",
       "\n",
       "       Precio Real  Dias sin cargo                Envio Fecha de entrega  \\\n",
       "10619        702.0              90  Ships to Bangladesh      Tue, Jun 20   \n",
       "\n",
       "       Ventas en meses pasados  Stock  Edad  \n",
       "10619                       90      2    15  "
      ]
     },
     "execution_count": 9,
     "metadata": {},
     "output_type": "execute_result"
    }
   ],
   "source": [
    "df_precio_max = df[df['Precio']==702]\n",
    "df_precio_max"
   ]
  },
  {
   "attachments": {},
   "cell_type": "markdown",
   "metadata": {},
   "source": [
    "El precio máximo refiere sólo a un producto con 384 reseñas, que no presenta descuentos, del cuál se vendieron 90 unidades en los meses pasados, quedan 2 de ellas y la edad recomendada es a partir de los 15 años."
   ]
  },
  {
   "attachments": {},
   "cell_type": "markdown",
   "metadata": {},
   "source": [
    "Observemos ahora el precio mínimo presente en nuestro DataFrame."
   ]
  },
  {
   "cell_type": "code",
   "execution_count": 10,
   "metadata": {},
   "outputs": [
    {
     "data": {
      "text/plain": [
       "0"
      ]
     },
     "execution_count": 10,
     "metadata": {},
     "output_type": "execute_result"
    }
   ],
   "source": [
    "df['Precio'].min()"
   ]
  },
  {
   "attachments": {},
   "cell_type": "markdown",
   "metadata": {},
   "source": [
    "Llama la atención que el precio mínimo sea igual a 0. Vamos a filtrar los datos cuyo precio sea igual a 0."
   ]
  },
  {
   "cell_type": "code",
   "execution_count": 11,
   "metadata": {},
   "outputs": [
    {
     "data": {
      "text/html": [
       "<div>\n",
       "<style scoped>\n",
       "    .dataframe tbody tr th:only-of-type {\n",
       "        vertical-align: middle;\n",
       "    }\n",
       "\n",
       "    .dataframe tbody tr th {\n",
       "        vertical-align: top;\n",
       "    }\n",
       "\n",
       "    .dataframe thead th {\n",
       "        text-align: right;\n",
       "    }\n",
       "</style>\n",
       "<table border=\"1\" class=\"dataframe\">\n",
       "  <thead>\n",
       "    <tr style=\"text-align: right;\">\n",
       "      <th></th>\n",
       "      <th>Descripcion</th>\n",
       "      <th>Precio</th>\n",
       "      <th>Reseñas</th>\n",
       "      <th>Precio Real</th>\n",
       "      <th>Dias sin cargo</th>\n",
       "      <th>Envio</th>\n",
       "      <th>Fecha de entrega</th>\n",
       "      <th>Ventas en meses pasados</th>\n",
       "      <th>Stock</th>\n",
       "      <th>Edad</th>\n",
       "    </tr>\n",
       "  </thead>\n",
       "  <tbody>\n",
       "    <tr>\n",
       "      <th>9203</th>\n",
       "      <td>0</td>\n",
       "      <td>0</td>\n",
       "      <td>0</td>\n",
       "      <td>0.0</td>\n",
       "      <td>0</td>\n",
       "      <td>0</td>\n",
       "      <td>0</td>\n",
       "      <td>0</td>\n",
       "      <td>0</td>\n",
       "      <td>0</td>\n",
       "    </tr>\n",
       "  </tbody>\n",
       "</table>\n",
       "</div>"
      ],
      "text/plain": [
       "     Descripcion  Precio  Reseñas  Precio Real  Dias sin cargo Envio  \\\n",
       "9203           0       0        0          0.0               0     0   \n",
       "\n",
       "     Fecha de entrega  Ventas en meses pasados  Stock  Edad  \n",
       "9203                0                        0      0     0  "
      ]
     },
     "execution_count": 11,
     "metadata": {},
     "output_type": "execute_result"
    }
   ],
   "source": [
    "df[df['Precio']==0]"
   ]
  },
  {
   "attachments": {},
   "cell_type": "markdown",
   "metadata": {},
   "source": [
    "Esto podría deberse a un error a la hora de recolectar los datos. Como sólo se trata de una fila en DataFrame de 11403, vamos a proceder a eliminarla."
   ]
  },
  {
   "cell_type": "code",
   "execution_count": 12,
   "metadata": {},
   "outputs": [],
   "source": [
    "df.drop(index=9203, inplace=True)"
   ]
  },
  {
   "attachments": {},
   "cell_type": "markdown",
   "metadata": {},
   "source": [
    "Buscamos, nuevamente, cuál es el precio más bajo presente."
   ]
  },
  {
   "cell_type": "code",
   "execution_count": 13,
   "metadata": {},
   "outputs": [
    {
     "data": {
      "text/plain": [
       "2"
      ]
     },
     "execution_count": 13,
     "metadata": {},
     "output_type": "execute_result"
    }
   ],
   "source": [
    "df['Precio'].min()"
   ]
  },
  {
   "attachments": {},
   "cell_type": "markdown",
   "metadata": {},
   "source": [
    "Este precio mínimo parece ser más coherente. Vamos a crear un DataFrame con este precio mínimo como filtro."
   ]
  },
  {
   "cell_type": "code",
   "execution_count": 14,
   "metadata": {},
   "outputs": [
    {
     "data": {
      "text/html": [
       "<div>\n",
       "<style scoped>\n",
       "    .dataframe tbody tr th:only-of-type {\n",
       "        vertical-align: middle;\n",
       "    }\n",
       "\n",
       "    .dataframe tbody tr th {\n",
       "        vertical-align: top;\n",
       "    }\n",
       "\n",
       "    .dataframe thead th {\n",
       "        text-align: right;\n",
       "    }\n",
       "</style>\n",
       "<table border=\"1\" class=\"dataframe\">\n",
       "  <thead>\n",
       "    <tr style=\"text-align: right;\">\n",
       "      <th></th>\n",
       "      <th>Descripcion</th>\n",
       "      <th>Precio</th>\n",
       "      <th>Reseñas</th>\n",
       "      <th>Precio Real</th>\n",
       "      <th>Dias sin cargo</th>\n",
       "      <th>Envio</th>\n",
       "      <th>Fecha de entrega</th>\n",
       "      <th>Ventas en meses pasados</th>\n",
       "      <th>Stock</th>\n",
       "      <th>Edad</th>\n",
       "    </tr>\n",
       "  </thead>\n",
       "  <tbody>\n",
       "    <tr>\n",
       "      <th>274</th>\n",
       "      <td>Funko Pop! MoviesBlack Adam - Cyclone</td>\n",
       "      <td>2</td>\n",
       "      <td>15461</td>\n",
       "      <td>12.99</td>\n",
       "      <td>90</td>\n",
       "      <td>Ships to Bangladesh</td>\n",
       "      <td>Tue, Jun 20</td>\n",
       "      <td>90</td>\n",
       "      <td>8</td>\n",
       "      <td>4</td>\n",
       "    </tr>\n",
       "    <tr>\n",
       "      <th>478</th>\n",
       "      <td>Marvel BattleworldSeries 2 Treachery at Twilig...</td>\n",
       "      <td>2</td>\n",
       "      <td>1142</td>\n",
       "      <td>19.99</td>\n",
       "      <td>90</td>\n",
       "      <td>Ships to Bangladesh</td>\n",
       "      <td>Tue, Jun 20</td>\n",
       "      <td>90</td>\n",
       "      <td>1</td>\n",
       "      <td>0</td>\n",
       "    </tr>\n",
       "    <tr>\n",
       "      <th>10213</th>\n",
       "      <td>Just Play The Umbrella Academy 3” Stylized Col...</td>\n",
       "      <td>2</td>\n",
       "      <td>384</td>\n",
       "      <td>2.00</td>\n",
       "      <td>90</td>\n",
       "      <td>Ships to Bangladesh</td>\n",
       "      <td>Tue, Jun 20</td>\n",
       "      <td>90</td>\n",
       "      <td>3</td>\n",
       "      <td>12</td>\n",
       "    </tr>\n",
       "    <tr>\n",
       "      <th>11270</th>\n",
       "      <td>Miyuki HigurashiWhen They Cry – SOTSUHanyu 1:7...</td>\n",
       "      <td>2</td>\n",
       "      <td>32</td>\n",
       "      <td>2.00</td>\n",
       "      <td>90</td>\n",
       "      <td>Ships to Bangladesh</td>\n",
       "      <td>Thu, Jun 22</td>\n",
       "      <td>100</td>\n",
       "      <td>1</td>\n",
       "      <td>0</td>\n",
       "    </tr>\n",
       "  </tbody>\n",
       "</table>\n",
       "</div>"
      ],
      "text/plain": [
       "                                             Descripcion  Precio  Reseñas  \\\n",
       "274                Funko Pop! MoviesBlack Adam - Cyclone       2    15461   \n",
       "478    Marvel BattleworldSeries 2 Treachery at Twilig...       2     1142   \n",
       "10213  Just Play The Umbrella Academy 3” Stylized Col...       2      384   \n",
       "11270  Miyuki HigurashiWhen They Cry – SOTSUHanyu 1:7...       2       32   \n",
       "\n",
       "       Precio Real  Dias sin cargo                Envio Fecha de entrega  \\\n",
       "274          12.99              90  Ships to Bangladesh      Tue, Jun 20   \n",
       "478          19.99              90  Ships to Bangladesh      Tue, Jun 20   \n",
       "10213         2.00              90  Ships to Bangladesh      Tue, Jun 20   \n",
       "11270         2.00              90  Ships to Bangladesh      Thu, Jun 22   \n",
       "\n",
       "       Ventas en meses pasados  Stock  Edad  \n",
       "274                         90      8     4  \n",
       "478                         90      1     0  \n",
       "10213                       90      3    12  \n",
       "11270                      100      1     0  "
      ]
     },
     "execution_count": 14,
     "metadata": {},
     "output_type": "execute_result"
    }
   ],
   "source": [
    "df_precio_min = df[df['Precio']==2]\n",
    "df_precio_min"
   ]
  },
  {
   "cell_type": "code",
   "execution_count": 15,
   "metadata": {},
   "outputs": [
    {
     "name": "stdout",
     "output_type": "stream",
     "text": [
      "Funko Pop! MoviesBlack Adam - Cyclone\n",
      "Marvel BattleworldSeries 2 Treachery at Twilight Battle Ball\n",
      "Just Play The Umbrella Academy 3” Stylized Collectible Figure- Diego, Multi-Color\n",
      "Miyuki HigurashiWhen They Cry – SOTSUHanyu 1:7 Scale PVC Figure,Multicolor\n"
     ]
    }
   ],
   "source": [
    "for i in df_precio_min['Descripcion']:\n",
    "    print(i)"
   ]
  },
  {
   "attachments": {},
   "cell_type": "markdown",
   "metadata": {},
   "source": [
    "Vemos que son cuatro juguetes los que tienen el precio más bajo. Cómo puede apreciarse, el rango etario va de los 0 a 12 años y el stock displonible de cada muñeco varía entre 1 unidad y 8."
   ]
  },
  {
   "attachments": {},
   "cell_type": "markdown",
   "metadata": {},
   "source": [
    "Ahora vamos a crear una columna que nos indique el porcentaje de descuento aplicado sobre el producto, utilizando la columna del  'Precio Real' y la de 'Precio'."
   ]
  },
  {
   "cell_type": "code",
   "execution_count": 16,
   "metadata": {},
   "outputs": [
    {
     "name": "stderr",
     "output_type": "stream",
     "text": [
      "C:\\Users\\usuario\\AppData\\Local\\Temp\\ipykernel_9488\\1533223932.py:1: SettingWithCopyWarning: \n",
      "A value is trying to be set on a copy of a slice from a DataFrame.\n",
      "Try using .loc[row_indexer,col_indexer] = value instead\n",
      "\n",
      "See the caveats in the documentation: https://pandas.pydata.org/pandas-docs/stable/user_guide/indexing.html#returning-a-view-versus-a-copy\n",
      "  df_precio_min['Porcentaje de descuento'] = round(((100*(df_precio_min['Precio Real']-df_precio_min['Precio']))/df['Precio Real']), 2)\n"
     ]
    }
   ],
   "source": [
    "df_precio_min['Porcentaje de descuento'] = round(((100*(df_precio_min['Precio Real']-df_precio_min['Precio']))/df['Precio Real']), 2)"
   ]
  },
  {
   "cell_type": "code",
   "execution_count": 17,
   "metadata": {},
   "outputs": [
    {
     "data": {
      "text/html": [
       "<div>\n",
       "<style scoped>\n",
       "    .dataframe tbody tr th:only-of-type {\n",
       "        vertical-align: middle;\n",
       "    }\n",
       "\n",
       "    .dataframe tbody tr th {\n",
       "        vertical-align: top;\n",
       "    }\n",
       "\n",
       "    .dataframe thead th {\n",
       "        text-align: right;\n",
       "    }\n",
       "</style>\n",
       "<table border=\"1\" class=\"dataframe\">\n",
       "  <thead>\n",
       "    <tr style=\"text-align: right;\">\n",
       "      <th></th>\n",
       "      <th>Descripcion</th>\n",
       "      <th>Precio</th>\n",
       "      <th>Reseñas</th>\n",
       "      <th>Precio Real</th>\n",
       "      <th>Dias sin cargo</th>\n",
       "      <th>Envio</th>\n",
       "      <th>Fecha de entrega</th>\n",
       "      <th>Ventas en meses pasados</th>\n",
       "      <th>Stock</th>\n",
       "      <th>Edad</th>\n",
       "      <th>Porcentaje de descuento</th>\n",
       "    </tr>\n",
       "  </thead>\n",
       "  <tbody>\n",
       "    <tr>\n",
       "      <th>274</th>\n",
       "      <td>Funko Pop! MoviesBlack Adam - Cyclone</td>\n",
       "      <td>2</td>\n",
       "      <td>15461</td>\n",
       "      <td>12.99</td>\n",
       "      <td>90</td>\n",
       "      <td>Ships to Bangladesh</td>\n",
       "      <td>Tue, Jun 20</td>\n",
       "      <td>90</td>\n",
       "      <td>8</td>\n",
       "      <td>4</td>\n",
       "      <td>84.60</td>\n",
       "    </tr>\n",
       "    <tr>\n",
       "      <th>478</th>\n",
       "      <td>Marvel BattleworldSeries 2 Treachery at Twilig...</td>\n",
       "      <td>2</td>\n",
       "      <td>1142</td>\n",
       "      <td>19.99</td>\n",
       "      <td>90</td>\n",
       "      <td>Ships to Bangladesh</td>\n",
       "      <td>Tue, Jun 20</td>\n",
       "      <td>90</td>\n",
       "      <td>1</td>\n",
       "      <td>0</td>\n",
       "      <td>89.99</td>\n",
       "    </tr>\n",
       "    <tr>\n",
       "      <th>10213</th>\n",
       "      <td>Just Play The Umbrella Academy 3” Stylized Col...</td>\n",
       "      <td>2</td>\n",
       "      <td>384</td>\n",
       "      <td>2.00</td>\n",
       "      <td>90</td>\n",
       "      <td>Ships to Bangladesh</td>\n",
       "      <td>Tue, Jun 20</td>\n",
       "      <td>90</td>\n",
       "      <td>3</td>\n",
       "      <td>12</td>\n",
       "      <td>0.00</td>\n",
       "    </tr>\n",
       "    <tr>\n",
       "      <th>11270</th>\n",
       "      <td>Miyuki HigurashiWhen They Cry – SOTSUHanyu 1:7...</td>\n",
       "      <td>2</td>\n",
       "      <td>32</td>\n",
       "      <td>2.00</td>\n",
       "      <td>90</td>\n",
       "      <td>Ships to Bangladesh</td>\n",
       "      <td>Thu, Jun 22</td>\n",
       "      <td>100</td>\n",
       "      <td>1</td>\n",
       "      <td>0</td>\n",
       "      <td>0.00</td>\n",
       "    </tr>\n",
       "  </tbody>\n",
       "</table>\n",
       "</div>"
      ],
      "text/plain": [
       "                                             Descripcion  Precio  Reseñas  \\\n",
       "274                Funko Pop! MoviesBlack Adam - Cyclone       2    15461   \n",
       "478    Marvel BattleworldSeries 2 Treachery at Twilig...       2     1142   \n",
       "10213  Just Play The Umbrella Academy 3” Stylized Col...       2      384   \n",
       "11270  Miyuki HigurashiWhen They Cry – SOTSUHanyu 1:7...       2       32   \n",
       "\n",
       "       Precio Real  Dias sin cargo                Envio Fecha de entrega  \\\n",
       "274          12.99              90  Ships to Bangladesh      Tue, Jun 20   \n",
       "478          19.99              90  Ships to Bangladesh      Tue, Jun 20   \n",
       "10213         2.00              90  Ships to Bangladesh      Tue, Jun 20   \n",
       "11270         2.00              90  Ships to Bangladesh      Thu, Jun 22   \n",
       "\n",
       "       Ventas en meses pasados  Stock  Edad  Porcentaje de descuento  \n",
       "274                         90      8     4                    84.60  \n",
       "478                         90      1     0                    89.99  \n",
       "10213                       90      3    12                     0.00  \n",
       "11270                      100      1     0                     0.00  "
      ]
     },
     "execution_count": 17,
     "metadata": {},
     "output_type": "execute_result"
    }
   ],
   "source": [
    "df_precio_min"
   ]
  },
  {
   "attachments": {},
   "cell_type": "markdown",
   "metadata": {},
   "source": [
    "Lo interesante es que, entre los productos con el precio más bajo, podemos encontrar porcentajes de descuento superiores al 84%. Es decir, tales productos están en una rebaja interesante, una verdadera oportunidad para un cliente potencial."
   ]
  },
  {
   "attachments": {},
   "cell_type": "markdown",
   "metadata": {},
   "source": [
    "Ahora bien, el código anterior podemos aplicarlo a todo el DataFrame y analizar los descuentos del mismo."
   ]
  },
  {
   "cell_type": "code",
   "execution_count": 18,
   "metadata": {},
   "outputs": [],
   "source": [
    "df['Porcentaje de descuento'] = round(((100*(df['Precio Real']-df['Precio']))/df['Precio Real']), 2)"
   ]
  },
  {
   "attachments": {},
   "cell_type": "markdown",
   "metadata": {},
   "source": [
    "Vemos que se aplicó la nueva columna"
   ]
  },
  {
   "cell_type": "code",
   "execution_count": 19,
   "metadata": {},
   "outputs": [
    {
     "data": {
      "text/html": [
       "<div>\n",
       "<style scoped>\n",
       "    .dataframe tbody tr th:only-of-type {\n",
       "        vertical-align: middle;\n",
       "    }\n",
       "\n",
       "    .dataframe tbody tr th {\n",
       "        vertical-align: top;\n",
       "    }\n",
       "\n",
       "    .dataframe thead th {\n",
       "        text-align: right;\n",
       "    }\n",
       "</style>\n",
       "<table border=\"1\" class=\"dataframe\">\n",
       "  <thead>\n",
       "    <tr style=\"text-align: right;\">\n",
       "      <th></th>\n",
       "      <th>Descripcion</th>\n",
       "      <th>Precio</th>\n",
       "      <th>Reseñas</th>\n",
       "      <th>Precio Real</th>\n",
       "      <th>Dias sin cargo</th>\n",
       "      <th>Envio</th>\n",
       "      <th>Fecha de entrega</th>\n",
       "      <th>Ventas en meses pasados</th>\n",
       "      <th>Stock</th>\n",
       "      <th>Edad</th>\n",
       "      <th>Porcentaje de descuento</th>\n",
       "    </tr>\n",
       "  </thead>\n",
       "  <tbody>\n",
       "    <tr>\n",
       "      <th>0</th>\n",
       "      <td>Spider-Man Marvel Legends Series Across The Sp...</td>\n",
       "      <td>24</td>\n",
       "      <td>71</td>\n",
       "      <td>24.99</td>\n",
       "      <td>90</td>\n",
       "      <td>Ships to Bangladesh</td>\n",
       "      <td>Tue, Jun 20</td>\n",
       "      <td>200</td>\n",
       "      <td>3</td>\n",
       "      <td>4</td>\n",
       "      <td>3.96</td>\n",
       "    </tr>\n",
       "    <tr>\n",
       "      <th>1</th>\n",
       "      <td>Spider-Man Marvel Legends Series Across The Sp...</td>\n",
       "      <td>22</td>\n",
       "      <td>55</td>\n",
       "      <td>14.99</td>\n",
       "      <td>90</td>\n",
       "      <td>Ships to Bangladesh</td>\n",
       "      <td>Tue, Jun 20</td>\n",
       "      <td>200</td>\n",
       "      <td>3</td>\n",
       "      <td>4</td>\n",
       "      <td>-46.76</td>\n",
       "    </tr>\n",
       "  </tbody>\n",
       "</table>\n",
       "</div>"
      ],
      "text/plain": [
       "                                         Descripcion  Precio  Reseñas  \\\n",
       "0  Spider-Man Marvel Legends Series Across The Sp...      24       71   \n",
       "1  Spider-Man Marvel Legends Series Across The Sp...      22       55   \n",
       "\n",
       "   Precio Real  Dias sin cargo                Envio Fecha de entrega  \\\n",
       "0        24.99              90  Ships to Bangladesh      Tue, Jun 20   \n",
       "1        14.99              90  Ships to Bangladesh      Tue, Jun 20   \n",
       "\n",
       "   Ventas en meses pasados  Stock  Edad  Porcentaje de descuento  \n",
       "0                      200      3     4                     3.96  \n",
       "1                      200      3     4                   -46.76  "
      ]
     },
     "execution_count": 19,
     "metadata": {},
     "output_type": "execute_result"
    }
   ],
   "source": [
    "df.head(2)"
   ]
  },
  {
   "attachments": {},
   "cell_type": "markdown",
   "metadata": {},
   "source": [
    "Las primeras dos filas de este DataFrame en la columna creada nos indican algunas pistas a tener en cuenta. Podemos ver que tenemos porcentajes positivos y negativos. A grandes rasgos encontraríamos tres categorías de porcentajes: i) aquellos productos a los que se les aplicó un descuento (porcentaje positivo mayor a 0), ii) los que aumentaron de precio (porcentaje negativo) y iii) los que permanecieron iguales (porcentaje igual a 0). Vamos a proceder a filtrar el DataFrame siguiendo los criterios anteriores."
   ]
  },
  {
   "attachments": {},
   "cell_type": "markdown",
   "metadata": {},
   "source": [
    "Para facilitar las cosas vamos a crear vamos a crear una función que filtre el DataFrame."
   ]
  },
  {
   "cell_type": "code",
   "execution_count": 20,
   "metadata": {},
   "outputs": [],
   "source": [
    "#La función va a tomar tres argumentos: un dataframe, el nombre de la columna\n",
    "#sobre la cual aplicar el filtro y la condición (mayor, menor o igual a cero)\n",
    "def funcion_filtro(df, nombre_col, condicion):\n",
    "    if condicion.lower() == 'igual a cero':\n",
    "        df_filtrado = df[df[nombre_col]==0]\n",
    "    elif condicion.lower() == 'mayor a cero':\n",
    "        df_filtrado = df[df[nombre_col]>0]\n",
    "    else:\n",
    "        df_filtrado == df[df[nombre_col]<0]\n",
    "    return df_filtrado"
   ]
  },
  {
   "attachments": {},
   "cell_type": "markdown",
   "metadata": {},
   "source": [
    "Filtramos el DataFrame para aquellas columnas cuyo descuento sea igual a 0."
   ]
  },
  {
   "cell_type": "code",
   "execution_count": 21,
   "metadata": {},
   "outputs": [],
   "source": [
    "sin_descuento = funcion_filtro(df, 'Porcentaje de descuento', 'igual a cero')"
   ]
  },
  {
   "attachments": {},
   "cell_type": "markdown",
   "metadata": {},
   "source": [
    "Confirmamos que se haya aplicado el filtro."
   ]
  },
  {
   "cell_type": "code",
   "execution_count": 22,
   "metadata": {},
   "outputs": [
    {
     "data": {
      "text/html": [
       "<div>\n",
       "<style scoped>\n",
       "    .dataframe tbody tr th:only-of-type {\n",
       "        vertical-align: middle;\n",
       "    }\n",
       "\n",
       "    .dataframe tbody tr th {\n",
       "        vertical-align: top;\n",
       "    }\n",
       "\n",
       "    .dataframe thead th {\n",
       "        text-align: right;\n",
       "    }\n",
       "</style>\n",
       "<table border=\"1\" class=\"dataframe\">\n",
       "  <thead>\n",
       "    <tr style=\"text-align: right;\">\n",
       "      <th></th>\n",
       "      <th>Descripcion</th>\n",
       "      <th>Precio</th>\n",
       "      <th>Reseñas</th>\n",
       "      <th>Precio Real</th>\n",
       "      <th>Dias sin cargo</th>\n",
       "      <th>Envio</th>\n",
       "      <th>Fecha de entrega</th>\n",
       "      <th>Ventas en meses pasados</th>\n",
       "      <th>Stock</th>\n",
       "      <th>Edad</th>\n",
       "      <th>Porcentaje de descuento</th>\n",
       "    </tr>\n",
       "  </thead>\n",
       "  <tbody>\n",
       "    <tr>\n",
       "      <th>17</th>\n",
       "      <td>Gabby's Dollhouse, Deluxe Figure Gift Set with...</td>\n",
       "      <td>22</td>\n",
       "      <td>579</td>\n",
       "      <td>22.0</td>\n",
       "      <td>90</td>\n",
       "      <td>Ships to Bangladesh</td>\n",
       "      <td>Tue, Jun 20</td>\n",
       "      <td>100</td>\n",
       "      <td>3</td>\n",
       "      <td>11</td>\n",
       "      <td>0.0</td>\n",
       "    </tr>\n",
       "    <tr>\n",
       "      <th>18</th>\n",
       "      <td>Transformers Toys Heroic Optimus Prime Action ...</td>\n",
       "      <td>20</td>\n",
       "      <td>10204</td>\n",
       "      <td>20.0</td>\n",
       "      <td>90</td>\n",
       "      <td>Ships to Bangladesh</td>\n",
       "      <td>Tue, Jun 20</td>\n",
       "      <td>100</td>\n",
       "      <td>3</td>\n",
       "      <td>0</td>\n",
       "      <td>0.0</td>\n",
       "    </tr>\n",
       "  </tbody>\n",
       "</table>\n",
       "</div>"
      ],
      "text/plain": [
       "                                          Descripcion  Precio  Reseñas  \\\n",
       "17  Gabby's Dollhouse, Deluxe Figure Gift Set with...      22      579   \n",
       "18  Transformers Toys Heroic Optimus Prime Action ...      20    10204   \n",
       "\n",
       "    Precio Real  Dias sin cargo                Envio Fecha de entrega  \\\n",
       "17         22.0              90  Ships to Bangladesh      Tue, Jun 20   \n",
       "18         20.0              90  Ships to Bangladesh      Tue, Jun 20   \n",
       "\n",
       "    Ventas en meses pasados  Stock  Edad  Porcentaje de descuento  \n",
       "17                      100      3    11                      0.0  \n",
       "18                      100      3     0                      0.0  "
      ]
     },
     "execution_count": 22,
     "metadata": {},
     "output_type": "execute_result"
    }
   ],
   "source": [
    "sin_descuento.head(2)"
   ]
  },
  {
   "attachments": {},
   "cell_type": "markdown",
   "metadata": {},
   "source": [
    "Observamos cuántos artículos únicos no tienen descuento. Para ello vamos a utilizar la columna 'Descripción'."
   ]
  },
  {
   "cell_type": "code",
   "execution_count": 23,
   "metadata": {},
   "outputs": [
    {
     "data": {
      "text/plain": [
       "4900"
      ]
     },
     "execution_count": 23,
     "metadata": {},
     "output_type": "execute_result"
    }
   ],
   "source": [
    "sin_descuento['Descripcion'].nunique()"
   ]
  },
  {
   "attachments": {},
   "cell_type": "markdown",
   "metadata": {},
   "source": [
    "Un elemento a analizar son las ventas en meses pasados que tuvieron estos artículos sin descuento."
   ]
  },
  {
   "attachments": {},
   "cell_type": "markdown",
   "metadata": {},
   "source": [
    "Observamos cuántos artículos tuvieron x cantidad de ventas."
   ]
  },
  {
   "cell_type": "code",
   "execution_count": 24,
   "metadata": {},
   "outputs": [
    {
     "name": "stdout",
     "output_type": "stream",
     "text": [
      "360 artículos tuvieron 100 ventas en los meses pasados\n",
      "\n",
      "173 artículos tuvieron 50 ventas en los meses pasados\n",
      "\n",
      "6098 artículos tuvieron 90 ventas en los meses pasados\n",
      "\n",
      "10 artículos tuvieron 200 ventas en los meses pasados\n",
      "\n"
     ]
    }
   ],
   "source": [
    "for i in sin_descuento['Ventas en meses pasados'].unique():\n",
    "    cantidad_articulos = len(sin_descuento[sin_descuento['Ventas en meses pasados']==i])\n",
    "    print(f'{cantidad_articulos} artículos tuvieron {i} ventas en los meses pasados', end='\\n'*2)"
   ]
  },
  {
   "attachments": {},
   "cell_type": "markdown",
   "metadata": {},
   "source": [
    "Veamos cuál fue el máximo nivel de ventas en los meses pasados de los artículos sin descuento."
   ]
  },
  {
   "cell_type": "code",
   "execution_count": 25,
   "metadata": {},
   "outputs": [
    {
     "data": {
      "text/plain": [
       "200"
      ]
     },
     "execution_count": 25,
     "metadata": {},
     "output_type": "execute_result"
    }
   ],
   "source": [
    "sin_descuento['Ventas en meses pasados'].max()"
   ]
  },
  {
   "attachments": {},
   "cell_type": "markdown",
   "metadata": {},
   "source": [
    "Observemos el mínimo nivel de ventas en los meses pasados de estos mismos artículos."
   ]
  },
  {
   "cell_type": "code",
   "execution_count": 26,
   "metadata": {},
   "outputs": [
    {
     "data": {
      "text/plain": [
       "50"
      ]
     },
     "execution_count": 26,
     "metadata": {},
     "output_type": "execute_result"
    }
   ],
   "source": [
    "sin_descuento['Ventas en meses pasados'].min()"
   ]
  },
  {
   "attachments": {},
   "cell_type": "markdown",
   "metadata": {},
   "source": [
    "Podemos observar que los artículos sin descuento vendieron entre 50-200 unidades en los meses pasados."
   ]
  },
  {
   "attachments": {},
   "cell_type": "markdown",
   "metadata": {},
   "source": [
    "Procedamos a ver los precios de los artículos sin descuento."
   ]
  },
  {
   "cell_type": "code",
   "execution_count": 27,
   "metadata": {},
   "outputs": [
    {
     "name": "stdout",
     "output_type": "stream",
     "text": [
      "El precio mínimo es de $2, mientras que el máximo es de $702\n"
     ]
    }
   ],
   "source": [
    "minimo = sin_descuento['Precio'].min()\n",
    "maximo = sin_descuento['Precio'].max()\n",
    "print(f'El precio mínimo es de ${minimo}, mientras que el máximo es de ${maximo}')"
   ]
  },
  {
   "attachments": {},
   "cell_type": "markdown",
   "metadata": {},
   "source": [
    "Graficamos un histograma para observar dónde se encuentran la mayor cantidad de precios sin descuento."
   ]
  },
  {
   "cell_type": "code",
   "execution_count": 28,
   "metadata": {},
   "outputs": [
    {
     "data": {
      "image/png": "[encoded data removed]",
      "text/plain": [
       "<Figure size 864x648 with 1 Axes>"
      ]
     },
     "metadata": {
      "needs_background": "light"
     },
     "output_type": "display_data"
    }
   ],
   "source": [
    "sin_descuento['Precio'].hist(bins=100, figsize=(12, 9))\n",
    "plt.xlabel('Precio')\n",
    "plt.ylabel('Frecuencia')\n",
    "plt.title('Frecuencia de los precios de los artículos sin descuento')\n",
    "plt.xticks([0, 50, 100, 200, 300, 400, 500, 600, 700])\n",
    "plt.show()"
   ]
  },
  {
   "attachments": {},
   "cell_type": "markdown",
   "metadata": {},
   "source": [
    "La mayor cantidad de precios sin descuento se encuentran entre los &#36;0 y los &#36;50."
   ]
  },
  {
   "attachments": {},
   "cell_type": "markdown",
   "metadata": {},
   "source": [
    "Ahora vamos a realizar un análisis semejante con la columna 'Stock'."
   ]
  },
  {
   "attachments": {},
   "cell_type": "markdown",
   "metadata": {},
   "source": [
    "Veamos el total de artículos sin descuento que se presentan."
   ]
  },
  {
   "cell_type": "code",
   "execution_count": 29,
   "metadata": {},
   "outputs": [
    {
     "data": {
      "text/plain": [
       "39714"
      ]
     },
     "execution_count": 29,
     "metadata": {},
     "output_type": "execute_result"
    }
   ],
   "source": [
    "sin_descuento['Stock'].sum()"
   ]
  },
  {
   "attachments": {},
   "cell_type": "markdown",
   "metadata": {},
   "source": [
    "Observemos los artículos que tienen mayor stock."
   ]
  },
  {
   "cell_type": "code",
   "execution_count": 30,
   "metadata": {},
   "outputs": [
    {
     "data": {
      "text/html": [
       "<div>\n",
       "<style scoped>\n",
       "    .dataframe tbody tr th:only-of-type {\n",
       "        vertical-align: middle;\n",
       "    }\n",
       "\n",
       "    .dataframe tbody tr th {\n",
       "        vertical-align: top;\n",
       "    }\n",
       "\n",
       "    .dataframe thead th {\n",
       "        text-align: right;\n",
       "    }\n",
       "</style>\n",
       "<table border=\"1\" class=\"dataframe\">\n",
       "  <thead>\n",
       "    <tr style=\"text-align: right;\">\n",
       "      <th></th>\n",
       "      <th>Descripcion</th>\n",
       "      <th>Precio</th>\n",
       "      <th>Reseñas</th>\n",
       "      <th>Precio Real</th>\n",
       "      <th>Dias sin cargo</th>\n",
       "      <th>Envio</th>\n",
       "      <th>Fecha de entrega</th>\n",
       "      <th>Ventas en meses pasados</th>\n",
       "      <th>Stock</th>\n",
       "      <th>Edad</th>\n",
       "      <th>Porcentaje de descuento</th>\n",
       "    </tr>\n",
       "  </thead>\n",
       "  <tbody>\n",
       "    <tr>\n",
       "      <th>3354</th>\n",
       "      <td>NEW RAY TOYS Polaris Scale Model</td>\n",
       "      <td>17</td>\n",
       "      <td>414</td>\n",
       "      <td>17.0</td>\n",
       "      <td>90</td>\n",
       "      <td>Ships to Bangladesh</td>\n",
       "      <td>Tue, Jun 20</td>\n",
       "      <td>90</td>\n",
       "      <td>20</td>\n",
       "      <td>16</td>\n",
       "      <td>0.0</td>\n",
       "    </tr>\n",
       "    <tr>\n",
       "      <th>3355</th>\n",
       "      <td>Marvel Legends Series Disney Plus Ms MCU Serie...</td>\n",
       "      <td>16</td>\n",
       "      <td>303</td>\n",
       "      <td>16.0</td>\n",
       "      <td>90</td>\n",
       "      <td>Ships to Bangladesh</td>\n",
       "      <td>Tue, Jun 20</td>\n",
       "      <td>90</td>\n",
       "      <td>20</td>\n",
       "      <td>0</td>\n",
       "      <td>0.0</td>\n",
       "    </tr>\n",
       "    <tr>\n",
       "      <th>3356</th>\n",
       "      <td>Roblox Avatar Shop Series Collection - Level 2...</td>\n",
       "      <td>9</td>\n",
       "      <td>948</td>\n",
       "      <td>9.0</td>\n",
       "      <td>90</td>\n",
       "      <td>Ships to Bangladesh</td>\n",
       "      <td>Tue, Jun 20</td>\n",
       "      <td>90</td>\n",
       "      <td>20</td>\n",
       "      <td>15</td>\n",
       "      <td>0.0</td>\n",
       "    </tr>\n",
       "    <tr>\n",
       "      <th>3357</th>\n",
       "      <td>Terra by Battat – Bunny Hutch – Bunny Rabbit T...</td>\n",
       "      <td>10</td>\n",
       "      <td>4</td>\n",
       "      <td>10.0</td>\n",
       "      <td>90</td>\n",
       "      <td>Ships to Bangladesh</td>\n",
       "      <td>Tue, Jun 20</td>\n",
       "      <td>90</td>\n",
       "      <td>20</td>\n",
       "      <td>0</td>\n",
       "      <td>0.0</td>\n",
       "    </tr>\n",
       "    <tr>\n",
       "      <th>3358</th>\n",
       "      <td>Calico Critters Floating Cloud Rainbow Train, ...</td>\n",
       "      <td>24</td>\n",
       "      <td>630</td>\n",
       "      <td>24.0</td>\n",
       "      <td>90</td>\n",
       "      <td>Ships to Bangladesh</td>\n",
       "      <td>Tue, Jun 20</td>\n",
       "      <td>90</td>\n",
       "      <td>20</td>\n",
       "      <td>0</td>\n",
       "      <td>0.0</td>\n",
       "    </tr>\n",
       "    <tr>\n",
       "      <th>...</th>\n",
       "      <td>...</td>\n",
       "      <td>...</td>\n",
       "      <td>...</td>\n",
       "      <td>...</td>\n",
       "      <td>...</td>\n",
       "      <td>...</td>\n",
       "      <td>...</td>\n",
       "      <td>...</td>\n",
       "      <td>...</td>\n",
       "      <td>...</td>\n",
       "      <td>...</td>\n",
       "    </tr>\n",
       "    <tr>\n",
       "      <th>11140</th>\n",
       "      <td>Orange Rouge Burning KabaddiTatsuya Yoigoshi N...</td>\n",
       "      <td>28</td>\n",
       "      <td>78</td>\n",
       "      <td>28.0</td>\n",
       "      <td>90</td>\n",
       "      <td>Ships to Bangladesh</td>\n",
       "      <td>Tue, Jun 20</td>\n",
       "      <td>100</td>\n",
       "      <td>20</td>\n",
       "      <td>0</td>\n",
       "      <td>0.0</td>\n",
       "    </tr>\n",
       "    <tr>\n",
       "      <th>11141</th>\n",
       "      <td>Teenage Mutant Ninja Turtles 5\" Sewer Shredder...</td>\n",
       "      <td>10</td>\n",
       "      <td>78</td>\n",
       "      <td>10.0</td>\n",
       "      <td>90</td>\n",
       "      <td>Ships to Bangladesh</td>\n",
       "      <td>Tue, Jun 20</td>\n",
       "      <td>100</td>\n",
       "      <td>20</td>\n",
       "      <td>0</td>\n",
       "      <td>0.0</td>\n",
       "    </tr>\n",
       "    <tr>\n",
       "      <th>11142</th>\n",
       "      <td>Schleich Wild Life, Wild Animal Toys for Kids,...</td>\n",
       "      <td>42</td>\n",
       "      <td>78</td>\n",
       "      <td>42.0</td>\n",
       "      <td>90</td>\n",
       "      <td>Ships to Bangladesh</td>\n",
       "      <td>Tue, Jun 20</td>\n",
       "      <td>100</td>\n",
       "      <td>20</td>\n",
       "      <td>0</td>\n",
       "      <td>0.0</td>\n",
       "    </tr>\n",
       "    <tr>\n",
       "      <th>11143</th>\n",
       "      <td>Schleich bayala, 5-Piece Starter Set with Fair...</td>\n",
       "      <td>34</td>\n",
       "      <td>78</td>\n",
       "      <td>34.0</td>\n",
       "      <td>90</td>\n",
       "      <td>&amp; Up</td>\n",
       "      <td>Tue, Jun 20</td>\n",
       "      <td>100</td>\n",
       "      <td>20</td>\n",
       "      <td>18</td>\n",
       "      <td>0.0</td>\n",
       "    </tr>\n",
       "    <tr>\n",
       "      <th>11209</th>\n",
       "      <td>Super7 Run DMC Joseph Run Simmons 3.75 in Reac...</td>\n",
       "      <td>16</td>\n",
       "      <td>949</td>\n",
       "      <td>16.0</td>\n",
       "      <td>90</td>\n",
       "      <td>Ships to Bangladesh</td>\n",
       "      <td>Tue, Jun 20</td>\n",
       "      <td>100</td>\n",
       "      <td>20</td>\n",
       "      <td>0</td>\n",
       "      <td>0.0</td>\n",
       "    </tr>\n",
       "  </tbody>\n",
       "</table>\n",
       "<p>211 rows × 11 columns</p>\n",
       "</div>"
      ],
      "text/plain": [
       "                                             Descripcion  Precio  Reseñas  \\\n",
       "3354                    NEW RAY TOYS Polaris Scale Model      17      414   \n",
       "3355   Marvel Legends Series Disney Plus Ms MCU Serie...      16      303   \n",
       "3356   Roblox Avatar Shop Series Collection - Level 2...       9      948   \n",
       "3357   Terra by Battat – Bunny Hutch – Bunny Rabbit T...      10        4   \n",
       "3358   Calico Critters Floating Cloud Rainbow Train, ...      24      630   \n",
       "...                                                  ...     ...      ...   \n",
       "11140  Orange Rouge Burning KabaddiTatsuya Yoigoshi N...      28       78   \n",
       "11141  Teenage Mutant Ninja Turtles 5\" Sewer Shredder...      10       78   \n",
       "11142  Schleich Wild Life, Wild Animal Toys for Kids,...      42       78   \n",
       "11143  Schleich bayala, 5-Piece Starter Set with Fair...      34       78   \n",
       "11209  Super7 Run DMC Joseph Run Simmons 3.75 in Reac...      16      949   \n",
       "\n",
       "       Precio Real  Dias sin cargo                Envio Fecha de entrega  \\\n",
       "3354          17.0              90  Ships to Bangladesh      Tue, Jun 20   \n",
       "3355          16.0              90  Ships to Bangladesh      Tue, Jun 20   \n",
       "3356           9.0              90  Ships to Bangladesh      Tue, Jun 20   \n",
       "3357          10.0              90  Ships to Bangladesh      Tue, Jun 20   \n",
       "3358          24.0              90  Ships to Bangladesh      Tue, Jun 20   \n",
       "...            ...             ...                  ...              ...   \n",
       "11140         28.0              90  Ships to Bangladesh      Tue, Jun 20   \n",
       "11141         10.0              90  Ships to Bangladesh      Tue, Jun 20   \n",
       "11142         42.0              90  Ships to Bangladesh      Tue, Jun 20   \n",
       "11143         34.0              90                 & Up      Tue, Jun 20   \n",
       "11209         16.0              90  Ships to Bangladesh      Tue, Jun 20   \n",
       "\n",
       "       Ventas en meses pasados  Stock  Edad  Porcentaje de descuento  \n",
       "3354                        90     20    16                      0.0  \n",
       "3355                        90     20     0                      0.0  \n",
       "3356                        90     20    15                      0.0  \n",
       "3357                        90     20     0                      0.0  \n",
       "3358                        90     20     0                      0.0  \n",
       "...                        ...    ...   ...                      ...  \n",
       "11140                      100     20     0                      0.0  \n",
       "11141                      100     20     0                      0.0  \n",
       "11142                      100     20     0                      0.0  \n",
       "11143                      100     20    18                      0.0  \n",
       "11209                      100     20     0                      0.0  \n",
       "\n",
       "[211 rows x 11 columns]"
      ]
     },
     "execution_count": 30,
     "metadata": {},
     "output_type": "execute_result"
    }
   ],
   "source": [
    "sin_descuento[sin_descuento['Stock']==sin_descuento['Stock'].max()]"
   ]
  },
  {
   "cell_type": "markdown",
   "metadata": {},
   "source": [
    "Por la cantidad de filas, sabemos que son 211 los artículos sin descuento con mayor stock."
   ]
  },
  {
   "attachments": {},
   "cell_type": "markdown",
   "metadata": {},
   "source": [
    "De estos artículos que tienen una mayor cantidad de Stock podríamos analizar dos cosas: 1. el precio y 2. las ventas en meses pasados."
   ]
  },
  {
   "attachments": {},
   "cell_type": "markdown",
   "metadata": {},
   "source": [
    "Comencemos con lo primero, veamos dónde se encuentra la mayor cantidad de precios de los artículos sin descuento con la mayor cantidad de stock."
   ]
  },
  {
   "cell_type": "code",
   "execution_count": 31,
   "metadata": {},
   "outputs": [
    {
     "data": {
      "image/png": "[encoded data removed]",
      "text/plain": [
       "<Figure size 864x648 with 1 Axes>"
      ]
     },
     "metadata": {
      "needs_background": "light"
     },
     "output_type": "display_data"
    }
   ],
   "source": [
    "sin_descuento.loc[sin_descuento['Stock']==sin_descuento['Stock'].max(), 'Precio'].hist(bins=100, figsize=(12,9))\n",
    "plt.xlabel('Precio')\n",
    "plt.ylabel('Frecuencia de precio')\n",
    "plt.title('Frecuencia de precio de artículos sin descuento con mayor stock')\n",
    "plt.show()"
   ]
  },
  {
   "attachments": {},
   "cell_type": "markdown",
   "metadata": {},
   "source": [
    "De los artículos sin descuento podemos observar que aquellos que tienen un stock mayor su precio se encuentra en el rango de los &#36;2 a &#36;25 aproximadamente."
   ]
  },
  {
   "cell_type": "markdown",
   "metadata": {},
   "source": [
    "Veamos las ventas en meses pasados que tuvieron estos artículos sin descuento con mayor stock."
   ]
  },
  {
   "cell_type": "code",
   "execution_count": 46,
   "metadata": {},
   "outputs": [
    {
     "data": {
      "text/plain": [
       "90     173\n",
       "100     38\n",
       "Name: Ventas en meses pasados, dtype: int64"
      ]
     },
     "execution_count": 46,
     "metadata": {},
     "output_type": "execute_result"
    }
   ],
   "source": [
    "sin_descuento.loc[sin_descuento['Stock']==sin_descuento['Stock'].max(), 'Ventas en meses pasados'].value_counts()"
   ]
  },
  {
   "cell_type": "markdown",
   "metadata": {},
   "source": [
    "Esto llama la atención, ya que a pesar de ser los artículos con mayor stock dentro de las unidades sin descuento, las ventas en meses pasado no estuvieron mal. Por un lado, tenemos aquellos juguetes que tuvieron 90 ventas en meses pasados y, por el otro, los que tuvieron 100."
   ]
  },
  {
   "cell_type": "markdown",
   "metadata": {},
   "source": [
    "Analicemos ahora los artículos sin descuento con menor stock. Vamos a proceder de la misma manera que en el caso anterior,"
   ]
  },
  {
   "cell_type": "code",
   "execution_count": 51,
   "metadata": {},
   "outputs": [
    {
     "data": {
      "image/png": "[encoded data removed]",
      "text/plain": [
       "<Figure size 864x648 with 1 Axes>"
      ]
     },
     "metadata": {},
     "output_type": "display_data"
    }
   ],
   "source": [
    "sin_descuento.loc[sin_descuento['Stock']==sin_descuento['Stock'].min(), 'Precio'].hist(bins=100, figsize=(12,9))\n",
    "plt.xlabel('Precio')\n",
    "plt.ylabel('Frecuencia de precio')\n",
    "plt.title('Frecuencia de precio de artículos sin descuento con menor stock')\n",
    "plt.xticks([0, 50, 100, 200, 300, 400])\n",
    "plt.show()"
   ]
  },
  {
   "cell_type": "markdown",
   "metadata": {},
   "source": [
    "En este caso, el rango de precio de los artículos sin descuento con mayor stock se encuentra entre los &#36;2 y &#36;50."
   ]
  },
  {
   "cell_type": "markdown",
   "metadata": {},
   "source": [
    "Respecto de las ventas en meses pasados obtenemos:"
   ]
  },
  {
   "cell_type": "code",
   "execution_count": 53,
   "metadata": {},
   "outputs": [
    {
     "data": {
      "text/plain": [
       "90     1457\n",
       "100     101\n",
       "50       12\n",
       "200      10\n",
       "Name: Ventas en meses pasados, dtype: int64"
      ]
     },
     "execution_count": 53,
     "metadata": {},
     "output_type": "execute_result"
    }
   ],
   "source": [
    "sin_descuento.loc[sin_descuento['Stock']==sin_descuento['Stock'].min(), 'Ventas en meses pasados'].value_counts()"
   ]
  },
  {
   "cell_type": "markdown",
   "metadata": {},
   "source": [
    "Aquí se pueden apreciar números más favorables. Los artículos sin descuento con stock reducido presentan, incluso, 200 ventas en meses pasados. Aunque, este caso es el menos prioritario."
   ]
  }
 ],
 "metadata": {
  "kernelspec": {
   "display_name": "Python 3",
   "language": "python",
   "name": "python3"
  },
  "language_info": {
   "codemirror_mode": {
    "name": "ipython",
    "version": 3
   },
   "file_extension": ".py",
   "mimetype": "text/x-python",
   "name": "python",
   "nbconvert_exporter": "python",
   "pygments_lexer": "ipython3",
   "version": "3.10.5"
  },
  "orig_nbformat": 4
 },
 "nbformat": 4,
 "nbformat_minor": 2
}
