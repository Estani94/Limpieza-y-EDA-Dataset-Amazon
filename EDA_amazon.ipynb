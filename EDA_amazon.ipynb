{
 "cells": [
  {
   "attachments": {},
   "cell_type": "markdown",
   "metadata": {},
   "source": [
    "# Importamos las librerías necesarias"
   ]
  },
  {
   "cell_type": "code",
   "execution_count": 1,
   "metadata": {},
   "outputs": [],
   "source": [
    "import pandas as pd\n",
    "import matplotlib.pyplot as plt\n",
    "import seaborn as sns\n",
    "\n",
    "%matplotlib inline"
   ]
  },
  {
   "attachments": {},
   "cell_type": "markdown",
   "metadata": {},
   "source": [
    "# Cargamos el dataset limpio para poder crear un DataFrame"
   ]
  },
  {
   "cell_type": "code",
   "execution_count": 2,
   "metadata": {},
   "outputs": [
    {
     "data": {
      "text/html": [
       "<div>\n",
       "<style scoped>\n",
       "    .dataframe tbody tr th:only-of-type {\n",
       "        vertical-align: middle;\n",
       "    }\n",
       "\n",
       "    .dataframe tbody tr th {\n",
       "        vertical-align: top;\n",
       "    }\n",
       "\n",
       "    .dataframe thead th {\n",
       "        text-align: right;\n",
       "    }\n",
       "</style>\n",
       "<table border=\"1\" class=\"dataframe\">\n",
       "  <thead>\n",
       "    <tr style=\"text-align: right;\">\n",
       "      <th></th>\n",
       "      <th>Unnamed: 0</th>\n",
       "      <th>Descripcion</th>\n",
       "      <th>Precio</th>\n",
       "      <th>Reseñas</th>\n",
       "      <th>Precio Real</th>\n",
       "      <th>Dias sin cargo</th>\n",
       "      <th>Envio</th>\n",
       "      <th>Fecha de entrega</th>\n",
       "      <th>Ventas en meses pasados</th>\n",
       "      <th>Stock</th>\n",
       "      <th>Edad</th>\n",
       "      <th>Otro</th>\n",
       "    </tr>\n",
       "  </thead>\n",
       "  <tbody>\n",
       "    <tr>\n",
       "      <th>0</th>\n",
       "      <td>0</td>\n",
       "      <td>Spider-Man Marvel Legends Series Across The Sp...</td>\n",
       "      <td>24</td>\n",
       "      <td>71</td>\n",
       "      <td>24.99</td>\n",
       "      <td>90</td>\n",
       "      <td>Ships to Bangladesh</td>\n",
       "      <td>Tue, Jun 20</td>\n",
       "      <td>200</td>\n",
       "      <td>3</td>\n",
       "      <td>4</td>\n",
       "      <td>years and up</td>\n",
       "    </tr>\n",
       "    <tr>\n",
       "      <th>1</th>\n",
       "      <td>1</td>\n",
       "      <td>Spider-Man Marvel Legends Series Across The Sp...</td>\n",
       "      <td>22</td>\n",
       "      <td>55</td>\n",
       "      <td>14.99</td>\n",
       "      <td>90</td>\n",
       "      <td>Ships to Bangladesh</td>\n",
       "      <td>Tue, Jun 20</td>\n",
       "      <td>200</td>\n",
       "      <td>3</td>\n",
       "      <td>4</td>\n",
       "      <td>years and up</td>\n",
       "    </tr>\n",
       "    <tr>\n",
       "      <th>2</th>\n",
       "      <td>2</td>\n",
       "      <td>Fisher-Price Little People Musical Toddler Toy...</td>\n",
       "      <td>7</td>\n",
       "      <td>2895</td>\n",
       "      <td>9.99</td>\n",
       "      <td>90</td>\n",
       "      <td>Ships to Bangladesh</td>\n",
       "      <td>Tue, Jun 20</td>\n",
       "      <td>100</td>\n",
       "      <td>3</td>\n",
       "      <td>1</td>\n",
       "      <td>months - 5 years</td>\n",
       "    </tr>\n",
       "    <tr>\n",
       "      <th>3</th>\n",
       "      <td>3</td>\n",
       "      <td>CatToysOfficial - CAT Little Machines 5pcs Con...</td>\n",
       "      <td>5</td>\n",
       "      <td>2530</td>\n",
       "      <td>24.99</td>\n",
       "      <td>90</td>\n",
       "      <td>Ships to Bangladesh</td>\n",
       "      <td>Tue, Jun 20</td>\n",
       "      <td>100</td>\n",
       "      <td>3</td>\n",
       "      <td>3</td>\n",
       "      <td>months - 6 years</td>\n",
       "    </tr>\n",
       "    <tr>\n",
       "      <th>4</th>\n",
       "      <td>4</td>\n",
       "      <td>Spider-Man Marvel Legends Series Across The Sp...</td>\n",
       "      <td>22</td>\n",
       "      <td>40</td>\n",
       "      <td>85.99</td>\n",
       "      <td>90</td>\n",
       "      <td>Ships to Bangladesh</td>\n",
       "      <td>Tue, Jun 20</td>\n",
       "      <td>90</td>\n",
       "      <td>3</td>\n",
       "      <td>4</td>\n",
       "      <td>years and up</td>\n",
       "    </tr>\n",
       "  </tbody>\n",
       "</table>\n",
       "</div>"
      ],
      "text/plain": [
       "   Unnamed: 0                                        Descripcion  Precio  \\\n",
       "0           0  Spider-Man Marvel Legends Series Across The Sp...      24   \n",
       "1           1  Spider-Man Marvel Legends Series Across The Sp...      22   \n",
       "2           2  Fisher-Price Little People Musical Toddler Toy...       7   \n",
       "3           3  CatToysOfficial - CAT Little Machines 5pcs Con...       5   \n",
       "4           4  Spider-Man Marvel Legends Series Across The Sp...      22   \n",
       "\n",
       "   Reseñas  Precio Real  Dias sin cargo                Envio Fecha de entrega  \\\n",
       "0       71        24.99              90  Ships to Bangladesh      Tue, Jun 20   \n",
       "1       55        14.99              90  Ships to Bangladesh      Tue, Jun 20   \n",
       "2     2895         9.99              90  Ships to Bangladesh      Tue, Jun 20   \n",
       "3     2530        24.99              90  Ships to Bangladesh      Tue, Jun 20   \n",
       "4       40        85.99              90  Ships to Bangladesh      Tue, Jun 20   \n",
       "\n",
       "   Ventas en meses pasados  Stock  Edad              Otro  \n",
       "0                      200      3     4      years and up  \n",
       "1                      200      3     4      years and up  \n",
       "2                      100      3     1  months - 5 years  \n",
       "3                      100      3     3  months - 6 years  \n",
       "4                       90      3     4      years and up  "
      ]
     },
     "execution_count": 2,
     "metadata": {},
     "output_type": "execute_result"
    }
   ],
   "source": [
    "df = pd.read_csv('data_limpio.csv')\n",
    "df.head(5)"
   ]
  },
  {
   "cell_type": "code",
   "execution_count": 3,
   "metadata": {},
   "outputs": [
    {
     "data": {
      "text/plain": [
       "Index(['Unnamed: 0', 'Descripcion', 'Precio', 'Reseñas', 'Precio Real',\n",
       "       'Dias sin cargo', 'Envio', 'Fecha de entrega',\n",
       "       'Ventas en meses pasados', 'Stock', 'Edad', 'Otro'],\n",
       "      dtype='object')"
      ]
     },
     "execution_count": 3,
     "metadata": {},
     "output_type": "execute_result"
    }
   ],
   "source": [
    "df.columns"
   ]
  },
  {
   "attachments": {},
   "cell_type": "markdown",
   "metadata": {},
   "source": [
    "Vemos que aparece en este DataFrame una columna que se llama 'Unnamed: 0' y otra que se llama 'Otro'. Como no nos sirven vamos a proceder a eliminarlas. Las mismas quedaron de la limpieza realizada anteriormente."
   ]
  },
  {
   "cell_type": "code",
   "execution_count": 4,
   "metadata": {},
   "outputs": [],
   "source": [
    "df.drop('Unnamed: 0', axis=1, inplace=True)"
   ]
  },
  {
   "cell_type": "code",
   "execution_count": 5,
   "metadata": {},
   "outputs": [],
   "source": [
    "df.drop('Otro', axis=1, inplace=True)"
   ]
  },
  {
   "attachments": {},
   "cell_type": "markdown",
   "metadata": {},
   "source": [
    "Constatamos que se hayan eliminado las columnas en cuestión."
   ]
  },
  {
   "cell_type": "code",
   "execution_count": 6,
   "metadata": {},
   "outputs": [
    {
     "data": {
      "text/html": [
       "<div>\n",
       "<style scoped>\n",
       "    .dataframe tbody tr th:only-of-type {\n",
       "        vertical-align: middle;\n",
       "    }\n",
       "\n",
       "    .dataframe tbody tr th {\n",
       "        vertical-align: top;\n",
       "    }\n",
       "\n",
       "    .dataframe thead th {\n",
       "        text-align: right;\n",
       "    }\n",
       "</style>\n",
       "<table border=\"1\" class=\"dataframe\">\n",
       "  <thead>\n",
       "    <tr style=\"text-align: right;\">\n",
       "      <th></th>\n",
       "      <th>Descripcion</th>\n",
       "      <th>Precio</th>\n",
       "      <th>Reseñas</th>\n",
       "      <th>Precio Real</th>\n",
       "      <th>Dias sin cargo</th>\n",
       "      <th>Envio</th>\n",
       "      <th>Fecha de entrega</th>\n",
       "      <th>Ventas en meses pasados</th>\n",
       "      <th>Stock</th>\n",
       "      <th>Edad</th>\n",
       "    </tr>\n",
       "  </thead>\n",
       "  <tbody>\n",
       "    <tr>\n",
       "      <th>0</th>\n",
       "      <td>Spider-Man Marvel Legends Series Across The Sp...</td>\n",
       "      <td>24</td>\n",
       "      <td>71</td>\n",
       "      <td>24.99</td>\n",
       "      <td>90</td>\n",
       "      <td>Ships to Bangladesh</td>\n",
       "      <td>Tue, Jun 20</td>\n",
       "      <td>200</td>\n",
       "      <td>3</td>\n",
       "      <td>4</td>\n",
       "    </tr>\n",
       "    <tr>\n",
       "      <th>1</th>\n",
       "      <td>Spider-Man Marvel Legends Series Across The Sp...</td>\n",
       "      <td>22</td>\n",
       "      <td>55</td>\n",
       "      <td>14.99</td>\n",
       "      <td>90</td>\n",
       "      <td>Ships to Bangladesh</td>\n",
       "      <td>Tue, Jun 20</td>\n",
       "      <td>200</td>\n",
       "      <td>3</td>\n",
       "      <td>4</td>\n",
       "    </tr>\n",
       "  </tbody>\n",
       "</table>\n",
       "</div>"
      ],
      "text/plain": [
       "                                         Descripcion  Precio  Reseñas  \\\n",
       "0  Spider-Man Marvel Legends Series Across The Sp...      24       71   \n",
       "1  Spider-Man Marvel Legends Series Across The Sp...      22       55   \n",
       "\n",
       "   Precio Real  Dias sin cargo                Envio Fecha de entrega  \\\n",
       "0        24.99              90  Ships to Bangladesh      Tue, Jun 20   \n",
       "1        14.99              90  Ships to Bangladesh      Tue, Jun 20   \n",
       "\n",
       "   Ventas en meses pasados  Stock  Edad  \n",
       "0                      200      3     4  \n",
       "1                      200      3     4  "
      ]
     },
     "execution_count": 6,
     "metadata": {},
     "output_type": "execute_result"
    }
   ],
   "source": [
    "df.head(2)"
   ]
  },
  {
   "attachments": {},
   "cell_type": "markdown",
   "metadata": {},
   "source": [
    "Vamos a realizar un meta-análisis del dataset. Para elllo procederemos a crear dos listas. Una contendrá las columnas categóricas y la otra presentará las columnas numéricas."
   ]
  },
  {
   "cell_type": "code",
   "execution_count": 7,
   "metadata": {},
   "outputs": [],
   "source": [
    "categoricas = [i for i in df.columns if df[i].dtype=='object']\n",
    "numericas = [i for i in df.columns if df[i].dtype=='int64' or df[i].dtype=='float64']"
   ]
  },
  {
   "attachments": {},
   "cell_type": "markdown",
   "metadata": {},
   "source": [
    "# Columnas numéricas"
   ]
  },
  {
   "attachments": {},
   "cell_type": "markdown",
   "metadata": {},
   "source": [
    "## La columna 'Precio'"
   ]
  },
  {
   "attachments": {},
   "cell_type": "markdown",
   "metadata": {},
   "source": [
    "Veamos cuál es el precio más alto presente en nuestro DataFrame"
   ]
  },
  {
   "cell_type": "code",
   "execution_count": 8,
   "metadata": {},
   "outputs": [
    {
     "data": {
      "text/plain": [
       "702"
      ]
     },
     "execution_count": 8,
     "metadata": {},
     "output_type": "execute_result"
    }
   ],
   "source": [
    "df['Precio'].max()"
   ]
  },
  {
   "attachments": {},
   "cell_type": "markdown",
   "metadata": {},
   "source": [
    "Sabemos que el precio más alto en nuestro DataFrame es de 702, veamos si refiere a más de un juguete o no, creando un DataFrame con el filtro del precio máximo."
   ]
  },
  {
   "cell_type": "code",
   "execution_count": 9,
   "metadata": {},
   "outputs": [
    {
     "data": {
      "text/html": [
       "<div>\n",
       "<style scoped>\n",
       "    .dataframe tbody tr th:only-of-type {\n",
       "        vertical-align: middle;\n",
       "    }\n",
       "\n",
       "    .dataframe tbody tr th {\n",
       "        vertical-align: top;\n",
       "    }\n",
       "\n",
       "    .dataframe thead th {\n",
       "        text-align: right;\n",
       "    }\n",
       "</style>\n",
       "<table border=\"1\" class=\"dataframe\">\n",
       "  <thead>\n",
       "    <tr style=\"text-align: right;\">\n",
       "      <th></th>\n",
       "      <th>Descripcion</th>\n",
       "      <th>Precio</th>\n",
       "      <th>Reseñas</th>\n",
       "      <th>Precio Real</th>\n",
       "      <th>Dias sin cargo</th>\n",
       "      <th>Envio</th>\n",
       "      <th>Fecha de entrega</th>\n",
       "      <th>Ventas en meses pasados</th>\n",
       "      <th>Stock</th>\n",
       "      <th>Edad</th>\n",
       "    </tr>\n",
       "  </thead>\n",
       "  <tbody>\n",
       "    <tr>\n",
       "      <th>10619</th>\n",
       "      <td>Infinity Studio x League of LegendsHallowed Se...</td>\n",
       "      <td>702</td>\n",
       "      <td>384</td>\n",
       "      <td>702.0</td>\n",
       "      <td>90</td>\n",
       "      <td>Ships to Bangladesh</td>\n",
       "      <td>Tue, Jun 20</td>\n",
       "      <td>90</td>\n",
       "      <td>2</td>\n",
       "      <td>15</td>\n",
       "    </tr>\n",
       "  </tbody>\n",
       "</table>\n",
       "</div>"
      ],
      "text/plain": [
       "                                             Descripcion  Precio  Reseñas  \\\n",
       "10619  Infinity Studio x League of LegendsHallowed Se...     702      384   \n",
       "\n",
       "       Precio Real  Dias sin cargo                Envio Fecha de entrega  \\\n",
       "10619        702.0              90  Ships to Bangladesh      Tue, Jun 20   \n",
       "\n",
       "       Ventas en meses pasados  Stock  Edad  \n",
       "10619                       90      2    15  "
      ]
     },
     "execution_count": 9,
     "metadata": {},
     "output_type": "execute_result"
    }
   ],
   "source": [
    "df_precio_max = df[df['Precio']==702]\n",
    "df_precio_max"
   ]
  },
  {
   "attachments": {},
   "cell_type": "markdown",
   "metadata": {},
   "source": [
    "El precio máximo refiere sólo a un producto con 384 reseñas, que no presenta descuentos, del cuál se vendieron 90 unidades en los meses pasados, quedan 2 de ellas y la edad recomendada es a partir de los 15 años."
   ]
  },
  {
   "attachments": {},
   "cell_type": "markdown",
   "metadata": {},
   "source": [
    "Observemos ahora el precio mínimo presente en nuestro DataFrame."
   ]
  },
  {
   "cell_type": "code",
   "execution_count": 10,
   "metadata": {},
   "outputs": [
    {
     "data": {
      "text/plain": [
       "0"
      ]
     },
     "execution_count": 10,
     "metadata": {},
     "output_type": "execute_result"
    }
   ],
   "source": [
    "df['Precio'].min()"
   ]
  },
  {
   "attachments": {},
   "cell_type": "markdown",
   "metadata": {},
   "source": [
    "Llama la atención que el precio mínimo sea igual a 0. Vamos a filtrar los datos cuyo precio sea igual a 0."
   ]
  },
  {
   "cell_type": "code",
   "execution_count": 11,
   "metadata": {},
   "outputs": [
    {
     "data": {
      "text/html": [
       "<div>\n",
       "<style scoped>\n",
       "    .dataframe tbody tr th:only-of-type {\n",
       "        vertical-align: middle;\n",
       "    }\n",
       "\n",
       "    .dataframe tbody tr th {\n",
       "        vertical-align: top;\n",
       "    }\n",
       "\n",
       "    .dataframe thead th {\n",
       "        text-align: right;\n",
       "    }\n",
       "</style>\n",
       "<table border=\"1\" class=\"dataframe\">\n",
       "  <thead>\n",
       "    <tr style=\"text-align: right;\">\n",
       "      <th></th>\n",
       "      <th>Descripcion</th>\n",
       "      <th>Precio</th>\n",
       "      <th>Reseñas</th>\n",
       "      <th>Precio Real</th>\n",
       "      <th>Dias sin cargo</th>\n",
       "      <th>Envio</th>\n",
       "      <th>Fecha de entrega</th>\n",
       "      <th>Ventas en meses pasados</th>\n",
       "      <th>Stock</th>\n",
       "      <th>Edad</th>\n",
       "    </tr>\n",
       "  </thead>\n",
       "  <tbody>\n",
       "    <tr>\n",
       "      <th>9203</th>\n",
       "      <td>0</td>\n",
       "      <td>0</td>\n",
       "      <td>0</td>\n",
       "      <td>0.0</td>\n",
       "      <td>0</td>\n",
       "      <td>0</td>\n",
       "      <td>0</td>\n",
       "      <td>0</td>\n",
       "      <td>0</td>\n",
       "      <td>0</td>\n",
       "    </tr>\n",
       "  </tbody>\n",
       "</table>\n",
       "</div>"
      ],
      "text/plain": [
       "     Descripcion  Precio  Reseñas  Precio Real  Dias sin cargo Envio  \\\n",
       "9203           0       0        0          0.0               0     0   \n",
       "\n",
       "     Fecha de entrega  Ventas en meses pasados  Stock  Edad  \n",
       "9203                0                        0      0     0  "
      ]
     },
     "execution_count": 11,
     "metadata": {},
     "output_type": "execute_result"
    }
   ],
   "source": [
    "df[df['Precio']==0]"
   ]
  },
  {
   "attachments": {},
   "cell_type": "markdown",
   "metadata": {},
   "source": [
    "Esto podría deberse a un error a la hora de recolectar los datos. Como sólo se trata de una fila en DataFrame de 11403, vamos a proceder a eliminarla."
   ]
  },
  {
   "cell_type": "code",
   "execution_count": 12,
   "metadata": {},
   "outputs": [],
   "source": [
    "df.drop(index=9203, inplace=True)"
   ]
  },
  {
   "attachments": {},
   "cell_type": "markdown",
   "metadata": {},
   "source": [
    "Buscamos, nuevamente, cuál es el precio más bajo presente."
   ]
  },
  {
   "cell_type": "code",
   "execution_count": 13,
   "metadata": {},
   "outputs": [
    {
     "data": {
      "text/plain": [
       "2"
      ]
     },
     "execution_count": 13,
     "metadata": {},
     "output_type": "execute_result"
    }
   ],
   "source": [
    "df['Precio'].min()"
   ]
  },
  {
   "attachments": {},
   "cell_type": "markdown",
   "metadata": {},
   "source": [
    "Este precio mínimo parece ser más coherente. Vamos a crear un DataFrame con este precio mínimo como filtro."
   ]
  },
  {
   "cell_type": "code",
   "execution_count": 14,
   "metadata": {},
   "outputs": [
    {
     "data": {
      "text/html": [
       "<div>\n",
       "<style scoped>\n",
       "    .dataframe tbody tr th:only-of-type {\n",
       "        vertical-align: middle;\n",
       "    }\n",
       "\n",
       "    .dataframe tbody tr th {\n",
       "        vertical-align: top;\n",
       "    }\n",
       "\n",
       "    .dataframe thead th {\n",
       "        text-align: right;\n",
       "    }\n",
       "</style>\n",
       "<table border=\"1\" class=\"dataframe\">\n",
       "  <thead>\n",
       "    <tr style=\"text-align: right;\">\n",
       "      <th></th>\n",
       "      <th>Descripcion</th>\n",
       "      <th>Precio</th>\n",
       "      <th>Reseñas</th>\n",
       "      <th>Precio Real</th>\n",
       "      <th>Dias sin cargo</th>\n",
       "      <th>Envio</th>\n",
       "      <th>Fecha de entrega</th>\n",
       "      <th>Ventas en meses pasados</th>\n",
       "      <th>Stock</th>\n",
       "      <th>Edad</th>\n",
       "    </tr>\n",
       "  </thead>\n",
       "  <tbody>\n",
       "    <tr>\n",
       "      <th>274</th>\n",
       "      <td>Funko Pop! MoviesBlack Adam - Cyclone</td>\n",
       "      <td>2</td>\n",
       "      <td>15461</td>\n",
       "      <td>12.99</td>\n",
       "      <td>90</td>\n",
       "      <td>Ships to Bangladesh</td>\n",
       "      <td>Tue, Jun 20</td>\n",
       "      <td>90</td>\n",
       "      <td>8</td>\n",
       "      <td>4</td>\n",
       "    </tr>\n",
       "    <tr>\n",
       "      <th>478</th>\n",
       "      <td>Marvel BattleworldSeries 2 Treachery at Twilig...</td>\n",
       "      <td>2</td>\n",
       "      <td>1142</td>\n",
       "      <td>19.99</td>\n",
       "      <td>90</td>\n",
       "      <td>Ships to Bangladesh</td>\n",
       "      <td>Tue, Jun 20</td>\n",
       "      <td>90</td>\n",
       "      <td>1</td>\n",
       "      <td>0</td>\n",
       "    </tr>\n",
       "    <tr>\n",
       "      <th>10213</th>\n",
       "      <td>Just Play The Umbrella Academy 3” Stylized Col...</td>\n",
       "      <td>2</td>\n",
       "      <td>384</td>\n",
       "      <td>2.00</td>\n",
       "      <td>90</td>\n",
       "      <td>Ships to Bangladesh</td>\n",
       "      <td>Tue, Jun 20</td>\n",
       "      <td>90</td>\n",
       "      <td>3</td>\n",
       "      <td>12</td>\n",
       "    </tr>\n",
       "    <tr>\n",
       "      <th>11270</th>\n",
       "      <td>Miyuki HigurashiWhen They Cry – SOTSUHanyu 1:7...</td>\n",
       "      <td>2</td>\n",
       "      <td>32</td>\n",
       "      <td>2.00</td>\n",
       "      <td>90</td>\n",
       "      <td>Ships to Bangladesh</td>\n",
       "      <td>Thu, Jun 22</td>\n",
       "      <td>100</td>\n",
       "      <td>1</td>\n",
       "      <td>0</td>\n",
       "    </tr>\n",
       "  </tbody>\n",
       "</table>\n",
       "</div>"
      ],
      "text/plain": [
       "                                             Descripcion  Precio  Reseñas  \\\n",
       "274                Funko Pop! MoviesBlack Adam - Cyclone       2    15461   \n",
       "478    Marvel BattleworldSeries 2 Treachery at Twilig...       2     1142   \n",
       "10213  Just Play The Umbrella Academy 3” Stylized Col...       2      384   \n",
       "11270  Miyuki HigurashiWhen They Cry – SOTSUHanyu 1:7...       2       32   \n",
       "\n",
       "       Precio Real  Dias sin cargo                Envio Fecha de entrega  \\\n",
       "274          12.99              90  Ships to Bangladesh      Tue, Jun 20   \n",
       "478          19.99              90  Ships to Bangladesh      Tue, Jun 20   \n",
       "10213         2.00              90  Ships to Bangladesh      Tue, Jun 20   \n",
       "11270         2.00              90  Ships to Bangladesh      Thu, Jun 22   \n",
       "\n",
       "       Ventas en meses pasados  Stock  Edad  \n",
       "274                         90      8     4  \n",
       "478                         90      1     0  \n",
       "10213                       90      3    12  \n",
       "11270                      100      1     0  "
      ]
     },
     "execution_count": 14,
     "metadata": {},
     "output_type": "execute_result"
    }
   ],
   "source": [
    "df_precio_min = df[df['Precio']==2]\n",
    "df_precio_min"
   ]
  },
  {
   "cell_type": "code",
   "execution_count": 15,
   "metadata": {},
   "outputs": [
    {
     "name": "stdout",
     "output_type": "stream",
     "text": [
      "Funko Pop! MoviesBlack Adam - Cyclone\n",
      "Marvel BattleworldSeries 2 Treachery at Twilight Battle Ball\n",
      "Just Play The Umbrella Academy 3” Stylized Collectible Figure- Diego, Multi-Color\n",
      "Miyuki HigurashiWhen They Cry – SOTSUHanyu 1:7 Scale PVC Figure,Multicolor\n"
     ]
    }
   ],
   "source": [
    "for i in df_precio_min['Descripcion']:\n",
    "    print(i)"
   ]
  },
  {
   "attachments": {},
   "cell_type": "markdown",
   "metadata": {},
   "source": [
    "Vemos que son cuatro juguetes los que tienen el precio más bajo. Cómo puede apreciarse, el rango etario va de los 0 a 12 años y el stock displonible de cada muñeco varía entre 1 unidad y 8."
   ]
  },
  {
   "attachments": {},
   "cell_type": "markdown",
   "metadata": {},
   "source": [
    "Ahora vamos a crear una columna que nos indique el porcentaje de descuento aplicado sobre el producto, utilizando la columna del  'Precio Real' y la de 'Precio'."
   ]
  },
  {
   "cell_type": "code",
   "execution_count": 16,
   "metadata": {},
   "outputs": [
    {
     "name": "stderr",
     "output_type": "stream",
     "text": [
      "C:\\Users\\usuario\\AppData\\Local\\Temp\\ipykernel_300\\1533223932.py:1: SettingWithCopyWarning: \n",
      "A value is trying to be set on a copy of a slice from a DataFrame.\n",
      "Try using .loc[row_indexer,col_indexer] = value instead\n",
      "\n",
      "See the caveats in the documentation: https://pandas.pydata.org/pandas-docs/stable/user_guide/indexing.html#returning-a-view-versus-a-copy\n",
      "  df_precio_min['Porcentaje de descuento'] = round(((100*(df_precio_min['Precio Real']-df_precio_min['Precio']))/df['Precio Real']), 2)\n"
     ]
    }
   ],
   "source": [
    "df_precio_min['Porcentaje de descuento'] = round(((100*(df_precio_min['Precio Real']-df_precio_min['Precio']))/df['Precio Real']), 2)"
   ]
  },
  {
   "cell_type": "code",
   "execution_count": 17,
   "metadata": {},
   "outputs": [
    {
     "data": {
      "text/html": [
       "<div>\n",
       "<style scoped>\n",
       "    .dataframe tbody tr th:only-of-type {\n",
       "        vertical-align: middle;\n",
       "    }\n",
       "\n",
       "    .dataframe tbody tr th {\n",
       "        vertical-align: top;\n",
       "    }\n",
       "\n",
       "    .dataframe thead th {\n",
       "        text-align: right;\n",
       "    }\n",
       "</style>\n",
       "<table border=\"1\" class=\"dataframe\">\n",
       "  <thead>\n",
       "    <tr style=\"text-align: right;\">\n",
       "      <th></th>\n",
       "      <th>Descripcion</th>\n",
       "      <th>Precio</th>\n",
       "      <th>Reseñas</th>\n",
       "      <th>Precio Real</th>\n",
       "      <th>Dias sin cargo</th>\n",
       "      <th>Envio</th>\n",
       "      <th>Fecha de entrega</th>\n",
       "      <th>Ventas en meses pasados</th>\n",
       "      <th>Stock</th>\n",
       "      <th>Edad</th>\n",
       "      <th>Porcentaje de descuento</th>\n",
       "    </tr>\n",
       "  </thead>\n",
       "  <tbody>\n",
       "    <tr>\n",
       "      <th>274</th>\n",
       "      <td>Funko Pop! MoviesBlack Adam - Cyclone</td>\n",
       "      <td>2</td>\n",
       "      <td>15461</td>\n",
       "      <td>12.99</td>\n",
       "      <td>90</td>\n",
       "      <td>Ships to Bangladesh</td>\n",
       "      <td>Tue, Jun 20</td>\n",
       "      <td>90</td>\n",
       "      <td>8</td>\n",
       "      <td>4</td>\n",
       "      <td>84.60</td>\n",
       "    </tr>\n",
       "    <tr>\n",
       "      <th>478</th>\n",
       "      <td>Marvel BattleworldSeries 2 Treachery at Twilig...</td>\n",
       "      <td>2</td>\n",
       "      <td>1142</td>\n",
       "      <td>19.99</td>\n",
       "      <td>90</td>\n",
       "      <td>Ships to Bangladesh</td>\n",
       "      <td>Tue, Jun 20</td>\n",
       "      <td>90</td>\n",
       "      <td>1</td>\n",
       "      <td>0</td>\n",
       "      <td>89.99</td>\n",
       "    </tr>\n",
       "    <tr>\n",
       "      <th>10213</th>\n",
       "      <td>Just Play The Umbrella Academy 3” Stylized Col...</td>\n",
       "      <td>2</td>\n",
       "      <td>384</td>\n",
       "      <td>2.00</td>\n",
       "      <td>90</td>\n",
       "      <td>Ships to Bangladesh</td>\n",
       "      <td>Tue, Jun 20</td>\n",
       "      <td>90</td>\n",
       "      <td>3</td>\n",
       "      <td>12</td>\n",
       "      <td>0.00</td>\n",
       "    </tr>\n",
       "    <tr>\n",
       "      <th>11270</th>\n",
       "      <td>Miyuki HigurashiWhen They Cry – SOTSUHanyu 1:7...</td>\n",
       "      <td>2</td>\n",
       "      <td>32</td>\n",
       "      <td>2.00</td>\n",
       "      <td>90</td>\n",
       "      <td>Ships to Bangladesh</td>\n",
       "      <td>Thu, Jun 22</td>\n",
       "      <td>100</td>\n",
       "      <td>1</td>\n",
       "      <td>0</td>\n",
       "      <td>0.00</td>\n",
       "    </tr>\n",
       "  </tbody>\n",
       "</table>\n",
       "</div>"
      ],
      "text/plain": [
       "                                             Descripcion  Precio  Reseñas  \\\n",
       "274                Funko Pop! MoviesBlack Adam - Cyclone       2    15461   \n",
       "478    Marvel BattleworldSeries 2 Treachery at Twilig...       2     1142   \n",
       "10213  Just Play The Umbrella Academy 3” Stylized Col...       2      384   \n",
       "11270  Miyuki HigurashiWhen They Cry – SOTSUHanyu 1:7...       2       32   \n",
       "\n",
       "       Precio Real  Dias sin cargo                Envio Fecha de entrega  \\\n",
       "274          12.99              90  Ships to Bangladesh      Tue, Jun 20   \n",
       "478          19.99              90  Ships to Bangladesh      Tue, Jun 20   \n",
       "10213         2.00              90  Ships to Bangladesh      Tue, Jun 20   \n",
       "11270         2.00              90  Ships to Bangladesh      Thu, Jun 22   \n",
       "\n",
       "       Ventas en meses pasados  Stock  Edad  Porcentaje de descuento  \n",
       "274                         90      8     4                    84.60  \n",
       "478                         90      1     0                    89.99  \n",
       "10213                       90      3    12                     0.00  \n",
       "11270                      100      1     0                     0.00  "
      ]
     },
     "execution_count": 17,
     "metadata": {},
     "output_type": "execute_result"
    }
   ],
   "source": [
    "df_precio_min"
   ]
  },
  {
   "attachments": {},
   "cell_type": "markdown",
   "metadata": {},
   "source": [
    "Lo interesante es que, entre los productos con el precio más bajo, podemos encontrar porcentajes de descuento superiores al 84%. Es decir, tales productos están en una rebaja interesante, una verdadera oportunidad para un cliente potencial."
   ]
  },
  {
   "attachments": {},
   "cell_type": "markdown",
   "metadata": {},
   "source": [
    "Ahora bien, el código anterior podemos aplicarlo a todo el DataFrame y analizar los descuentos del mismo."
   ]
  },
  {
   "cell_type": "code",
   "execution_count": 18,
   "metadata": {},
   "outputs": [],
   "source": [
    "df['Porcentaje de descuento'] = round(((100*(df['Precio Real']-df['Precio']))/df['Precio Real']), 2)"
   ]
  },
  {
   "attachments": {},
   "cell_type": "markdown",
   "metadata": {},
   "source": [
    "Vemos que se aplicó la nueva columna"
   ]
  },
  {
   "cell_type": "code",
   "execution_count": 19,
   "metadata": {},
   "outputs": [
    {
     "data": {
      "text/html": [
       "<div>\n",
       "<style scoped>\n",
       "    .dataframe tbody tr th:only-of-type {\n",
       "        vertical-align: middle;\n",
       "    }\n",
       "\n",
       "    .dataframe tbody tr th {\n",
       "        vertical-align: top;\n",
       "    }\n",
       "\n",
       "    .dataframe thead th {\n",
       "        text-align: right;\n",
       "    }\n",
       "</style>\n",
       "<table border=\"1\" class=\"dataframe\">\n",
       "  <thead>\n",
       "    <tr style=\"text-align: right;\">\n",
       "      <th></th>\n",
       "      <th>Descripcion</th>\n",
       "      <th>Precio</th>\n",
       "      <th>Reseñas</th>\n",
       "      <th>Precio Real</th>\n",
       "      <th>Dias sin cargo</th>\n",
       "      <th>Envio</th>\n",
       "      <th>Fecha de entrega</th>\n",
       "      <th>Ventas en meses pasados</th>\n",
       "      <th>Stock</th>\n",
       "      <th>Edad</th>\n",
       "      <th>Porcentaje de descuento</th>\n",
       "    </tr>\n",
       "  </thead>\n",
       "  <tbody>\n",
       "    <tr>\n",
       "      <th>0</th>\n",
       "      <td>Spider-Man Marvel Legends Series Across The Sp...</td>\n",
       "      <td>24</td>\n",
       "      <td>71</td>\n",
       "      <td>24.99</td>\n",
       "      <td>90</td>\n",
       "      <td>Ships to Bangladesh</td>\n",
       "      <td>Tue, Jun 20</td>\n",
       "      <td>200</td>\n",
       "      <td>3</td>\n",
       "      <td>4</td>\n",
       "      <td>3.96</td>\n",
       "    </tr>\n",
       "    <tr>\n",
       "      <th>1</th>\n",
       "      <td>Spider-Man Marvel Legends Series Across The Sp...</td>\n",
       "      <td>22</td>\n",
       "      <td>55</td>\n",
       "      <td>14.99</td>\n",
       "      <td>90</td>\n",
       "      <td>Ships to Bangladesh</td>\n",
       "      <td>Tue, Jun 20</td>\n",
       "      <td>200</td>\n",
       "      <td>3</td>\n",
       "      <td>4</td>\n",
       "      <td>-46.76</td>\n",
       "    </tr>\n",
       "  </tbody>\n",
       "</table>\n",
       "</div>"
      ],
      "text/plain": [
       "                                         Descripcion  Precio  Reseñas  \\\n",
       "0  Spider-Man Marvel Legends Series Across The Sp...      24       71   \n",
       "1  Spider-Man Marvel Legends Series Across The Sp...      22       55   \n",
       "\n",
       "   Precio Real  Dias sin cargo                Envio Fecha de entrega  \\\n",
       "0        24.99              90  Ships to Bangladesh      Tue, Jun 20   \n",
       "1        14.99              90  Ships to Bangladesh      Tue, Jun 20   \n",
       "\n",
       "   Ventas en meses pasados  Stock  Edad  Porcentaje de descuento  \n",
       "0                      200      3     4                     3.96  \n",
       "1                      200      3     4                   -46.76  "
      ]
     },
     "execution_count": 19,
     "metadata": {},
     "output_type": "execute_result"
    }
   ],
   "source": [
    "df.head(2)"
   ]
  },
  {
   "attachments": {},
   "cell_type": "markdown",
   "metadata": {},
   "source": [
    "Las primeras dos filas de este DataFrame en la columna creada nos indican algunas pistas a tener en cuenta. Podemos ver que tenemos porcentajes positivos y negativos. A grandes rasgos encontraríamos tres categorías de porcentajes: i) aquellos productos a los que se les aplicó un descuento (porcentaje positivo mayor a 0), ii) los que aumentaron de precio (porcentaje negativo) y iii) los que permanecieron iguales (porcentaje igual a 0). Vamos a proceder a filtrar el DataFrame siguiendo los criterios anteriores."
   ]
  },
  {
   "attachments": {},
   "cell_type": "markdown",
   "metadata": {},
   "source": [
    "Para facilitar las cosas vamos a crear vamos a crear una función que filtre el DataFrame."
   ]
  },
  {
   "cell_type": "code",
   "execution_count": 20,
   "metadata": {},
   "outputs": [],
   "source": [
    "#La función va a tomar tres argumentos: un dataframe, el nombre de la columna\n",
    "#sobre la cual aplicar el filtro y la condición (mayor, menor o igual a cero)\n",
    "def funcion_filtro(df, nombre_col, condicion):\n",
    "    if condicion.lower() == 'igual a cero':\n",
    "        df_filtrado = df[df[nombre_col]==0]\n",
    "    elif condicion.lower() == 'mayor a cero':\n",
    "        df_filtrado = df[df[nombre_col]>0]\n",
    "    elif condicion.lower() == 'menor a cero':\n",
    "        df_filtrado = df[df[nombre_col]<0]\n",
    "    return df_filtrado"
   ]
  },
  {
   "cell_type": "markdown",
   "metadata": {},
   "source": [
    "### Precio sin descuento"
   ]
  },
  {
   "attachments": {},
   "cell_type": "markdown",
   "metadata": {},
   "source": [
    "Filtramos el DataFrame para aquellas columnas cuyo descuento sea igual a 0."
   ]
  },
  {
   "cell_type": "code",
   "execution_count": 21,
   "metadata": {},
   "outputs": [],
   "source": [
    "sin_descuento = funcion_filtro(df, 'Porcentaje de descuento', 'igual a cero')"
   ]
  },
  {
   "attachments": {},
   "cell_type": "markdown",
   "metadata": {},
   "source": [
    "Confirmamos que se haya aplicado el filtro."
   ]
  },
  {
   "cell_type": "code",
   "execution_count": 22,
   "metadata": {},
   "outputs": [
    {
     "data": {
      "text/html": [
       "<div>\n",
       "<style scoped>\n",
       "    .dataframe tbody tr th:only-of-type {\n",
       "        vertical-align: middle;\n",
       "    }\n",
       "\n",
       "    .dataframe tbody tr th {\n",
       "        vertical-align: top;\n",
       "    }\n",
       "\n",
       "    .dataframe thead th {\n",
       "        text-align: right;\n",
       "    }\n",
       "</style>\n",
       "<table border=\"1\" class=\"dataframe\">\n",
       "  <thead>\n",
       "    <tr style=\"text-align: right;\">\n",
       "      <th></th>\n",
       "      <th>Descripcion</th>\n",
       "      <th>Precio</th>\n",
       "      <th>Reseñas</th>\n",
       "      <th>Precio Real</th>\n",
       "      <th>Dias sin cargo</th>\n",
       "      <th>Envio</th>\n",
       "      <th>Fecha de entrega</th>\n",
       "      <th>Ventas en meses pasados</th>\n",
       "      <th>Stock</th>\n",
       "      <th>Edad</th>\n",
       "      <th>Porcentaje de descuento</th>\n",
       "    </tr>\n",
       "  </thead>\n",
       "  <tbody>\n",
       "    <tr>\n",
       "      <th>17</th>\n",
       "      <td>Gabby's Dollhouse, Deluxe Figure Gift Set with...</td>\n",
       "      <td>22</td>\n",
       "      <td>579</td>\n",
       "      <td>22.0</td>\n",
       "      <td>90</td>\n",
       "      <td>Ships to Bangladesh</td>\n",
       "      <td>Tue, Jun 20</td>\n",
       "      <td>100</td>\n",
       "      <td>3</td>\n",
       "      <td>11</td>\n",
       "      <td>0.0</td>\n",
       "    </tr>\n",
       "    <tr>\n",
       "      <th>18</th>\n",
       "      <td>Transformers Toys Heroic Optimus Prime Action ...</td>\n",
       "      <td>20</td>\n",
       "      <td>10204</td>\n",
       "      <td>20.0</td>\n",
       "      <td>90</td>\n",
       "      <td>Ships to Bangladesh</td>\n",
       "      <td>Tue, Jun 20</td>\n",
       "      <td>100</td>\n",
       "      <td>3</td>\n",
       "      <td>0</td>\n",
       "      <td>0.0</td>\n",
       "    </tr>\n",
       "  </tbody>\n",
       "</table>\n",
       "</div>"
      ],
      "text/plain": [
       "                                          Descripcion  Precio  Reseñas  \\\n",
       "17  Gabby's Dollhouse, Deluxe Figure Gift Set with...      22      579   \n",
       "18  Transformers Toys Heroic Optimus Prime Action ...      20    10204   \n",
       "\n",
       "    Precio Real  Dias sin cargo                Envio Fecha de entrega  \\\n",
       "17         22.0              90  Ships to Bangladesh      Tue, Jun 20   \n",
       "18         20.0              90  Ships to Bangladesh      Tue, Jun 20   \n",
       "\n",
       "    Ventas en meses pasados  Stock  Edad  Porcentaje de descuento  \n",
       "17                      100      3    11                      0.0  \n",
       "18                      100      3     0                      0.0  "
      ]
     },
     "execution_count": 22,
     "metadata": {},
     "output_type": "execute_result"
    }
   ],
   "source": [
    "sin_descuento.head(2)"
   ]
  },
  {
   "attachments": {},
   "cell_type": "markdown",
   "metadata": {},
   "source": [
    "Observamos cuántos artículos únicos no tienen descuento. Para ello vamos a utilizar la columna 'Descripción'."
   ]
  },
  {
   "cell_type": "code",
   "execution_count": 23,
   "metadata": {},
   "outputs": [
    {
     "data": {
      "text/plain": [
       "4900"
      ]
     },
     "execution_count": 23,
     "metadata": {},
     "output_type": "execute_result"
    }
   ],
   "source": [
    "sin_descuento['Descripcion'].nunique()"
   ]
  },
  {
   "attachments": {},
   "cell_type": "markdown",
   "metadata": {},
   "source": [
    "Un elemento a analizar son las ventas en meses pasados que tuvieron estos artículos sin descuento."
   ]
  },
  {
   "attachments": {},
   "cell_type": "markdown",
   "metadata": {},
   "source": [
    "Observamos cuántos artículos tuvieron x cantidad de ventas."
   ]
  },
  {
   "cell_type": "code",
   "execution_count": 24,
   "metadata": {},
   "outputs": [
    {
     "name": "stdout",
     "output_type": "stream",
     "text": [
      "360 artículos tuvieron 100 ventas en los meses pasados\n",
      "\n",
      "173 artículos tuvieron 50 ventas en los meses pasados\n",
      "\n",
      "6098 artículos tuvieron 90 ventas en los meses pasados\n",
      "\n",
      "10 artículos tuvieron 200 ventas en los meses pasados\n",
      "\n"
     ]
    }
   ],
   "source": [
    "for i in sin_descuento['Ventas en meses pasados'].unique():\n",
    "    cantidad_articulos = len(sin_descuento[sin_descuento['Ventas en meses pasados']==i])\n",
    "    print(f'{cantidad_articulos} artículos tuvieron {i} ventas en los meses pasados', end='\\n'*2)"
   ]
  },
  {
   "attachments": {},
   "cell_type": "markdown",
   "metadata": {},
   "source": [
    "Veamos cuál fue el máximo nivel de ventas en los meses pasados de los artículos sin descuento."
   ]
  },
  {
   "cell_type": "code",
   "execution_count": 25,
   "metadata": {},
   "outputs": [
    {
     "data": {
      "text/plain": [
       "200"
      ]
     },
     "execution_count": 25,
     "metadata": {},
     "output_type": "execute_result"
    }
   ],
   "source": [
    "sin_descuento['Ventas en meses pasados'].max()"
   ]
  },
  {
   "attachments": {},
   "cell_type": "markdown",
   "metadata": {},
   "source": [
    "Observemos el mínimo nivel de ventas en los meses pasados de estos mismos artículos."
   ]
  },
  {
   "cell_type": "code",
   "execution_count": 26,
   "metadata": {},
   "outputs": [
    {
     "data": {
      "text/plain": [
       "50"
      ]
     },
     "execution_count": 26,
     "metadata": {},
     "output_type": "execute_result"
    }
   ],
   "source": [
    "sin_descuento['Ventas en meses pasados'].min()"
   ]
  },
  {
   "attachments": {},
   "cell_type": "markdown",
   "metadata": {},
   "source": [
    "Podemos observar que los artículos sin descuento vendieron entre 50-200 unidades en los meses pasados."
   ]
  },
  {
   "attachments": {},
   "cell_type": "markdown",
   "metadata": {},
   "source": [
    "Procedamos a ver los precios de los artículos sin descuento."
   ]
  },
  {
   "cell_type": "code",
   "execution_count": 27,
   "metadata": {},
   "outputs": [
    {
     "name": "stdout",
     "output_type": "stream",
     "text": [
      "El precio mínimo es de $2, mientras que el máximo es de $702\n"
     ]
    }
   ],
   "source": [
    "minimo = sin_descuento['Precio'].min()\n",
    "maximo = sin_descuento['Precio'].max()\n",
    "print(f'El precio mínimo es de ${minimo}, mientras que el máximo es de ${maximo}')"
   ]
  },
  {
   "attachments": {},
   "cell_type": "markdown",
   "metadata": {},
   "source": [
    "Graficamos un histograma para observar dónde se encuentran la mayor cantidad de precios sin descuento."
   ]
  },
  {
   "cell_type": "code",
   "execution_count": 28,
   "metadata": {},
   "outputs": [
    {
     "data": {
      "image/png": "[encoded data removed]",
      "text/plain": [
       "<Figure size 864x648 with 1 Axes>"
      ]
     },
     "metadata": {
      "needs_background": "light"
     },
     "output_type": "display_data"
    }
   ],
   "source": [
    "sin_descuento['Precio'].hist(bins=100, figsize=(12, 9))\n",
    "plt.xlabel('Precio')\n",
    "plt.ylabel('Frecuencia')\n",
    "plt.title('Frecuencia de los precios de los artículos sin descuento')\n",
    "plt.xticks([0, 50, 100, 200, 300, 400, 500, 600, 700])\n",
    "plt.show()"
   ]
  },
  {
   "attachments": {},
   "cell_type": "markdown",
   "metadata": {},
   "source": [
    "La mayor cantidad de precios sin descuento se encuentran entre los &#36;0 y los &#36;50."
   ]
  },
  {
   "attachments": {},
   "cell_type": "markdown",
   "metadata": {},
   "source": [
    "Ahora vamos a realizar un análisis semejante con la columna 'Stock'."
   ]
  },
  {
   "attachments": {},
   "cell_type": "markdown",
   "metadata": {},
   "source": [
    "Veamos el total de artículos sin descuento que se presentan."
   ]
  },
  {
   "cell_type": "code",
   "execution_count": 29,
   "metadata": {},
   "outputs": [
    {
     "data": {
      "text/plain": [
       "39714"
      ]
     },
     "execution_count": 29,
     "metadata": {},
     "output_type": "execute_result"
    }
   ],
   "source": [
    "sin_descuento['Stock'].sum()"
   ]
  },
  {
   "attachments": {},
   "cell_type": "markdown",
   "metadata": {},
   "source": [
    "Observemos los artículos que tienen mayor stock."
   ]
  },
  {
   "cell_type": "code",
   "execution_count": 30,
   "metadata": {},
   "outputs": [
    {
     "data": {
      "text/html": [
       "<div>\n",
       "<style scoped>\n",
       "    .dataframe tbody tr th:only-of-type {\n",
       "        vertical-align: middle;\n",
       "    }\n",
       "\n",
       "    .dataframe tbody tr th {\n",
       "        vertical-align: top;\n",
       "    }\n",
       "\n",
       "    .dataframe thead th {\n",
       "        text-align: right;\n",
       "    }\n",
       "</style>\n",
       "<table border=\"1\" class=\"dataframe\">\n",
       "  <thead>\n",
       "    <tr style=\"text-align: right;\">\n",
       "      <th></th>\n",
       "      <th>Descripcion</th>\n",
       "      <th>Precio</th>\n",
       "      <th>Reseñas</th>\n",
       "      <th>Precio Real</th>\n",
       "      <th>Dias sin cargo</th>\n",
       "      <th>Envio</th>\n",
       "      <th>Fecha de entrega</th>\n",
       "      <th>Ventas en meses pasados</th>\n",
       "      <th>Stock</th>\n",
       "      <th>Edad</th>\n",
       "      <th>Porcentaje de descuento</th>\n",
       "    </tr>\n",
       "  </thead>\n",
       "  <tbody>\n",
       "    <tr>\n",
       "      <th>3354</th>\n",
       "      <td>NEW RAY TOYS Polaris Scale Model</td>\n",
       "      <td>17</td>\n",
       "      <td>414</td>\n",
       "      <td>17.0</td>\n",
       "      <td>90</td>\n",
       "      <td>Ships to Bangladesh</td>\n",
       "      <td>Tue, Jun 20</td>\n",
       "      <td>90</td>\n",
       "      <td>20</td>\n",
       "      <td>16</td>\n",
       "      <td>0.0</td>\n",
       "    </tr>\n",
       "    <tr>\n",
       "      <th>3355</th>\n",
       "      <td>Marvel Legends Series Disney Plus Ms MCU Serie...</td>\n",
       "      <td>16</td>\n",
       "      <td>303</td>\n",
       "      <td>16.0</td>\n",
       "      <td>90</td>\n",
       "      <td>Ships to Bangladesh</td>\n",
       "      <td>Tue, Jun 20</td>\n",
       "      <td>90</td>\n",
       "      <td>20</td>\n",
       "      <td>0</td>\n",
       "      <td>0.0</td>\n",
       "    </tr>\n",
       "    <tr>\n",
       "      <th>3356</th>\n",
       "      <td>Roblox Avatar Shop Series Collection - Level 2...</td>\n",
       "      <td>9</td>\n",
       "      <td>948</td>\n",
       "      <td>9.0</td>\n",
       "      <td>90</td>\n",
       "      <td>Ships to Bangladesh</td>\n",
       "      <td>Tue, Jun 20</td>\n",
       "      <td>90</td>\n",
       "      <td>20</td>\n",
       "      <td>15</td>\n",
       "      <td>0.0</td>\n",
       "    </tr>\n",
       "    <tr>\n",
       "      <th>3357</th>\n",
       "      <td>Terra by Battat – Bunny Hutch – Bunny Rabbit T...</td>\n",
       "      <td>10</td>\n",
       "      <td>4</td>\n",
       "      <td>10.0</td>\n",
       "      <td>90</td>\n",
       "      <td>Ships to Bangladesh</td>\n",
       "      <td>Tue, Jun 20</td>\n",
       "      <td>90</td>\n",
       "      <td>20</td>\n",
       "      <td>0</td>\n",
       "      <td>0.0</td>\n",
       "    </tr>\n",
       "    <tr>\n",
       "      <th>3358</th>\n",
       "      <td>Calico Critters Floating Cloud Rainbow Train, ...</td>\n",
       "      <td>24</td>\n",
       "      <td>630</td>\n",
       "      <td>24.0</td>\n",
       "      <td>90</td>\n",
       "      <td>Ships to Bangladesh</td>\n",
       "      <td>Tue, Jun 20</td>\n",
       "      <td>90</td>\n",
       "      <td>20</td>\n",
       "      <td>0</td>\n",
       "      <td>0.0</td>\n",
       "    </tr>\n",
       "    <tr>\n",
       "      <th>...</th>\n",
       "      <td>...</td>\n",
       "      <td>...</td>\n",
       "      <td>...</td>\n",
       "      <td>...</td>\n",
       "      <td>...</td>\n",
       "      <td>...</td>\n",
       "      <td>...</td>\n",
       "      <td>...</td>\n",
       "      <td>...</td>\n",
       "      <td>...</td>\n",
       "      <td>...</td>\n",
       "    </tr>\n",
       "    <tr>\n",
       "      <th>11140</th>\n",
       "      <td>Orange Rouge Burning KabaddiTatsuya Yoigoshi N...</td>\n",
       "      <td>28</td>\n",
       "      <td>78</td>\n",
       "      <td>28.0</td>\n",
       "      <td>90</td>\n",
       "      <td>Ships to Bangladesh</td>\n",
       "      <td>Tue, Jun 20</td>\n",
       "      <td>100</td>\n",
       "      <td>20</td>\n",
       "      <td>0</td>\n",
       "      <td>0.0</td>\n",
       "    </tr>\n",
       "    <tr>\n",
       "      <th>11141</th>\n",
       "      <td>Teenage Mutant Ninja Turtles 5\" Sewer Shredder...</td>\n",
       "      <td>10</td>\n",
       "      <td>78</td>\n",
       "      <td>10.0</td>\n",
       "      <td>90</td>\n",
       "      <td>Ships to Bangladesh</td>\n",
       "      <td>Tue, Jun 20</td>\n",
       "      <td>100</td>\n",
       "      <td>20</td>\n",
       "      <td>0</td>\n",
       "      <td>0.0</td>\n",
       "    </tr>\n",
       "    <tr>\n",
       "      <th>11142</th>\n",
       "      <td>Schleich Wild Life, Wild Animal Toys for Kids,...</td>\n",
       "      <td>42</td>\n",
       "      <td>78</td>\n",
       "      <td>42.0</td>\n",
       "      <td>90</td>\n",
       "      <td>Ships to Bangladesh</td>\n",
       "      <td>Tue, Jun 20</td>\n",
       "      <td>100</td>\n",
       "      <td>20</td>\n",
       "      <td>0</td>\n",
       "      <td>0.0</td>\n",
       "    </tr>\n",
       "    <tr>\n",
       "      <th>11143</th>\n",
       "      <td>Schleich bayala, 5-Piece Starter Set with Fair...</td>\n",
       "      <td>34</td>\n",
       "      <td>78</td>\n",
       "      <td>34.0</td>\n",
       "      <td>90</td>\n",
       "      <td>&amp; Up</td>\n",
       "      <td>Tue, Jun 20</td>\n",
       "      <td>100</td>\n",
       "      <td>20</td>\n",
       "      <td>18</td>\n",
       "      <td>0.0</td>\n",
       "    </tr>\n",
       "    <tr>\n",
       "      <th>11209</th>\n",
       "      <td>Super7 Run DMC Joseph Run Simmons 3.75 in Reac...</td>\n",
       "      <td>16</td>\n",
       "      <td>949</td>\n",
       "      <td>16.0</td>\n",
       "      <td>90</td>\n",
       "      <td>Ships to Bangladesh</td>\n",
       "      <td>Tue, Jun 20</td>\n",
       "      <td>100</td>\n",
       "      <td>20</td>\n",
       "      <td>0</td>\n",
       "      <td>0.0</td>\n",
       "    </tr>\n",
       "  </tbody>\n",
       "</table>\n",
       "<p>211 rows × 11 columns</p>\n",
       "</div>"
      ],
      "text/plain": [
       "                                             Descripcion  Precio  Reseñas  \\\n",
       "3354                    NEW RAY TOYS Polaris Scale Model      17      414   \n",
       "3355   Marvel Legends Series Disney Plus Ms MCU Serie...      16      303   \n",
       "3356   Roblox Avatar Shop Series Collection - Level 2...       9      948   \n",
       "3357   Terra by Battat – Bunny Hutch – Bunny Rabbit T...      10        4   \n",
       "3358   Calico Critters Floating Cloud Rainbow Train, ...      24      630   \n",
       "...                                                  ...     ...      ...   \n",
       "11140  Orange Rouge Burning KabaddiTatsuya Yoigoshi N...      28       78   \n",
       "11141  Teenage Mutant Ninja Turtles 5\" Sewer Shredder...      10       78   \n",
       "11142  Schleich Wild Life, Wild Animal Toys for Kids,...      42       78   \n",
       "11143  Schleich bayala, 5-Piece Starter Set with Fair...      34       78   \n",
       "11209  Super7 Run DMC Joseph Run Simmons 3.75 in Reac...      16      949   \n",
       "\n",
       "       Precio Real  Dias sin cargo                Envio Fecha de entrega  \\\n",
       "3354          17.0              90  Ships to Bangladesh      Tue, Jun 20   \n",
       "3355          16.0              90  Ships to Bangladesh      Tue, Jun 20   \n",
       "3356           9.0              90  Ships to Bangladesh      Tue, Jun 20   \n",
       "3357          10.0              90  Ships to Bangladesh      Tue, Jun 20   \n",
       "3358          24.0              90  Ships to Bangladesh      Tue, Jun 20   \n",
       "...            ...             ...                  ...              ...   \n",
       "11140         28.0              90  Ships to Bangladesh      Tue, Jun 20   \n",
       "11141         10.0              90  Ships to Bangladesh      Tue, Jun 20   \n",
       "11142         42.0              90  Ships to Bangladesh      Tue, Jun 20   \n",
       "11143         34.0              90                 & Up      Tue, Jun 20   \n",
       "11209         16.0              90  Ships to Bangladesh      Tue, Jun 20   \n",
       "\n",
       "       Ventas en meses pasados  Stock  Edad  Porcentaje de descuento  \n",
       "3354                        90     20    16                      0.0  \n",
       "3355                        90     20     0                      0.0  \n",
       "3356                        90     20    15                      0.0  \n",
       "3357                        90     20     0                      0.0  \n",
       "3358                        90     20     0                      0.0  \n",
       "...                        ...    ...   ...                      ...  \n",
       "11140                      100     20     0                      0.0  \n",
       "11141                      100     20     0                      0.0  \n",
       "11142                      100     20     0                      0.0  \n",
       "11143                      100     20    18                      0.0  \n",
       "11209                      100     20     0                      0.0  \n",
       "\n",
       "[211 rows x 11 columns]"
      ]
     },
     "execution_count": 30,
     "metadata": {},
     "output_type": "execute_result"
    }
   ],
   "source": [
    "sin_descuento[sin_descuento['Stock']==sin_descuento['Stock'].max()]"
   ]
  },
  {
   "cell_type": "markdown",
   "metadata": {},
   "source": [
    "Por la cantidad de filas, sabemos que son 211 los artículos sin descuento con mayor stock."
   ]
  },
  {
   "attachments": {},
   "cell_type": "markdown",
   "metadata": {},
   "source": [
    "De estos artículos que tienen una mayor cantidad de Stock podríamos analizar dos cosas: 1. el precio y 2. las ventas en meses pasados."
   ]
  },
  {
   "attachments": {},
   "cell_type": "markdown",
   "metadata": {},
   "source": [
    "Comencemos con lo primero, veamos dónde se encuentra la mayor cantidad de precios de los artículos sin descuento con la mayor cantidad de stock."
   ]
  },
  {
   "cell_type": "code",
   "execution_count": 31,
   "metadata": {},
   "outputs": [
    {
     "data": {
      "image/png": "[encoded data removed]",
      "text/plain": [
       "<Figure size 864x648 with 1 Axes>"
      ]
     },
     "metadata": {
      "needs_background": "light"
     },
     "output_type": "display_data"
    }
   ],
   "source": [
    "sin_descuento.loc[sin_descuento['Stock']==sin_descuento['Stock'].max(), 'Precio'].hist(bins=100, figsize=(12,9))\n",
    "plt.xlabel('Precio')\n",
    "plt.ylabel('Frecuencia de precio')\n",
    "plt.title('Frecuencia de precio de artículos sin descuento con mayor stock')\n",
    "plt.show()"
   ]
  },
  {
   "attachments": {},
   "cell_type": "markdown",
   "metadata": {},
   "source": [
    "De los artículos sin descuento podemos observar que aquellos que tienen un stock mayor su precio se encuentra en el rango de los &#36;2 a &#36;25 aproximadamente."
   ]
  },
  {
   "cell_type": "markdown",
   "metadata": {},
   "source": [
    "Veamos las ventas en meses pasados que tuvieron estos artículos sin descuento con mayor stock."
   ]
  },
  {
   "cell_type": "code",
   "execution_count": 32,
   "metadata": {},
   "outputs": [
    {
     "data": {
      "text/plain": [
       "90     173\n",
       "100     38\n",
       "Name: Ventas en meses pasados, dtype: int64"
      ]
     },
     "execution_count": 32,
     "metadata": {},
     "output_type": "execute_result"
    }
   ],
   "source": [
    "sin_descuento.loc[sin_descuento['Stock']==sin_descuento['Stock'].max(), 'Ventas en meses pasados'].value_counts()"
   ]
  },
  {
   "cell_type": "markdown",
   "metadata": {},
   "source": [
    "Esto llama la atención, ya que a pesar de ser los artículos con mayor stock dentro de las unidades sin descuento, las ventas en meses pasado no estuvieron mal. Por un lado, tenemos aquellos juguetes que tuvieron 90 ventas en meses pasados y, por el otro, los que tuvieron 100."
   ]
  },
  {
   "cell_type": "markdown",
   "metadata": {},
   "source": [
    "Analicemos ahora los artículos sin descuento con menor stock. Vamos a proceder de la misma manera que en el caso anterior,"
   ]
  },
  {
   "cell_type": "code",
   "execution_count": 33,
   "metadata": {},
   "outputs": [
    {
     "data": {
      "image/png": "[encoded data removed]",
      "text/plain": [
       "<Figure size 864x648 with 1 Axes>"
      ]
     },
     "metadata": {
      "needs_background": "light"
     },
     "output_type": "display_data"
    }
   ],
   "source": [
    "sin_descuento.loc[sin_descuento['Stock']==sin_descuento['Stock'].min(), 'Precio'].hist(bins=100, figsize=(12,9))\n",
    "plt.xlabel('Precio')\n",
    "plt.ylabel('Frecuencia de precio')\n",
    "plt.title('Frecuencia de precio de artículos sin descuento con menor stock')\n",
    "plt.xticks([0, 50, 100, 200, 300, 400])\n",
    "plt.show()"
   ]
  },
  {
   "cell_type": "markdown",
   "metadata": {},
   "source": [
    "En este caso, el rango de precio de los artículos sin descuento con mayor stock se encuentra entre los &#36;2 y &#36;50."
   ]
  },
  {
   "cell_type": "markdown",
   "metadata": {},
   "source": [
    "Respecto de las ventas en meses pasados obtenemos:"
   ]
  },
  {
   "cell_type": "code",
   "execution_count": 34,
   "metadata": {},
   "outputs": [
    {
     "data": {
      "text/plain": [
       "90     1457\n",
       "100     101\n",
       "50       12\n",
       "200      10\n",
       "Name: Ventas en meses pasados, dtype: int64"
      ]
     },
     "execution_count": 34,
     "metadata": {},
     "output_type": "execute_result"
    }
   ],
   "source": [
    "sin_descuento.loc[sin_descuento['Stock']==sin_descuento['Stock'].min(), 'Ventas en meses pasados'].value_counts()"
   ]
  },
  {
   "cell_type": "markdown",
   "metadata": {},
   "source": [
    "Aquí se pueden apreciar números más favorables. Los artículos sin descuento con stock reducido presentan, incluso, 200 ventas en meses pasados. Aunque, este caso es el menos prioritario."
   ]
  },
  {
   "cell_type": "markdown",
   "metadata": {},
   "source": [
    "### Precio con descuento"
   ]
  },
  {
   "cell_type": "markdown",
   "metadata": {},
   "source": [
    "Ahora, vamos a proceder a filtrar nuestro DataFrame, utilizando la función que hemos creado anteriormente, para indagar en aquellos productos que tienen descuento."
   ]
  },
  {
   "cell_type": "code",
   "execution_count": 35,
   "metadata": {},
   "outputs": [],
   "source": [
    "con_descuento = funcion_filtro(df, 'Porcentaje de descuento', 'mayor a cero')"
   ]
  },
  {
   "cell_type": "markdown",
   "metadata": {},
   "source": [
    "Confirmamos que se aplicó el filtro."
   ]
  },
  {
   "cell_type": "code",
   "execution_count": 36,
   "metadata": {},
   "outputs": [
    {
     "data": {
      "text/html": [
       "<div>\n",
       "<style scoped>\n",
       "    .dataframe tbody tr th:only-of-type {\n",
       "        vertical-align: middle;\n",
       "    }\n",
       "\n",
       "    .dataframe tbody tr th {\n",
       "        vertical-align: top;\n",
       "    }\n",
       "\n",
       "    .dataframe thead th {\n",
       "        text-align: right;\n",
       "    }\n",
       "</style>\n",
       "<table border=\"1\" class=\"dataframe\">\n",
       "  <thead>\n",
       "    <tr style=\"text-align: right;\">\n",
       "      <th></th>\n",
       "      <th>Descripcion</th>\n",
       "      <th>Precio</th>\n",
       "      <th>Reseñas</th>\n",
       "      <th>Precio Real</th>\n",
       "      <th>Dias sin cargo</th>\n",
       "      <th>Envio</th>\n",
       "      <th>Fecha de entrega</th>\n",
       "      <th>Ventas en meses pasados</th>\n",
       "      <th>Stock</th>\n",
       "      <th>Edad</th>\n",
       "      <th>Porcentaje de descuento</th>\n",
       "    </tr>\n",
       "  </thead>\n",
       "  <tbody>\n",
       "    <tr>\n",
       "      <th>0</th>\n",
       "      <td>Spider-Man Marvel Legends Series Across The Sp...</td>\n",
       "      <td>24</td>\n",
       "      <td>71</td>\n",
       "      <td>24.99</td>\n",
       "      <td>90</td>\n",
       "      <td>Ships to Bangladesh</td>\n",
       "      <td>Tue, Jun 20</td>\n",
       "      <td>200</td>\n",
       "      <td>3</td>\n",
       "      <td>4</td>\n",
       "      <td>3.96</td>\n",
       "    </tr>\n",
       "    <tr>\n",
       "      <th>2</th>\n",
       "      <td>Fisher-Price Little People Musical Toddler Toy...</td>\n",
       "      <td>7</td>\n",
       "      <td>2895</td>\n",
       "      <td>9.99</td>\n",
       "      <td>90</td>\n",
       "      <td>Ships to Bangladesh</td>\n",
       "      <td>Tue, Jun 20</td>\n",
       "      <td>100</td>\n",
       "      <td>3</td>\n",
       "      <td>1</td>\n",
       "      <td>29.93</td>\n",
       "    </tr>\n",
       "  </tbody>\n",
       "</table>\n",
       "</div>"
      ],
      "text/plain": [
       "                                         Descripcion  Precio  Reseñas  \\\n",
       "0  Spider-Man Marvel Legends Series Across The Sp...      24       71   \n",
       "2  Fisher-Price Little People Musical Toddler Toy...       7     2895   \n",
       "\n",
       "   Precio Real  Dias sin cargo                Envio Fecha de entrega  \\\n",
       "0        24.99              90  Ships to Bangladesh      Tue, Jun 20   \n",
       "2         9.99              90  Ships to Bangladesh      Tue, Jun 20   \n",
       "\n",
       "   Ventas en meses pasados  Stock  Edad  Porcentaje de descuento  \n",
       "0                      200      3     4                     3.96  \n",
       "2                      100      3     1                    29.93  "
      ]
     },
     "execution_count": 36,
     "metadata": {},
     "output_type": "execute_result"
    }
   ],
   "source": [
    "con_descuento.head(2)"
   ]
  },
  {
   "cell_type": "markdown",
   "metadata": {},
   "source": [
    "Veamos aquellos productos que tienen un mayor descuento. Para esto vamos a filtrar nuestro el DataFrame obtenido con la función anterior."
   ]
  },
  {
   "cell_type": "code",
   "execution_count": 37,
   "metadata": {},
   "outputs": [
    {
     "data": {
      "text/html": [
       "<div>\n",
       "<style scoped>\n",
       "    .dataframe tbody tr th:only-of-type {\n",
       "        vertical-align: middle;\n",
       "    }\n",
       "\n",
       "    .dataframe tbody tr th {\n",
       "        vertical-align: top;\n",
       "    }\n",
       "\n",
       "    .dataframe thead th {\n",
       "        text-align: right;\n",
       "    }\n",
       "</style>\n",
       "<table border=\"1\" class=\"dataframe\">\n",
       "  <thead>\n",
       "    <tr style=\"text-align: right;\">\n",
       "      <th></th>\n",
       "      <th>Descripcion</th>\n",
       "      <th>Precio</th>\n",
       "      <th>Reseñas</th>\n",
       "      <th>Precio Real</th>\n",
       "      <th>Dias sin cargo</th>\n",
       "      <th>Envio</th>\n",
       "      <th>Fecha de entrega</th>\n",
       "      <th>Ventas en meses pasados</th>\n",
       "      <th>Stock</th>\n",
       "      <th>Edad</th>\n",
       "      <th>Porcentaje de descuento</th>\n",
       "    </tr>\n",
       "  </thead>\n",
       "  <tbody>\n",
       "    <tr>\n",
       "      <th>5899</th>\n",
       "      <td>Funko Pop! DisneyDug Days - Carl</td>\n",
       "      <td>10</td>\n",
       "      <td>230</td>\n",
       "      <td>499.99</td>\n",
       "      <td>90</td>\n",
       "      <td>Ships to Bangladesh</td>\n",
       "      <td>Tue, Jun 20</td>\n",
       "      <td>90</td>\n",
       "      <td>1</td>\n",
       "      <td>15</td>\n",
       "      <td>98.0</td>\n",
       "    </tr>\n",
       "  </tbody>\n",
       "</table>\n",
       "</div>"
      ],
      "text/plain": [
       "                           Descripcion  Precio  Reseñas  Precio Real  \\\n",
       "5899  Funko Pop! DisneyDug Days - Carl      10      230       499.99   \n",
       "\n",
       "      Dias sin cargo                Envio Fecha de entrega  \\\n",
       "5899              90  Ships to Bangladesh      Tue, Jun 20   \n",
       "\n",
       "      Ventas en meses pasados  Stock  Edad  Porcentaje de descuento  \n",
       "5899                       90      1    15                     98.0  "
      ]
     },
     "execution_count": 37,
     "metadata": {},
     "output_type": "execute_result"
    }
   ],
   "source": [
    "con_descuento.loc[con_descuento['Porcentaje de descuento']==con_descuento['Porcentaje de descuento'].max()]"
   ]
  },
  {
   "cell_type": "markdown",
   "metadata": {},
   "source": [
    "Este producto tuvo una rebaja del 98%. Esto llama la atención, ya que tuvo 90 ventas en meses pasados. Es decir, la rebaja en el precio no se explica por falta de ventas."
   ]
  },
  {
   "cell_type": "markdown",
   "metadata": {},
   "source": [
    "Ejecutamos el mismo filtro, pero para los productos que tuvieron el menor descuento."
   ]
  },
  {
   "cell_type": "code",
   "execution_count": 38,
   "metadata": {},
   "outputs": [
    {
     "data": {
      "text/html": [
       "<div>\n",
       "<style scoped>\n",
       "    .dataframe tbody tr th:only-of-type {\n",
       "        vertical-align: middle;\n",
       "    }\n",
       "\n",
       "    .dataframe tbody tr th {\n",
       "        vertical-align: top;\n",
       "    }\n",
       "\n",
       "    .dataframe thead th {\n",
       "        text-align: right;\n",
       "    }\n",
       "</style>\n",
       "<table border=\"1\" class=\"dataframe\">\n",
       "  <thead>\n",
       "    <tr style=\"text-align: right;\">\n",
       "      <th></th>\n",
       "      <th>Descripcion</th>\n",
       "      <th>Precio</th>\n",
       "      <th>Reseñas</th>\n",
       "      <th>Precio Real</th>\n",
       "      <th>Dias sin cargo</th>\n",
       "      <th>Envio</th>\n",
       "      <th>Fecha de entrega</th>\n",
       "      <th>Ventas en meses pasados</th>\n",
       "      <th>Stock</th>\n",
       "      <th>Edad</th>\n",
       "      <th>Porcentaje de descuento</th>\n",
       "    </tr>\n",
       "  </thead>\n",
       "  <tbody>\n",
       "    <tr>\n",
       "      <th>1369</th>\n",
       "      <td>McFarlane - Mortal Kombat 7\" Figures - Command...</td>\n",
       "      <td>18</td>\n",
       "      <td>318</td>\n",
       "      <td>18.09</td>\n",
       "      <td>90</td>\n",
       "      <td>Ships to Bangladesh</td>\n",
       "      <td>Tue, Jun 20</td>\n",
       "      <td>90</td>\n",
       "      <td>3</td>\n",
       "      <td>0</td>\n",
       "      <td>0.5</td>\n",
       "    </tr>\n",
       "  </tbody>\n",
       "</table>\n",
       "</div>"
      ],
      "text/plain": [
       "                                            Descripcion  Precio  Reseñas  \\\n",
       "1369  McFarlane - Mortal Kombat 7\" Figures - Command...      18      318   \n",
       "\n",
       "      Precio Real  Dias sin cargo                Envio Fecha de entrega  \\\n",
       "1369        18.09              90  Ships to Bangladesh      Tue, Jun 20   \n",
       "\n",
       "      Ventas en meses pasados  Stock  Edad  Porcentaje de descuento  \n",
       "1369                       90      3     0                      0.5  "
      ]
     },
     "execution_count": 38,
     "metadata": {},
     "output_type": "execute_result"
    }
   ],
   "source": [
    "con_descuento.loc[con_descuento['Porcentaje de descuento']==con_descuento['Porcentaje de descuento'].min()]"
   ]
  },
  {
   "cell_type": "markdown",
   "metadata": {},
   "source": [
    "Una rebaja mínima que tampoco se explica por las ventas que tuvo el producto en meses pasados, ya que se vendieron la mismas cantidad de unidades que el artículo anterior. Esto lleva a preguntarnos sobre la calidad de nuestros datos: ¿qué tan fidedigna resulta ser la columna 'Venta en meses pasados'?"
   ]
  },
  {
   "cell_type": "markdown",
   "metadata": {},
   "source": [
    "Luego de haber indagado en los extremos de los productos con descuento veremos en qué precios podemos encontrar la mayor cantidad de productos con descuento."
   ]
  },
  {
   "cell_type": "code",
   "execution_count": 39,
   "metadata": {},
   "outputs": [
    {
     "data": {
      "image/png": "[encoded data removed]",
      "text/plain": [
       "<Figure size 864x648 with 1 Axes>"
      ]
     },
     "metadata": {
      "needs_background": "light"
     },
     "output_type": "display_data"
    }
   ],
   "source": [
    "con_descuento['Precio'].hist(bins=100, figsize=(12, 9))\n",
    "plt.xlabel('Precio')\n",
    "plt.ylabel('Frecuencia')\n",
    "plt.title('Frecuencia de los precios de los artículos con descuento')\n",
    "plt.show()"
   ]
  },
  {
   "cell_type": "markdown",
   "metadata": {},
   "source": [
    "La mayor cantidad de artículos con descuento la encontramos en el rango de los &#36;2 a &#36;20."
   ]
  },
  {
   "cell_type": "markdown",
   "metadata": {},
   "source": [
    "¿En qué rango se encuentra la mayor cantidad de descuentos?"
   ]
  },
  {
   "cell_type": "code",
   "execution_count": 40,
   "metadata": {},
   "outputs": [
    {
     "data": {
      "image/png": "[encoded data removed]",
      "text/plain": [
       "<Figure size 864x648 with 1 Axes>"
      ]
     },
     "metadata": {
      "needs_background": "light"
     },
     "output_type": "display_data"
    }
   ],
   "source": [
    "con_descuento['Porcentaje de descuento'].hist(bins=20, figsize=(12, 9))\n",
    "plt.xlabel('Porcentaje de descuento')\n",
    "plt.ylabel('Frecuencia')\n",
    "plt.title('Frecuencia de los descuentos')\n",
    "plt.xticks([0, 20, 40, 60, 70, 80, 100])\n",
    "plt.show()"
   ]
  },
  {
   "cell_type": "markdown",
   "metadata": {},
   "source": [
    "Aunque los porcentajes de descuento están bastante distribuidos, la mayor cantidad de descuentos se encuentran entre el 40% y el 70% aproximadamente. "
   ]
  },
  {
   "cell_type": "markdown",
   "metadata": {},
   "source": [
    "### Precio con aumento"
   ]
  },
  {
   "cell_type": "markdown",
   "metadata": {},
   "source": [
    "Procedemos a filtrar nuestro DataFrame original con la función que creamos anteriormente."
   ]
  },
  {
   "cell_type": "code",
   "execution_count": 41,
   "metadata": {},
   "outputs": [],
   "source": [
    "con_aumento = funcion_filtro(df, 'Porcentaje de descuento', 'menor a cero')"
   ]
  },
  {
   "cell_type": "markdown",
   "metadata": {},
   "source": [
    "Corroboramos que se haya aplicado el filtro."
   ]
  },
  {
   "cell_type": "code",
   "execution_count": 42,
   "metadata": {},
   "outputs": [
    {
     "data": {
      "text/html": [
       "<div>\n",
       "<style scoped>\n",
       "    .dataframe tbody tr th:only-of-type {\n",
       "        vertical-align: middle;\n",
       "    }\n",
       "\n",
       "    .dataframe tbody tr th {\n",
       "        vertical-align: top;\n",
       "    }\n",
       "\n",
       "    .dataframe thead th {\n",
       "        text-align: right;\n",
       "    }\n",
       "</style>\n",
       "<table border=\"1\" class=\"dataframe\">\n",
       "  <thead>\n",
       "    <tr style=\"text-align: right;\">\n",
       "      <th></th>\n",
       "      <th>Descripcion</th>\n",
       "      <th>Precio</th>\n",
       "      <th>Reseñas</th>\n",
       "      <th>Precio Real</th>\n",
       "      <th>Dias sin cargo</th>\n",
       "      <th>Envio</th>\n",
       "      <th>Fecha de entrega</th>\n",
       "      <th>Ventas en meses pasados</th>\n",
       "      <th>Stock</th>\n",
       "      <th>Edad</th>\n",
       "      <th>Porcentaje de descuento</th>\n",
       "    </tr>\n",
       "  </thead>\n",
       "  <tbody>\n",
       "    <tr>\n",
       "      <th>1</th>\n",
       "      <td>Spider-Man Marvel Legends Series Across The Sp...</td>\n",
       "      <td>22</td>\n",
       "      <td>55</td>\n",
       "      <td>14.99</td>\n",
       "      <td>90</td>\n",
       "      <td>Ships to Bangladesh</td>\n",
       "      <td>Tue, Jun 20</td>\n",
       "      <td>200</td>\n",
       "      <td>3</td>\n",
       "      <td>4</td>\n",
       "      <td>-46.76</td>\n",
       "    </tr>\n",
       "    <tr>\n",
       "      <th>5</th>\n",
       "      <td>Hot Wheels Toy Car Track Set City Ultimate Oct...</td>\n",
       "      <td>42</td>\n",
       "      <td>1434</td>\n",
       "      <td>22.99</td>\n",
       "      <td>90</td>\n",
       "      <td>Ships to Bangladesh</td>\n",
       "      <td>Tue, Jun 20</td>\n",
       "      <td>90</td>\n",
       "      <td>3</td>\n",
       "      <td>0</td>\n",
       "      <td>-82.69</td>\n",
       "    </tr>\n",
       "  </tbody>\n",
       "</table>\n",
       "</div>"
      ],
      "text/plain": [
       "                                         Descripcion  Precio  Reseñas  \\\n",
       "1  Spider-Man Marvel Legends Series Across The Sp...      22       55   \n",
       "5  Hot Wheels Toy Car Track Set City Ultimate Oct...      42     1434   \n",
       "\n",
       "   Precio Real  Dias sin cargo                Envio Fecha de entrega  \\\n",
       "1        14.99              90  Ships to Bangladesh      Tue, Jun 20   \n",
       "5        22.99              90  Ships to Bangladesh      Tue, Jun 20   \n",
       "\n",
       "   Ventas en meses pasados  Stock  Edad  Porcentaje de descuento  \n",
       "1                      200      3     4                   -46.76  \n",
       "5                       90      3     0                   -82.69  "
      ]
     },
     "execution_count": 42,
     "metadata": {},
     "output_type": "execute_result"
    }
   ],
   "source": [
    "con_aumento.head(2)"
   ]
  },
  {
   "cell_type": "markdown",
   "metadata": {},
   "source": [
    "¿Cuál es el producto con el menor aumento? Recordemos que al tratarse de números negativos en el filtro aplicaremos el .max(). Es decir, el número mayor."
   ]
  },
  {
   "cell_type": "code",
   "execution_count": 43,
   "metadata": {},
   "outputs": [
    {
     "data": {
      "text/html": [
       "<div>\n",
       "<style scoped>\n",
       "    .dataframe tbody tr th:only-of-type {\n",
       "        vertical-align: middle;\n",
       "    }\n",
       "\n",
       "    .dataframe tbody tr th {\n",
       "        vertical-align: top;\n",
       "    }\n",
       "\n",
       "    .dataframe thead th {\n",
       "        text-align: right;\n",
       "    }\n",
       "</style>\n",
       "<table border=\"1\" class=\"dataframe\">\n",
       "  <thead>\n",
       "    <tr style=\"text-align: right;\">\n",
       "      <th></th>\n",
       "      <th>Descripcion</th>\n",
       "      <th>Precio</th>\n",
       "      <th>Reseñas</th>\n",
       "      <th>Precio Real</th>\n",
       "      <th>Dias sin cargo</th>\n",
       "      <th>Envio</th>\n",
       "      <th>Fecha de entrega</th>\n",
       "      <th>Ventas en meses pasados</th>\n",
       "      <th>Stock</th>\n",
       "      <th>Edad</th>\n",
       "      <th>Porcentaje de descuento</th>\n",
       "    </tr>\n",
       "  </thead>\n",
       "  <tbody>\n",
       "    <tr>\n",
       "      <th>2659</th>\n",
       "      <td>Super7 Teenage Mutant Ninja Turtles Leonardo -...</td>\n",
       "      <td>44</td>\n",
       "      <td>412</td>\n",
       "      <td>43.99</td>\n",
       "      <td>90</td>\n",
       "      <td>Ships to Bangladesh</td>\n",
       "      <td>Tue, Jun 20</td>\n",
       "      <td>90</td>\n",
       "      <td>3</td>\n",
       "      <td>0</td>\n",
       "      <td>-0.02</td>\n",
       "    </tr>\n",
       "  </tbody>\n",
       "</table>\n",
       "</div>"
      ],
      "text/plain": [
       "                                            Descripcion  Precio  Reseñas  \\\n",
       "2659  Super7 Teenage Mutant Ninja Turtles Leonardo -...      44      412   \n",
       "\n",
       "      Precio Real  Dias sin cargo                Envio Fecha de entrega  \\\n",
       "2659        43.99              90  Ships to Bangladesh      Tue, Jun 20   \n",
       "\n",
       "      Ventas en meses pasados  Stock  Edad  Porcentaje de descuento  \n",
       "2659                       90      3     0                    -0.02  "
      ]
     },
     "execution_count": 43,
     "metadata": {},
     "output_type": "execute_result"
    }
   ],
   "source": [
    "con_aumento[con_aumento['Porcentaje de descuento']==con_aumento['Porcentaje de descuento'].max()]"
   ]
  },
  {
   "cell_type": "markdown",
   "metadata": {},
   "source": [
    "Se trata de un aumento despreciable que no puede explicarse a partir de las ventas en meses pasados. Quizás se deba al bajo stock presente del artículo."
   ]
  },
  {
   "cell_type": "markdown",
   "metadata": {},
   "source": [
    "Observemos ahora el o los productos que mayor aumento tuvieron."
   ]
  },
  {
   "cell_type": "code",
   "execution_count": 44,
   "metadata": {},
   "outputs": [
    {
     "data": {
      "text/html": [
       "<div>\n",
       "<style scoped>\n",
       "    .dataframe tbody tr th:only-of-type {\n",
       "        vertical-align: middle;\n",
       "    }\n",
       "\n",
       "    .dataframe tbody tr th {\n",
       "        vertical-align: top;\n",
       "    }\n",
       "\n",
       "    .dataframe thead th {\n",
       "        text-align: right;\n",
       "    }\n",
       "</style>\n",
       "<table border=\"1\" class=\"dataframe\">\n",
       "  <thead>\n",
       "    <tr style=\"text-align: right;\">\n",
       "      <th></th>\n",
       "      <th>Descripcion</th>\n",
       "      <th>Precio</th>\n",
       "      <th>Reseñas</th>\n",
       "      <th>Precio Real</th>\n",
       "      <th>Dias sin cargo</th>\n",
       "      <th>Envio</th>\n",
       "      <th>Fecha de entrega</th>\n",
       "      <th>Ventas en meses pasados</th>\n",
       "      <th>Stock</th>\n",
       "      <th>Edad</th>\n",
       "      <th>Porcentaje de descuento</th>\n",
       "    </tr>\n",
       "  </thead>\n",
       "  <tbody>\n",
       "    <tr>\n",
       "      <th>10569</th>\n",
       "      <td>Bandai Boys Toys Department - Typhoon 50th Mem...</td>\n",
       "      <td>433</td>\n",
       "      <td>2</td>\n",
       "      <td>13.99</td>\n",
       "      <td>90</td>\n",
       "      <td>Ships to Bangladesh</td>\n",
       "      <td>Tue, Jun 20</td>\n",
       "      <td>90</td>\n",
       "      <td>17</td>\n",
       "      <td>0</td>\n",
       "      <td>-2995.07</td>\n",
       "    </tr>\n",
       "  </tbody>\n",
       "</table>\n",
       "</div>"
      ],
      "text/plain": [
       "                                             Descripcion  Precio  Reseñas  \\\n",
       "10569  Bandai Boys Toys Department - Typhoon 50th Mem...     433        2   \n",
       "\n",
       "       Precio Real  Dias sin cargo                Envio Fecha de entrega  \\\n",
       "10569        13.99              90  Ships to Bangladesh      Tue, Jun 20   \n",
       "\n",
       "       Ventas en meses pasados  Stock  Edad  Porcentaje de descuento  \n",
       "10569                       90     17     0                 -2995.07  "
      ]
     },
     "execution_count": 44,
     "metadata": {},
     "output_type": "execute_result"
    }
   ],
   "source": [
    "con_aumento[con_aumento['Porcentaje de descuento']==con_aumento['Porcentaje de descuento'].min()]"
   ]
  },
  {
   "cell_type": "markdown",
   "metadata": {},
   "source": [
    "Se trata de un aumento desproporcionado. Este producto tiene un stock de 17 unidades, más unidades que el anterior producto. No obstante, su aumento fue sustancialmente mayor. Las ventas en meses pasados es de 90. Nuevamente, deberíamos preguntarnos qué tan real es la información de esta columna, ya que un aumento tan desproporcionado del precio debería poder explicarse por la ley de oferta y demanda. Es decir, a mayor demanda, el precio tiende a subir. "
   ]
  },
  {
   "cell_type": "markdown",
   "metadata": {},
   "source": [
    "Veamos los precios más frecuentes de los productos con aumento."
   ]
  },
  {
   "cell_type": "code",
   "execution_count": 45,
   "metadata": {},
   "outputs": [
    {
     "data": {
      "image/png": "[encoded data removed]",
      "text/plain": [
       "<Figure size 864x648 with 1 Axes>"
      ]
     },
     "metadata": {
      "needs_background": "light"
     },
     "output_type": "display_data"
    }
   ],
   "source": [
    "con_aumento['Precio'].hist(bins=100, figsize=(12, 9))\n",
    "plt.xlabel('Precio')\n",
    "plt.ylabel('Frecuencia')\n",
    "plt.title('Frecuencia de los precios de los artículos con aumento')\n",
    "plt.xticks([0, 50, 100, 200, 300, 400, 500])\n",
    "plt.show()"
   ]
  },
  {
   "cell_type": "markdown",
   "metadata": {},
   "source": [
    "Del gráfico podemos deducir una situación semejante a la de los productos que permanecieron iguales. En este caso, los productos con aumento se encuentran en el rango de &#36;2 a &#36;50."
   ]
  },
  {
   "cell_type": "markdown",
   "metadata": {},
   "source": [
    "La misma pregunta podemos realizarnos para los porcentajes de aumento. Es decir, ¿cuáles fueron los porcentajes de aumento más frecuentes?"
   ]
  },
  {
   "cell_type": "code",
   "execution_count": 46,
   "metadata": {},
   "outputs": [
    {
     "data": {
      "image/png": "[encoded data removed]",
      "text/plain": [
       "<Figure size 864x648 with 1 Axes>"
      ]
     },
     "metadata": {
      "needs_background": "light"
     },
     "output_type": "display_data"
    }
   ],
   "source": [
    "con_aumento['Porcentaje de descuento'].hist(bins=50, figsize=(12, 9))\n",
    "plt.xlabel('Porcentaje de aumento')\n",
    "plt.ylabel('Frecuencia')\n",
    "plt.title('Frecuencia de los aumentos')\n",
    "plt.xticks([-3000, -2500, -2000, -1500, -1000, -500, -150, 0])\n",
    "plt.show()"
   ]
  },
  {
   "cell_type": "markdown",
   "metadata": {},
   "source": [
    "La mayor cantidad de aumentos se dieron entre el 150% y el -0.02%."
   ]
  },
  {
   "cell_type": "markdown",
   "metadata": {},
   "source": [
    "### Una nueva columna"
   ]
  },
  {
   "cell_type": "markdown",
   "metadata": {},
   "source": [
    "Una manera de entender globalmente las tres categorías anteriores es aplicandole una etiqueta a aquellas filas que no tengan descuento, las que lo presenten y las que indiquen un aumento en el precio. Tales etiquetas las vamos a guardar en una nueva columna: 'categoría de descuentos'."
   ]
  },
  {
   "cell_type": "code",
   "execution_count": 47,
   "metadata": {},
   "outputs": [],
   "source": [
    "df.loc[df['Porcentaje de descuento']>0, 'Categoria de descuentos'] = 'Descuento'\n",
    "df.loc[df['Porcentaje de descuento']==0, 'Categoria de descuentos'] = 'Igual'\n",
    "df.loc[df['Porcentaje de descuento']<0, 'Categoria de descuentos'] = 'Aumento'"
   ]
  },
  {
   "cell_type": "markdown",
   "metadata": {},
   "source": [
    "Observamos que se haya aplicado el filtro sobre un sampleo de 5 filas."
   ]
  },
  {
   "cell_type": "code",
   "execution_count": 48,
   "metadata": {},
   "outputs": [
    {
     "data": {
      "text/html": [
       "<div>\n",
       "<style scoped>\n",
       "    .dataframe tbody tr th:only-of-type {\n",
       "        vertical-align: middle;\n",
       "    }\n",
       "\n",
       "    .dataframe tbody tr th {\n",
       "        vertical-align: top;\n",
       "    }\n",
       "\n",
       "    .dataframe thead th {\n",
       "        text-align: right;\n",
       "    }\n",
       "</style>\n",
       "<table border=\"1\" class=\"dataframe\">\n",
       "  <thead>\n",
       "    <tr style=\"text-align: right;\">\n",
       "      <th></th>\n",
       "      <th>Descripcion</th>\n",
       "      <th>Precio</th>\n",
       "      <th>Reseñas</th>\n",
       "      <th>Precio Real</th>\n",
       "      <th>Dias sin cargo</th>\n",
       "      <th>Envio</th>\n",
       "      <th>Fecha de entrega</th>\n",
       "      <th>Ventas en meses pasados</th>\n",
       "      <th>Stock</th>\n",
       "      <th>Edad</th>\n",
       "      <th>Porcentaje de descuento</th>\n",
       "      <th>Categoria de descuentos</th>\n",
       "    </tr>\n",
       "  </thead>\n",
       "  <tbody>\n",
       "    <tr>\n",
       "      <th>3913</th>\n",
       "      <td>Calico Critters Floating Cloud Rainbow Train, ...</td>\n",
       "      <td>28</td>\n",
       "      <td>630</td>\n",
       "      <td>28.00</td>\n",
       "      <td>90</td>\n",
       "      <td>Ships to Bangladesh</td>\n",
       "      <td>Thu, Jun 22</td>\n",
       "      <td>90</td>\n",
       "      <td>3</td>\n",
       "      <td>4</td>\n",
       "      <td>0.00</td>\n",
       "      <td>Igual</td>\n",
       "    </tr>\n",
       "    <tr>\n",
       "      <th>5267</th>\n",
       "      <td>Bandai Hobby Machinedramon Amplified) Digimon,...</td>\n",
       "      <td>49</td>\n",
       "      <td>45</td>\n",
       "      <td>49.00</td>\n",
       "      <td>90</td>\n",
       "      <td>Ships to Bangladesh</td>\n",
       "      <td>Tue, Jun 20</td>\n",
       "      <td>90</td>\n",
       "      <td>2</td>\n",
       "      <td>0</td>\n",
       "      <td>0.00</td>\n",
       "      <td>Igual</td>\n",
       "    </tr>\n",
       "    <tr>\n",
       "      <th>3552</th>\n",
       "      <td>Marvel Legends Mighty Thor Mjolnir Premium Ele...</td>\n",
       "      <td>24</td>\n",
       "      <td>145</td>\n",
       "      <td>24.00</td>\n",
       "      <td>90</td>\n",
       "      <td>Ships to Bangladesh</td>\n",
       "      <td>Tue, Jun 20</td>\n",
       "      <td>90</td>\n",
       "      <td>5</td>\n",
       "      <td>6</td>\n",
       "      <td>0.00</td>\n",
       "      <td>Igual</td>\n",
       "    </tr>\n",
       "    <tr>\n",
       "      <th>2481</th>\n",
       "      <td>Marvel Legends Series Black Panther Legacy Col...</td>\n",
       "      <td>37</td>\n",
       "      <td>117</td>\n",
       "      <td>24.99</td>\n",
       "      <td>90</td>\n",
       "      <td>Ships to Bangladesh</td>\n",
       "      <td>Tue, Jun 20</td>\n",
       "      <td>90</td>\n",
       "      <td>2</td>\n",
       "      <td>0</td>\n",
       "      <td>-48.06</td>\n",
       "      <td>Aumento</td>\n",
       "    </tr>\n",
       "    <tr>\n",
       "      <th>8351</th>\n",
       "      <td>Good Smile Nendoroid Playset 10Chinese Study S...</td>\n",
       "      <td>63</td>\n",
       "      <td>45</td>\n",
       "      <td>24.99</td>\n",
       "      <td>90</td>\n",
       "      <td>Ships to Bangladesh</td>\n",
       "      <td>Tue, Jun 20</td>\n",
       "      <td>90</td>\n",
       "      <td>5</td>\n",
       "      <td>0</td>\n",
       "      <td>-152.10</td>\n",
       "      <td>Aumento</td>\n",
       "    </tr>\n",
       "  </tbody>\n",
       "</table>\n",
       "</div>"
      ],
      "text/plain": [
       "                                            Descripcion  Precio  Reseñas  \\\n",
       "3913  Calico Critters Floating Cloud Rainbow Train, ...      28      630   \n",
       "5267  Bandai Hobby Machinedramon Amplified) Digimon,...      49       45   \n",
       "3552  Marvel Legends Mighty Thor Mjolnir Premium Ele...      24      145   \n",
       "2481  Marvel Legends Series Black Panther Legacy Col...      37      117   \n",
       "8351  Good Smile Nendoroid Playset 10Chinese Study S...      63       45   \n",
       "\n",
       "      Precio Real  Dias sin cargo                Envio Fecha de entrega  \\\n",
       "3913        28.00              90  Ships to Bangladesh      Thu, Jun 22   \n",
       "5267        49.00              90  Ships to Bangladesh      Tue, Jun 20   \n",
       "3552        24.00              90  Ships to Bangladesh      Tue, Jun 20   \n",
       "2481        24.99              90  Ships to Bangladesh      Tue, Jun 20   \n",
       "8351        24.99              90  Ships to Bangladesh      Tue, Jun 20   \n",
       "\n",
       "      Ventas en meses pasados  Stock  Edad  Porcentaje de descuento  \\\n",
       "3913                       90      3     4                     0.00   \n",
       "5267                       90      2     0                     0.00   \n",
       "3552                       90      5     6                     0.00   \n",
       "2481                       90      2     0                   -48.06   \n",
       "8351                       90      5     0                  -152.10   \n",
       "\n",
       "     Categoria de descuentos  \n",
       "3913                   Igual  \n",
       "5267                   Igual  \n",
       "3552                   Igual  \n",
       "2481                 Aumento  \n",
       "8351                 Aumento  "
      ]
     },
     "execution_count": 48,
     "metadata": {},
     "output_type": "execute_result"
    }
   ],
   "source": [
    "df.sample(5)"
   ]
  },
  {
   "cell_type": "markdown",
   "metadata": {},
   "source": [
    "Ahora vamos a ver qué porcentaje representan los aumentos, descuentos y los precios iguales. Para eso vamos a recurrir a un gráfico de tortas."
   ]
  },
  {
   "cell_type": "code",
   "execution_count": 49,
   "metadata": {},
   "outputs": [
    {
     "data": {
      "image/png": "[encoded data removed]",
      "text/plain": [
       "<Figure size 720x576 with 1 Axes>"
      ]
     },
     "metadata": {},
     "output_type": "display_data"
    }
   ],
   "source": [
    "#Asignamos un nombre a la serie generada en la columna 'Categoria de descuentos'.\n",
    "cuenta_categoria_de_descuentos = df['Categoria de descuentos'].value_counts()\n",
    "cuenta_categoria_de_descuentos.plot(figsize=(10, 8), kind='pie', autopct='%1.1f%%')\n",
    "plt.legend()\n",
    "plt.title('Porcentaje de descuentos, aumentos y matenimientos de precio')\n",
    "plt.show()"
   ]
  },
  {
   "cell_type": "markdown",
   "metadata": {},
   "source": [
    "El gráfico nos demuestra que en nuestro DataFrame tenemos más artículos cuyo precio se mantuvo igual. Luego, tienen mayor peso los productos con descuento, dando paso a los productos con aumento en el último lugar."
   ]
  },
  {
   "cell_type": "markdown",
   "metadata": {},
   "source": [
    "## La columna reseñas"
   ]
  },
  {
   "cell_type": "markdown",
   "metadata": {},
   "source": [
    "En este caso, vamos a automatizar una parte bàsica del análisis que consiste en obtener los valores máximos y mínimos de una columna. Para evitar todo el código de filtrado creamos la función que toma como argumento un dataframe y a una columna."
   ]
  },
  {
   "cell_type": "code",
   "execution_count": 50,
   "metadata": {},
   "outputs": [],
   "source": [
    "def analisis_basico(df, nombre_col):\n",
    "    minimo = df[nombre_col].min()\n",
    "    maximo = df[nombre_col].max()\n",
    "    return f'Los valores máximos de la columna {nombre_col} son {maximo}, mientras que los mínimos son {minimo}'"
   ]
  },
  {
   "cell_type": "code",
   "execution_count": 51,
   "metadata": {},
   "outputs": [
    {
     "data": {
      "text/plain": [
       "'Los valores máximos de la columna Reseñas son 96849, mientras que los mínimos son 1'"
      ]
     },
     "execution_count": 51,
     "metadata": {},
     "output_type": "execute_result"
    }
   ],
   "source": [
    "analisis_basico(df, 'Reseñas')"
   ]
  },
  {
   "cell_type": "markdown",
   "metadata": {},
   "source": [
    "Filtremos el DataFrame con el valor máximo de la columna 'Reseñas'."
   ]
  },
  {
   "cell_type": "code",
   "execution_count": 52,
   "metadata": {},
   "outputs": [
    {
     "data": {
      "text/html": [
       "<div>\n",
       "<style scoped>\n",
       "    .dataframe tbody tr th:only-of-type {\n",
       "        vertical-align: middle;\n",
       "    }\n",
       "\n",
       "    .dataframe tbody tr th {\n",
       "        vertical-align: top;\n",
       "    }\n",
       "\n",
       "    .dataframe thead th {\n",
       "        text-align: right;\n",
       "    }\n",
       "</style>\n",
       "<table border=\"1\" class=\"dataframe\">\n",
       "  <thead>\n",
       "    <tr style=\"text-align: right;\">\n",
       "      <th></th>\n",
       "      <th>Descripcion</th>\n",
       "      <th>Precio</th>\n",
       "      <th>Reseñas</th>\n",
       "      <th>Precio Real</th>\n",
       "      <th>Dias sin cargo</th>\n",
       "      <th>Envio</th>\n",
       "      <th>Fecha de entrega</th>\n",
       "      <th>Ventas en meses pasados</th>\n",
       "      <th>Stock</th>\n",
       "      <th>Edad</th>\n",
       "      <th>Porcentaje de descuento</th>\n",
       "      <th>Categoria de descuentos</th>\n",
       "    </tr>\n",
       "  </thead>\n",
       "  <tbody>\n",
       "    <tr>\n",
       "      <th>35</th>\n",
       "      <td>Legends of Akedo Exclusive Button Bash Collect...</td>\n",
       "      <td>29</td>\n",
       "      <td>96849</td>\n",
       "      <td>21.99</td>\n",
       "      <td>90</td>\n",
       "      <td>Ships to Bangladesh</td>\n",
       "      <td>Tue, Jun 20</td>\n",
       "      <td>90</td>\n",
       "      <td>8</td>\n",
       "      <td>0</td>\n",
       "      <td>-31.88</td>\n",
       "      <td>Aumento</td>\n",
       "    </tr>\n",
       "  </tbody>\n",
       "</table>\n",
       "</div>"
      ],
      "text/plain": [
       "                                          Descripcion  Precio  Reseñas  \\\n",
       "35  Legends of Akedo Exclusive Button Bash Collect...      29    96849   \n",
       "\n",
       "    Precio Real  Dias sin cargo                Envio Fecha de entrega  \\\n",
       "35        21.99              90  Ships to Bangladesh      Tue, Jun 20   \n",
       "\n",
       "    Ventas en meses pasados  Stock  Edad  Porcentaje de descuento  \\\n",
       "35                       90      8     0                   -31.88   \n",
       "\n",
       "   Categoria de descuentos  \n",
       "35                 Aumento  "
      ]
     },
     "execution_count": 52,
     "metadata": {},
     "output_type": "execute_result"
    }
   ],
   "source": [
    "df[df['Reseñas']==df['Reseñas'].max()]"
   ]
  },
  {
   "cell_type": "markdown",
   "metadata": {},
   "source": [
    "Se trata de un artículo con una gran cantidad de reseñas y que tuvo un aumento. Esto nos lleva a preguntarnos: ¿los artículos con muchas reseñas tienden a aumentar o a disminuir en su precio?"
   ]
  },
  {
   "cell_type": "markdown",
   "metadata": {},
   "source": [
    "Antes de contestar la pregunta anterior vamos a filtrar el DataFrame por el valor mínimo de 'Reseñas'."
   ]
  },
  {
   "cell_type": "code",
   "execution_count": 53,
   "metadata": {},
   "outputs": [
    {
     "data": {
      "text/plain": [
       "(217, 12)"
      ]
     },
     "execution_count": 53,
     "metadata": {},
     "output_type": "execute_result"
    }
   ],
   "source": [
    "resenas_minimo = df[df['Reseñas']==df['Reseñas'].min()]\n",
    "resenas_minimo.shape"
   ]
  },
  {
   "cell_type": "markdown",
   "metadata": {},
   "source": [
    "Tenemos un DataFrame filtrado con 217 columnas. Podemos contabilizar la categoría de descuentos dentro de este DataFrame filtrado."
   ]
  },
  {
   "cell_type": "code",
   "execution_count": 54,
   "metadata": {},
   "outputs": [
    {
     "data": {
      "text/plain": [
       "Categoria de descuentos\n",
       "Igual        95\n",
       "Aumento      61\n",
       "Descuento    61\n",
       "dtype: int64"
      ]
     },
     "execution_count": 54,
     "metadata": {},
     "output_type": "execute_result"
    }
   ],
   "source": [
    "resenas_minimo.value_counts('Categoria de descuentos')"
   ]
  },
  {
   "cell_type": "markdown",
   "metadata": {},
   "source": [
    "Los productos con la menor cantidad de reseñas (1) tienen la misma cantidad de aumento que de descuento. Es decir, hay tantos productos con aumento como productos con descuento. "
   ]
  },
  {
   "cell_type": "markdown",
   "metadata": {},
   "source": [
    "¿Los artículos con muchas reseñas tienden a aumentar o a disminuir en su precio? Para responder a esta pregunta vamos a realizar un Scatterplot. Para que sea más claro, tal gráfico se realizará sobre los tres DataFrames filtrados anteriormente."
   ]
  },
  {
   "cell_type": "code",
   "execution_count": 55,
   "metadata": {},
   "outputs": [
    {
     "data": {
      "text/plain": [
       "<AxesSubplot: xlabel='Reseñas', ylabel='Precio'>"
      ]
     },
     "execution_count": 55,
     "metadata": {},
     "output_type": "execute_result"
    },
    {
     "data": {
      "image/png": "[encoded data removed]",
      "text/plain": [
       "<Figure size 432x288 with 1 Axes>"
      ]
     },
     "metadata": {
      "needs_background": "light"
     },
     "output_type": "display_data"
    }
   ],
   "source": [
    "x = sin_descuento['Reseñas']\n",
    "y = sin_descuento['Precio']\n",
    "sns.scatterplot(x=x, y=y)"
   ]
  },
  {
   "cell_type": "code",
   "execution_count": 56,
   "metadata": {},
   "outputs": [
    {
     "data": {
      "text/plain": [
       "<AxesSubplot: xlabel='Reseñas', ylabel='Precio'>"
      ]
     },
     "execution_count": 56,
     "metadata": {},
     "output_type": "execute_result"
    },
    {
     "data": {
      "image/png": "[encoded data removed]",
      "text/plain": [
       "<Figure size 432x288 with 1 Axes>"
      ]
     },
     "metadata": {
      "needs_background": "light"
     },
     "output_type": "display_data"
    }
   ],
   "source": [
    "x = con_descuento['Reseñas']\n",
    "y = con_descuento['Precio']\n",
    "sns.scatterplot(x=x, y=y)"
   ]
  },
  {
   "cell_type": "code",
   "execution_count": 57,
   "metadata": {},
   "outputs": [
    {
     "data": {
      "text/plain": [
       "<AxesSubplot: xlabel='Reseñas', ylabel='Precio'>"
      ]
     },
     "execution_count": 57,
     "metadata": {},
     "output_type": "execute_result"
    },
    {
     "data": {
      "image/png": "[encoded data removed]",
      "text/plain": [
       "<Figure size 432x288 with 1 Axes>"
      ]
     },
     "metadata": {
      "needs_background": "light"
     },
     "output_type": "display_data"
    }
   ],
   "source": [
    "x = con_aumento['Reseñas']\n",
    "y = con_aumento['Precio']\n",
    "sns.scatterplot(x=x, y=y)"
   ]
  },
  {
   "cell_type": "markdown",
   "metadata": {},
   "source": [
    "No parece haber una correlaciòn entre el precio y las reseñas, ya que en algunos casos el precio de los artículos tiende a aumentar, mientras que en otros no."
   ]
  },
  {
   "cell_type": "markdown",
   "metadata": {},
   "source": [
    "## Columna Edad"
   ]
  },
  {
   "cell_type": "markdown",
   "metadata": {},
   "source": [
    "Para analizar la columna edad vamos a crear 4 categorìas:\n",
    "\n",
    "* Infantes: 0-14 años.\n",
    "* Jovenes: 15-26 años.\n",
    "* Adultos: 27-59 años.\n",
    "* Mayores: <=60\n",
    "\n",
    "Agregando dichas etiquetas en una columna diferenciada que se va a llamar 'Categoria edad'."
   ]
  },
  {
   "cell_type": "code",
   "execution_count": 64,
   "metadata": {},
   "outputs": [],
   "source": [
    "df.loc[(df['Edad']>=0)&(df['Edad']<15), 'Categoria edad'] = 'Infantes'\n",
    "df.loc[(df['Edad']>=15)&(df['Edad']<27), 'Categoria edad'] = 'Jovenes'\n",
    "df.loc[(df['Edad']>=27)&(df['Edad']<60), 'Categoria edad'] = 'Adultos'\n",
    "df.loc[(df['Edad']>=60), 'Categoria edad'] = 'Mayores'"
   ]
  },
  {
   "cell_type": "markdown",
   "metadata": {},
   "source": [
    "Observemos si se aplicaron los cambios"
   ]
  },
  {
   "cell_type": "code",
   "execution_count": 59,
   "metadata": {},
   "outputs": [
    {
     "data": {
      "text/html": [
       "<div>\n",
       "<style scoped>\n",
       "    .dataframe tbody tr th:only-of-type {\n",
       "        vertical-align: middle;\n",
       "    }\n",
       "\n",
       "    .dataframe tbody tr th {\n",
       "        vertical-align: top;\n",
       "    }\n",
       "\n",
       "    .dataframe thead th {\n",
       "        text-align: right;\n",
       "    }\n",
       "</style>\n",
       "<table border=\"1\" class=\"dataframe\">\n",
       "  <thead>\n",
       "    <tr style=\"text-align: right;\">\n",
       "      <th></th>\n",
       "      <th>Descripcion</th>\n",
       "      <th>Precio</th>\n",
       "      <th>Reseñas</th>\n",
       "      <th>Precio Real</th>\n",
       "      <th>Dias sin cargo</th>\n",
       "      <th>Envio</th>\n",
       "      <th>Fecha de entrega</th>\n",
       "      <th>Ventas en meses pasados</th>\n",
       "      <th>Stock</th>\n",
       "      <th>Edad</th>\n",
       "      <th>Porcentaje de descuento</th>\n",
       "      <th>Categoria de descuentos</th>\n",
       "      <th>Categoria edad</th>\n",
       "    </tr>\n",
       "  </thead>\n",
       "  <tbody>\n",
       "    <tr>\n",
       "      <th>0</th>\n",
       "      <td>Spider-Man Marvel Legends Series Across The Sp...</td>\n",
       "      <td>24</td>\n",
       "      <td>71</td>\n",
       "      <td>24.99</td>\n",
       "      <td>90</td>\n",
       "      <td>Ships to Bangladesh</td>\n",
       "      <td>Tue, Jun 20</td>\n",
       "      <td>200</td>\n",
       "      <td>3</td>\n",
       "      <td>4</td>\n",
       "      <td>3.96</td>\n",
       "      <td>Descuento</td>\n",
       "      <td>Infantes</td>\n",
       "    </tr>\n",
       "    <tr>\n",
       "      <th>1</th>\n",
       "      <td>Spider-Man Marvel Legends Series Across The Sp...</td>\n",
       "      <td>22</td>\n",
       "      <td>55</td>\n",
       "      <td>14.99</td>\n",
       "      <td>90</td>\n",
       "      <td>Ships to Bangladesh</td>\n",
       "      <td>Tue, Jun 20</td>\n",
       "      <td>200</td>\n",
       "      <td>3</td>\n",
       "      <td>4</td>\n",
       "      <td>-46.76</td>\n",
       "      <td>Aumento</td>\n",
       "      <td>Infantes</td>\n",
       "    </tr>\n",
       "  </tbody>\n",
       "</table>\n",
       "</div>"
      ],
      "text/plain": [
       "                                         Descripcion  Precio  Reseñas  \\\n",
       "0  Spider-Man Marvel Legends Series Across The Sp...      24       71   \n",
       "1  Spider-Man Marvel Legends Series Across The Sp...      22       55   \n",
       "\n",
       "   Precio Real  Dias sin cargo                Envio Fecha de entrega  \\\n",
       "0        24.99              90  Ships to Bangladesh      Tue, Jun 20   \n",
       "1        14.99              90  Ships to Bangladesh      Tue, Jun 20   \n",
       "\n",
       "   Ventas en meses pasados  Stock  Edad  Porcentaje de descuento  \\\n",
       "0                      200      3     4                     3.96   \n",
       "1                      200      3     4                   -46.76   \n",
       "\n",
       "  Categoria de descuentos Categoria edad  \n",
       "0               Descuento       Infantes  \n",
       "1                 Aumento       Infantes  "
      ]
     },
     "execution_count": 59,
     "metadata": {},
     "output_type": "execute_result"
    }
   ],
   "source": [
    "df.head(2)"
   ]
  },
  {
   "cell_type": "markdown",
   "metadata": {},
   "source": [
    "Veamos brevemente la distribución de las categorías."
   ]
  },
  {
   "cell_type": "code",
   "execution_count": 65,
   "metadata": {},
   "outputs": [
    {
     "data": {
      "text/plain": [
       "Infantes    10191\n",
       "Jovenes      1007\n",
       "Adultos       202\n",
       "Mayores         2\n",
       "Name: Categoria edad, dtype: int64"
      ]
     },
     "execution_count": 65,
     "metadata": {},
     "output_type": "execute_result"
    }
   ],
   "source": [
    "df['Categoria edad'].value_counts()"
   ]
  },
  {
   "cell_type": "markdown",
   "metadata": {},
   "source": [
    "¿Cuàl es la mayor y menor edad?"
   ]
  },
  {
   "cell_type": "code",
   "execution_count": 66,
   "metadata": {},
   "outputs": [
    {
     "name": "stdout",
     "output_type": "stream",
     "text": [
      "La menor edad es 0, mientras que la mayor es 66\n"
     ]
    }
   ],
   "source": [
    "menor = df['Edad'].min()\n",
    "mayor = df['Edad'].max()\n",
    "print(f'La menor edad es {menor}, mientras que la mayor es {mayor}')"
   ]
  },
  {
   "cell_type": "markdown",
   "metadata": {},
   "source": [
    "Observemos la distribuciòn de las edades en un diagràma de tortas."
   ]
  },
  {
   "cell_type": "code",
   "execution_count": 145,
   "metadata": {},
   "outputs": [
    {
     "data": {
      "image/png": "[encoded data removed]",
      "text/plain": [
       "<Figure size 720x576 with 1 Axes>"
      ]
     },
     "metadata": {},
     "output_type": "display_data"
    }
   ],
   "source": [
    "valores_categoricos_edad = df['Categoria edad'].value_counts()\n",
    "valores_categoricos_edad.plot(figsize=(10, 8), kind='pie', autopct='%0.0f%%', fontsize=15)\n",
    "plt.legend(fontsize=12)\n",
    "plt.title('Distribuciòn de categorìa de edades', fontsize=15)\n",
    "plt.show()"
   ]
  }
 ],
 "metadata": {
  "kernelspec": {
   "display_name": "Python 3",
   "language": "python",
   "name": "python3"
  },
  "language_info": {
   "codemirror_mode": {
    "name": "ipython",
    "version": 3
   },
   "file_extension": ".py",
   "mimetype": "text/x-python",
   "name": "python",
   "nbconvert_exporter": "python",
   "pygments_lexer": "ipython3",
   "version": "3.10.5"
  },
  "orig_nbformat": 4
 },
 "nbformat": 4,
 "nbformat_minor": 2
}
